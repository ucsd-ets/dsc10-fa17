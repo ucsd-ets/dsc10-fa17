{
 "cells": [
  {
   "cell_type": "markdown",
   "metadata": {},
   "source": [
    "# Homework10 - Regression and Classification\n",
    "\n",
    "**Run the cell below** to prepare the automatic tests. **Passing the automatic tests does not guarantee full credit on any question.** The tests are provided to help catch some common errors, but it is your responsibility to answer the questions correctly."
   ]
  },
  {
   "cell_type": "code",
   "execution_count": null,
   "metadata": {},
   "outputs": [],
   "source": [
    "# Run this cell, but please don't change it.\n",
    "\n",
    "import numpy as np\n",
    "import math\n",
    "from datascience import *\n",
    "\n",
    "# These lines set up the plotting functionality and formatting.\n",
    "import matplotlib\n",
    "matplotlib.use('Agg', warn=False)\n",
    "%matplotlib inline\n",
    "import matplotlib.pyplot as plt\n",
    "plt.style.use('fivethirtyeight')\n",
    "\n",
    "\n",
    "# These lines load the tests.\n",
    "from client.api.notebook import Notebook\n",
    "ok = Notebook('hw10.ok')\n",
    "_ = ok.auth(inline=True)"
   ]
  },
  {
   "cell_type": "markdown",
   "metadata": {},
   "source": [
    "# 0. The Data Set\n",
    "\n",
    "The data set we will use for this project contains information about crime rates, murder rates, and total population of the United States grouped by state and year. The data includes each of the 50 states and each each year from 1960 to 2003. Run the cells below to explore the data table. Below, you will learn how the entries of this table are calulated."
   ]
  },
  {
   "cell_type": "code",
   "execution_count": null,
   "metadata": {},
   "outputs": [],
   "source": [
    "data = Table.read_table('crime_rates.csv')\n",
    "data.sort(\"State\")"
   ]
  },
  {
   "cell_type": "code",
   "execution_count": null,
   "metadata": {},
   "outputs": [],
   "source": [
    "data.where(\"Year\", 2003)"
   ]
  },
  {
   "cell_type": "code",
   "execution_count": null,
   "metadata": {
    "scrolled": true
   },
   "outputs": [],
   "source": [
    "data.where(\"State\", \"California\")"
   ]
  },
  {
   "cell_type": "markdown",
   "metadata": {},
   "source": [
    "**Question 0.1**  Each crime rate defined in the table above is calculated in the following way:\n",
    "\n",
    "$$\\text{crime rate for crime C in state X in year Y} = \\frac{\\text{number of people committing crime C in state X in year Y}}{\\text{population in state X in year Y}}*100000$$\n",
    "\n",
    "\n",
    "In other words, the crime rate entries of the table represent the number of crimes per 100000 people in a given state in a given year. \n",
    "\n",
    "Based on the equation above, how many more people committed a *robbery* in California in 1980 than in 1960? Store the result in a variable `ca_robbery_increase`. You may not calculate the answer by hand and store the value to the variable; your code must show the entire calculation from the data table. Do not round your answer."
   ]
  },
  {
   "cell_type": "code",
   "execution_count": null,
   "metadata": {},
   "outputs": [],
   "source": [
    "ca_robbery_increase = ...\n",
    "ca_robbery"
   ]
  },
  {
   "cell_type": "code",
   "execution_count": null,
   "metadata": {},
   "outputs": [],
   "source": [
    "_ = ok.grade('q01')"
   ]
  },
  {
   "cell_type": "markdown",
   "metadata": {},
   "source": [
    "# 1. Regression\n",
    "\n",
    "In this part, we will use linear regression to detect patterns in crime rates over time."
   ]
  },
  {
   "cell_type": "markdown",
   "metadata": {},
   "source": [
    "**Question 1.1** Create a new table with two columns: `Year Since 1960` and `Robbery Rate` and store it in a variable called `rob_data`. The `Year Since 1960` column should contain the numbers 0 through 20, and the `Robbery Rate` column should contain the robbery rate in California in each year from 1960 to 1980, inclusive. Then, draw a scatter plot with the year since 1960 on X-axis and the robbery rate on Y-axis."
   ]
  },
  {
   "cell_type": "code",
   "execution_count": null,
   "metadata": {},
   "outputs": [],
   "source": [
    "rob_data = ...\n",
    "..."
   ]
  },
  {
   "cell_type": "code",
   "execution_count": null,
   "metadata": {},
   "outputs": [],
   "source": [
    "_ = ok.grade('q11')"
   ]
  },
  {
   "cell_type": "markdown",
   "metadata": {},
   "source": [
    "**Question 1.2** Your scatterplot should show a fairly strong linear relationship between the year and the robbery rate. What is the correlation between these two variables? Store it in a variable called `r`."
   ]
  },
  {
   "cell_type": "code",
   "execution_count": null,
   "metadata": {},
   "outputs": [],
   "source": [
    "r = ...\n",
    "r"
   ]
  },
  {
   "cell_type": "code",
   "execution_count": null,
   "metadata": {},
   "outputs": [],
   "source": [
    "_ = ok.grade('q12')"
   ]
  },
  {
   "cell_type": "markdown",
   "metadata": {},
   "source": [
    "**Question 1.3** Calculate the slope and intercept of the regression line and store them as `q13_slope` and `q13_intercept`. "
   ]
  },
  {
   "cell_type": "code",
   "execution_count": null,
   "metadata": {},
   "outputs": [],
   "source": [
    "#helpful functions\n",
    "def slope(t, x, y):\n",
    "    return ...\n",
    "\n",
    "def intercept(t, x, y):\n",
    "    return ...\n",
    "\n",
    "# apply them to our problem\n",
    "q13_slope = ...\n",
    "q13_intercept = ..."
   ]
  },
  {
   "cell_type": "code",
   "execution_count": null,
   "metadata": {},
   "outputs": [],
   "source": [
    "_ = ok.grade('q13')"
   ]
  },
  {
   "cell_type": "markdown",
   "metadata": {},
   "source": [
    "**Question 1.4** Now that the regression line is derived, we need to check how the regression line performs. Add two columns to the table `rob_data`: for each year, `Predicted Value` should contain the robbery rate predicted by the regression line and `Error` should be the predicted value minus the actual value. Visualize the prediction with a scatterplot."
   ]
  },
  {
   "cell_type": "code",
   "execution_count": null,
   "metadata": {},
   "outputs": [],
   "source": [
    "def predict_rob_rate(year_since_1960):\n",
    "    return ...\n",
    "\n",
    "rob_data = ..."
   ]
  },
  {
   "cell_type": "code",
   "execution_count": null,
   "metadata": {},
   "outputs": [],
   "source": [
    "_ = ok.grade('q14')"
   ]
  },
  {
   "cell_type": "markdown",
   "metadata": {},
   "source": [
    "**Question 1.5** In data analysis and machine learning, Root Mean Squared Error (RMSE) is used to evaluate models. Calculate the RMSE of the regression line model and store it in a variable called `q15_rmse`."
   ]
  },
  {
   "cell_type": "code",
   "execution_count": null,
   "metadata": {},
   "outputs": [],
   "source": [
    "q15_rmse = ..."
   ]
  },
  {
   "cell_type": "code",
   "execution_count": null,
   "metadata": {},
   "outputs": [],
   "source": [
    "_ = ok.grade('q15')"
   ]
  },
  {
   "cell_type": "markdown",
   "metadata": {},
   "source": [
    "**Question 1.6** Use the regression line to predict the robbery rate in California in the year 2003 and store it in a variable called `q16`."
   ]
  },
  {
   "cell_type": "code",
   "execution_count": null,
   "metadata": {},
   "outputs": [],
   "source": [
    "q16 = ..."
   ]
  },
  {
   "cell_type": "code",
   "execution_count": null,
   "metadata": {
    "scrolled": true
   },
   "outputs": [],
   "source": [
    "_ = ok.grade('q16')"
   ]
  },
  {
   "cell_type": "markdown",
   "metadata": {},
   "source": [
    "# 2. k-Nearest Neighbors\n",
    "\n",
    "In this part, you will create a k-nearest neighbors classifier that predicts whether a state in a given year can be considered safe, based on two attributes: `Murder Rate` and `Aggravated Assault Rate`. "
   ]
  },
  {
   "cell_type": "markdown",
   "metadata": {},
   "source": [
    "**Question 2.1** Each state in a given year will belong to a class, either 0 or 1, where\n",
    "\n",
    "* 0 = unsafe,\n",
    "* 1 = safe.   \n",
    "\n",
    "The classes come from the following definition of *safe*, which is defined in terms of several different crime rates. Our goal in this part of the project will be to predict if a state is safe or not for a given year, given **only two** of these crime rates.\n",
    "\n",
    "Define a state in a given year to be *safe* if all of the following conditions are met:\n",
    "* The Violent Crime Rate for the state in that year is below the 50th percentile of Violent Crime Rates, among all states in 1980.\n",
    "* The Murder Rate for the state in that year is below the 75th percentile of Murder Rates, among all states in 1980.\n",
    "* The Forcible Rape Rate for the state in that year is below the 85th percentile of Forcible Rape Rates, among all states in 1980.\n",
    "* The Robbery Rate for the state in that year is below the 75th percentile of Robbery Rates, among all states in 1980.\n",
    "* The Aggravated Assault Rate for the state in that year is below the 75th percentile of Aggravated Assault Rates, among all states in 1980.\n",
    "* The Property Crime Rate is below 8000.\n",
    "* The Burglary Rate is below 2000.\n",
    "* The Larceny & Theft Rate is below 5000.\n",
    "* The Motor Vehicle Theft Rate is below 1000.\n",
    "\n",
    "In other words, we will consider a given state in a given year to be safe if it has low crime rates in a variety of different categories, where low crime rates are either measured absolutely or relative to the rates in 1980.\n",
    "\n",
    "Write a function called `find_safe_states` that takes as input a year from 1960 to 2003, and returns an array of all the states in that year that satisfy the above definition of safe.\n",
    "\n",
    "Use your function to determine which states were safe in the year 2000, and store the resulting array in a variable called `safe_states_2000`."
   ]
  },
  {
   "cell_type": "code",
   "execution_count": null,
   "metadata": {
    "scrolled": true
   },
   "outputs": [],
   "source": [
    "def find_safe_states(year):\n",
    "    return ...\n",
    "\n",
    "safe_states_2000 = ...\n",
    "safe_states_2000"
   ]
  },
  {
   "cell_type": "code",
   "execution_count": null,
   "metadata": {},
   "outputs": [],
   "source": [
    "_ = ok.grade('q21')"
   ]
  },
  {
   "cell_type": "markdown",
   "metadata": {},
   "source": [
    "**Question 2.2** For the training data, we will use each of the 50 states in 1990. \n",
    "\n",
    "Create a new table called `training_data` that has a row for each state in 1990, and three columns: `Class`, `Murder Rate (1990 SU)`, and `Aggravated Assault Rate (1990 SU)`. The `Class` column should contain `1` if the state in 1990 is considered safe according to the definition in Question 2.1, and `0` if not. The `Murder Rate (1990 SU)`column should contain the murder rate in each state in 1990, in standard units. The `Aggravated Assault Rate (1990 SU)`column should contain the aggravated assault rate in each state in 1990, in standard units. \n",
    "\n",
    "Throughout the rest of the project, we will always measure crime rates in 1990's standard units.\n",
    "\n",
    "Finally, visualize these classes with a scatterplot. Make sure that each class (0 and 1) is represented with a different color.\n",
    "\n",
    "*Hint:* Make sure to extract the 1990 data from the larger table `data` **before** converting to standard units."
   ]
  },
  {
   "cell_type": "code",
   "execution_count": null,
   "metadata": {},
   "outputs": [],
   "source": [
    "training_data = ...\n",
    "# scatter plot, should use different colors for each class\n",
    "..."
   ]
  },
  {
   "cell_type": "code",
   "execution_count": null,
   "metadata": {},
   "outputs": [],
   "source": [
    "_ = ok.grade('q22')"
   ]
  },
  {
   "cell_type": "markdown",
   "metadata": {},
   "source": [
    "**Question 2.3** Is there a linear association between `Murder Rate` and  `Aggravated Assault Rate` for the data from 1990?\n",
    "\n",
    "1. Yes, positive association, correlation is about 0.3\n",
    "2. Yes, positive association, correlation is about 0.7\n",
    "3. Yes, negative association, correlation is about - 0.3\n",
    "4. Yes, negative association, correlation is about - 0.7\n",
    "5. No, correlation is close to 0\n",
    "\n",
    "Set variable `q_23` to either 1, 2, 3, 4 or 5. "
   ]
  },
  {
   "cell_type": "code",
   "execution_count": null,
   "metadata": {},
   "outputs": [],
   "source": [
    "q_23 = ..."
   ]
  },
  {
   "cell_type": "code",
   "execution_count": null,
   "metadata": {},
   "outputs": [],
   "source": [
    "_ = ok.grade('q23')"
   ]
  },
  {
   "cell_type": "markdown",
   "metadata": {},
   "source": [
    "**Question 2.4** Now, build a *k-nearest neighbors* classifier with the steps described in class (and the textbook), where k=5. Write a function called `predict_safety` that takes in a *Murder Rate* and an *Aggravated Assault Rate* (both parameters given in **1990's standard units**) and returns the predicted class, 0 or 1. \n",
    "\n",
    "*Note:* All your code should be put in the code cell below and above the function definition. Do not create separate cells for this question.\n",
    "\n",
    "*Hint:* To make sure that your prediction is correct, you may want to use a scatter plot to visualize the training set and the testing data. \n"
   ]
  },
  {
   "cell_type": "code",
   "execution_count": null,
   "metadata": {},
   "outputs": [],
   "source": [
    "def predict_safety(murder_su, agg_su):\n",
    "    return ..."
   ]
  },
  {
   "cell_type": "code",
   "execution_count": null,
   "metadata": {},
   "outputs": [],
   "source": [
    "_ = ok.grade('q24')"
   ]
  },
  {
   "cell_type": "markdown",
   "metadata": {},
   "source": [
    "**Question 2.5** Now that we have developed our classifier, we are ready to test the accuracy of our model to see how often it correctly classifies a given state in a given year as safe or unsafe. \n",
    "\n",
    "For the testing data, we will use each of the 50 states in 2000.\n",
    "\n",
    "Create a new table called `testing_data` that has a row for each state in 2000, and three columns: `Class`, `Murder Rate (SU)`, and `Aggravated Assault Rate (SU)`.  The `Class` column should contain `1` if the state in 2000 is considered safe according to the definition in Question 2.1, and `0` if not. The `Murder Rate (1990 SU)`column should contain the murder rate in each state in 2000, measured in 1990's standard units. The `Aggravated Assault Rate (1990 SU)`column should contain the aggravated assault rate in each state in 2000, in 1990's standard units. \n",
    "\n",
    "Use the k-nearest neighbors classifier you have built to predict the saftey of each state in 2000, and report the accuracy of your predictions in a variable `q25_accuracy`.\n",
    "\n",
    "$$ \\mbox{Accuracy} = \\frac{\\mbox{Number of correctly classified samples}}{\\mbox{Total number of samples}}  $$"
   ]
  },
  {
   "cell_type": "code",
   "execution_count": null,
   "metadata": {},
   "outputs": [],
   "source": [
    "testing_data = ...\n",
    "\n",
    "q25_accuracy = ...\n",
    "q25_accuracy"
   ]
  },
  {
   "cell_type": "code",
   "execution_count": null,
   "metadata": {},
   "outputs": [],
   "source": [
    "_ = ok.grade('q25')"
   ]
  },
  {
   "cell_type": "code",
   "execution_count": null,
   "metadata": {},
   "outputs": [],
   "source": [
    "_ = ok.submit()"
   ]
  },
  {
   "cell_type": "code",
   "execution_count": null,
   "metadata": {},
   "outputs": [],
   "source": [
    "# For your convenience, you can run this cell to run all the tests at once!\n",
    "import os\n",
    "print(\"Running all tests...\")\n",
    "_ = [ok.grade(q[:-3]) for q in os.listdir(\"tests\") if q.startswith('q')]\n",
    "print(\"Finished running all tests.\")"
   ]
  },
  {
   "cell_type": "code",
   "execution_count": null,
   "metadata": {},
   "outputs": [],
   "source": []
  }
 ],
 "metadata": {
  "kernelspec": {
   "display_name": "Python (dsc10)",
   "language": "python",
   "name": "dsc10"
  },
  "language_info": {
   "codemirror_mode": {
    "name": "ipython",
    "version": 3
   },
   "file_extension": ".py",
   "mimetype": "text/x-python",
   "name": "python",
   "nbconvert_exporter": "python",
   "pygments_lexer": "ipython3",
   "version": "3.6.4"
  }
 },
 "nbformat": 4,
 "nbformat_minor": 2
}
