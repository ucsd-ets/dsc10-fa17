{
 "cells": [
  {
   "cell_type": "markdown",
   "metadata": {},
   "source": [
    "Project - Simulations\n",
    "=================\n",
    "\n",
    "Welcome to the project for DSC 10! We will be exploring simulations, randomness, sampling, functions, and experiments in this project. In this project, you will need to solve two problems: one called the ***[100 Prisoners Problem](https://en.wikipedia.org/wiki/100_prisoners_problem)*** and another problem about coin flips.\n",
    "\n",
    "As usual, **run the cell below** to prepare the automatic tests. **Passing the automatic tests does not guarantee full credit on any question.** The tests are provided to help catch some common errors, but it is *your* responsibility to answer the questions correctly.\n",
    "\n",
    "#### DO NOT change the variable names! \n",
    "This may cause the automatic grading scripts not to recognize your answers.\n",
    "\n",
    "#### Here are some functions and programming concepts that you might find useful for this project:\n",
    "\n",
    "`Tables.apply`  **(*[See Textbook](https://ucsd-dsc10.gitbooks.io/textbook/content/chapters/07/1/applying-a-function-to-a-column.html)*)**\n",
    "\n",
    "`np.random.choice`  **(*[See Textbook](https://ucsd-dsc10.gitbooks.io/textbook/content/chapters/08/randomness.html)*)**\n",
    "\n",
    "`in` operator **(*[See Link](http://kracekumar.com/post/22512660850/python-in-operator-use-cases)*)**\n",
    "\n",
    "`while` loops **(*[See Link](https://www.cs.utah.edu/~germain/PPS/Topics/while_loops.html)*)** **(*[See Another Link](https://www.programiz.com/python-programming/while-loop)*)**\n"
   ]
  },
  {
   "cell_type": "code",
   "execution_count": null,
   "metadata": {
    "collapsed": true
   },
   "outputs": [],
   "source": [
    "# Run this cell, but please don't change it.\n",
    "\n",
    "import numpy as np\n",
    "import math\n",
    "from datascience import *\n",
    "\n",
    "# These lines set up the plotting functionality and formatting.\n",
    "import matplotlib\n",
    "matplotlib.use('Agg', warn=False)\n",
    "%matplotlib inline\n",
    "import matplotlib.pyplot as plots\n",
    "plots.style.use('fivethirtyeight')\n",
    "\n",
    "# These lines load the tests.\n",
    "from client.api.assignment import load_assignment \n",
    "from client.api.notebook import Notebook\n",
    "ok = Notebook('project.ok')\n",
    "_ = ok.auth(inline=True)"
   ]
  },
  {
   "cell_type": "markdown",
   "metadata": {},
   "source": [
    "Part 0: The 100 Prisoners Problem\n",
    "======"
   ]
  },
  {
   "cell_type": "markdown",
   "metadata": {},
   "source": [
    "There are many statements of this problem, but let us use the one by Philippe Flajolet and Robert Sedgewick:\n",
    "\n",
    "**\"*The director of a prison offers 100 death row prisoners, who are numbered from 1 to 100, a last chance. A room contains a cupboard with 100 drawers. The director randomly puts one prisoner's number in each closed drawer. The prisoners enter the room, one after another. Each prisoner may open and look into 50 drawers in any order. The drawers are closed again afterwards. If, during this search, every prisoner finds his number in one of the drawers, all prisoners are pardoned. If just one prisoner does not find his number, all prisoners die. Before the first prisoner enters the room, the prisoners may discuss strategy—but may not communicate once the first prisoner enters to look in the drawers. What is the prisoners' best strategy?*\"**\n",
    "\n",
    "Source: Philippe Flajolet, Robert Sedgewick (2009), Analytic Combinatorics, Cambridge University Press, p. 124."
   ]
  },
  {
   "cell_type": "markdown",
   "metadata": {},
   "source": [
    "Consider a more general game where there are `p` prisoners, numbered by integers `[0, p-1]`, and each prisoner can open `d` drawers. "
   ]
  },
  {
   "cell_type": "markdown",
   "metadata": {},
   "source": [
    "**Question 0.0** If the first prisoner opens `d` drawers at random, write an expression in terms of `p` and `d` for the probability that this prisoner finds his/her number. "
   ]
  },
  {
   "cell_type": "markdown",
   "metadata": {},
   "source": [
    "<hr style=\"color:Maroon;background-color:Maroon;border:0 none; height: 3px;\">\n",
    "\n",
    "*Replace this text with your answer to question 0.0.*\n",
    "\n",
    "<hr style=\"color:Maroon;background-color:Maroon;border:0 none; height: 3px;\">"
   ]
  },
  {
   "cell_type": "markdown",
   "metadata": {},
   "source": [
    "**Question 0.1** If all of the prisoners open `d` drawers at random, write an expression in terms of `p` and `d` for the probability that all of the prisoners find their numbers. "
   ]
  },
  {
   "cell_type": "markdown",
   "metadata": {},
   "source": [
    "<hr style=\"color:Maroon;background-color:Maroon;border:0 none; height: 3px;\">\n",
    "\n",
    "*Replace this text with your answer to question 0.1.* \n",
    "\n",
    "<hr style=\"color:Maroon;background-color:Maroon;border:0 none; height: 3px;\">"
   ]
  },
  {
   "cell_type": "markdown",
   "metadata": {},
   "source": [
    "Part 1: Simulation of Random Strategy\n",
    "======="
   ]
  },
  {
   "cell_type": "markdown",
   "metadata": {},
   "source": [
    "First, let's see through simulation what will happen if each of 10 prisoners randomly selects 5 drawers to open.\n"
   ]
  },
  {
   "cell_type": "markdown",
   "metadata": {},
   "source": [
    "**Question 1.0** In order to simulate this game, we need to be able to model the process of opening 5 random drawers and obtaining 5 random numbers from the 10 prisoners' numbers, 0 through 9. Moreover, we want to be able to do this multiple times, and possibly for a different number of prisoners `p`and a different number of drawers `d`.  \n",
    "\n",
    "As a result, we need to define a function `open_random_drawers` that takes an argument `p`, which is the number of prisoners, and an argument `d`, which is the number of drawers each prisoner will open, and returns a list of `d` **distinct** integers randomly selected from `[0, p-1]`.\n",
    "\n",
    "For example, a call to `open_random_drawers(10, 5)` might return `[3,7,0,4,2]`, or `[1,8,9,4,0]`, etc"
   ]
  },
  {
   "cell_type": "code",
   "execution_count": null,
   "metadata": {
    "collapsed": true
   },
   "outputs": [],
   "source": [
    "def open_random_drawers(p, d):\n",
    "    return ...\n",
    "\n",
    "open_random_drawers(10, 5)"
   ]
  },
  {
   "cell_type": "code",
   "execution_count": null,
   "metadata": {
    "collapsed": true
   },
   "outputs": [],
   "source": [
    "_ = ok.grade('q10')"
   ]
  },
  {
   "cell_type": "markdown",
   "metadata": {},
   "source": [
    "**Question 1.1** Then, to simulate a game where `p=10` and `d=5`, create a table that holds the prisoners as well as the numbers of the five random drawers they open. Specifically, we want a `prisoner` column that contains the prisoner numbers (from 0 to 9), and a `choices` column with entries of type `list`. These lists should contain the five numbers inside the drawers each prisoner opens."
   ]
  },
  {
   "cell_type": "code",
   "execution_count": null,
   "metadata": {
    "collapsed": true
   },
   "outputs": [],
   "source": [
    "prisoner_table = ...\n",
    "\n",
    "prisoner_table"
   ]
  },
  {
   "cell_type": "code",
   "execution_count": null,
   "metadata": {
    "collapsed": true
   },
   "outputs": [],
   "source": [
    "_ = ok.grade('q11')"
   ]
  },
  {
   "cell_type": "markdown",
   "metadata": {},
   "source": [
    "**Question 1.2** After generating the choices, append to the original table a `found` column that stores `True` if the prisoner found his/her number or `False` if not. The type of elements in the `found` column should be `bool`, not `str`. Also, calculate the number of prisoners who succeeded in finding their number, which we will call the number of successes.\n",
    "*Hint: Use `apply` and `in`.*"
   ]
  },
  {
   "cell_type": "code",
   "execution_count": null,
   "metadata": {
    "collapsed": true
   },
   "outputs": [],
   "source": [
    "num_successes = ...\n",
    "\n",
    "print('Simulation result: ' + str(num_successes) + ' prisoners found.')\n",
    "prisoner_table"
   ]
  },
  {
   "cell_type": "code",
   "execution_count": null,
   "metadata": {
    "collapsed": true
   },
   "outputs": [],
   "source": [
    "_ = ok.grade('q12')"
   ]
  },
  {
   "cell_type": "markdown",
   "metadata": {},
   "source": [
    "**Question 1.3** Now that you have simulated one game, you want to simulate multiple games to create an empirical distribution of the number of successes. Based on your previous code, write a function called `simulate_game` that takes two inputs:\n",
    "\n",
    "*1. number of prisoners, `p`*\n",
    "\n",
    "*2. number of drawers each prisoner will open at random, `d`*\n",
    "\n",
    "and returns the number of prisoners who succeeded in finding their number according the strategy of random drawer opening."
   ]
  },
  {
   "cell_type": "code",
   "execution_count": null,
   "metadata": {
    "collapsed": true
   },
   "outputs": [],
   "source": [
    "def simulate_game(p, d):\n",
    "    return ...\n",
    "\n",
    "simulation_result = simulate_game(10, 5)\n",
    "print('Simulation result: ' + str(simulation_result) + ' prisoners found.')"
   ]
  },
  {
   "cell_type": "code",
   "execution_count": null,
   "metadata": {
    "collapsed": true
   },
   "outputs": [],
   "source": [
    "_ = ok.grade('q13')"
   ]
  },
  {
   "cell_type": "markdown",
   "metadata": {},
   "source": [
    "**Question 1.4** Now, you will simulate 10,000 games with 10 players each opening 5 drawers at random. Record in a table the number of prisoners who found their numbers in each simulated game. Use this table to draw a histogram showing the empirical distribution of the number of prisoners who find their numbers. Make sure each possible value falls in its own bin. "
   ]
  },
  {
   "cell_type": "code",
   "execution_count": null,
   "metadata": {
    "collapsed": true
   },
   "outputs": [],
   "source": [
    "..."
   ]
  },
  {
   "cell_type": "markdown",
   "metadata": {},
   "source": [
    "**Question 1.5** Use the table you created in question 1.4 to estimate the probability that the 10 prisoners will avoid death row using this strategy."
   ]
  },
  {
   "cell_type": "code",
   "execution_count": null,
   "metadata": {
    "collapsed": true
   },
   "outputs": [],
   "source": [
    "estimated_prob = ...\n",
    "estimated_prob"
   ]
  },
  {
   "cell_type": "markdown",
   "metadata": {},
   "source": [
    "**Question 1.6** Now run the same simulation for 100,000 games. It may take a few minutes to simulate such a large number of games. Estimate the probability that the 10 prisoners will avoid death row using this strategy."
   ]
  },
  {
   "cell_type": "code",
   "execution_count": null,
   "metadata": {
    "collapsed": true
   },
   "outputs": [],
   "source": [
    "estimated_prob_again = ...\n",
    "estimated_prob_again"
   ]
  },
  {
   "cell_type": "markdown",
   "metadata": {},
   "source": [
    "Part 2: Simulation of Optimal Strategy\n",
    "======="
   ]
  },
  {
   "cell_type": "markdown",
   "metadata": {},
   "source": [
    "The strategy of opening doors at random has shown itself to be a poor strategy. Consider the following better strategy, which is in fact the optimal strategy.\n",
    "\n",
    "Suppose the drawers are also numbered with the integers `[0, p-1]`. The strategy for each prisoner is to:\n",
    "\n",
    "1. **Open the drawer with his own number.**\n",
    "2. **Next, open the drawer whose number matches the contents of the drawer just opened.**\n",
    "3. **Repeat the previous step until no more drawers may be opened, or until he finds his own number.**\n",
    "\n",
    "For example, taking the case of 10 prisoners who can each open five drawers, suppose the contents of the numbered drawers are:\n",
    "\n",
    "Drawer 0: 7  \n",
    "Drawer 1: 0  \n",
    "Drawer 2: 1  \n",
    "Drawer 3: 4  \n",
    "Drawer 4: 2  \n",
    "Drawer 5: 3  \n",
    "Drawer 6: 8  \n",
    "Drawer 7: 9  \n",
    "Drawer 8: 6  \n",
    "Drawer 9: 2  \n",
    "\n",
    "Prisoner 0 will start by opening Drawer 0, then Drawer 7, then Drawer 9, then Drawer 2, and finally Drawer 1. At this point, he will stop because he has opened the maximum number of drawers, five, and also because he got lucky enough to find his own number!"
   ]
  },
  {
   "cell_type": "markdown",
   "metadata": {},
   "source": [
    "**Question 2.0** Suppose for now that the numbers are assigned to drawers as in the example above, which we will represent with an array `drawer_assignment = make_array(7, 0, 1, 4, 5, 3, 8, 9, 6, 2)`. \n",
    "\n",
    "Write a function `open_drawers(p, d, drawers, n)` to model the process of opening drawers according to the optimal strategy. This function will take arguments `p`, the number of prisoners, `d`, the number of drawers each prisoner will open, and `n` a prisoner number in the range `[0, p-1]`. It should return a list of d integers in `[0, p-1]` representing the numbers that prisoner `n` will see inside the drawers when opening the **maximum number** of drawers `d` using the strategy that the next drawer to open comes from the contents of the drawer previously opened. For example, if the numbers are arranged in drawers as in the example above, here are some sample calls to this function.  \n",
    "`open_drawers(10, 5, drawer_assignment, 0) = [7, 9, 2, 1, 0]`  \n",
    "`open_drawers(10, 5, drawer_assignment, 8) = [6, 8, 6, 8, 6]`"
   ]
  },
  {
   "cell_type": "code",
   "execution_count": null,
   "metadata": {
    "collapsed": true
   },
   "outputs": [],
   "source": [
    "drawer_assignment = make_array(7, 0, 1, 4, 5, 3, 8, 9, 6, 2) \n",
    "\n",
    "def open_drawers(p, d, drawers, n):\n",
    "    return ...\n",
    "\n",
    "open_drawers(10, 5, drawer_assignment, 0)"
   ]
  },
  {
   "cell_type": "code",
   "execution_count": null,
   "metadata": {
    "collapsed": true
   },
   "outputs": [],
   "source": [
    "_ = ok.grade('q20')"
   ]
  },
  {
   "cell_type": "markdown",
   "metadata": {},
   "source": [
    "**Question 2.1** As you did for `simulate_game` in Question 1.3, now implement a similar  `simulate_game_optimal` that simulates one game using this new optimal strategy. Your function  `simulate_game_optimal` should take two inputs:\n",
    "\n",
    "*1. number of prisoners, `p`*\n",
    "\n",
    "*2. number of drawers each prisoner will open at random, `d`*\n",
    "\n",
    "and return the number of prisoners who succeeded in finding their number according to the optimal strategy. Your game should use a **random** assignment of numbers to drawers."
   ]
  },
  {
   "cell_type": "code",
   "execution_count": null,
   "metadata": {
    "collapsed": true,
    "scrolled": false
   },
   "outputs": [],
   "source": [
    "def simulate_game_optimal(p, d):\n",
    "    return ...\n",
    "\n",
    "simulation_result = simulate_game_optimal(10, 5)\n",
    "print('Simulation result: ' + str(simulation_result) + ' prisoners found.')"
   ]
  },
  {
   "cell_type": "code",
   "execution_count": null,
   "metadata": {
    "collapsed": true
   },
   "outputs": [],
   "source": [
    "_ = ok.grade('q21')"
   ]
  },
  {
   "cell_type": "markdown",
   "metadata": {},
   "source": [
    "**Question 2.2** Simulate 100,000 games with 10 players each opening 5 drawers according to the optimal strategy. As in Question 1.4, draw a histogram showing the empirical distribution of the number of prisoners who find their numbers. Make sure each possible value falls in its own bin. It may take a few minutes to simulate such a large number of games.\n",
    "\n",
    "Describe the differences between the empirical distributions of the two different strategies (random and optimal). In particular, explain why the bar of the histogram corresponding to seven people finding their numbers is of height zero in the optimal strategy but not in the random strategy."
   ]
  },
  {
   "cell_type": "code",
   "execution_count": null,
   "metadata": {
    "collapsed": true
   },
   "outputs": [],
   "source": [
    "..."
   ]
  },
  {
   "cell_type": "markdown",
   "metadata": {},
   "source": [
    "<hr style=\"color:Maroon;background-color:Maroon;border:0 none; height: 3px;\">\n",
    "\n",
    "*Replace this text with your answer to question 2.2.*\n",
    "\n",
    "<hr style=\"color:Maroon;background-color:Maroon;border:0 none; height: 3px;\">"
   ]
  },
  {
   "cell_type": "markdown",
   "metadata": {},
   "source": [
    "**Question 2.3** Use the results of your simulation to estimate the probability that the 10 prisoners will avoid death row using this strategy."
   ]
  },
  {
   "cell_type": "code",
   "execution_count": null,
   "metadata": {
    "collapsed": true
   },
   "outputs": [],
   "source": [
    "estimated_prob_opt = ...\n",
    "estimated_prob_opt"
   ]
  },
  {
   "cell_type": "markdown",
   "metadata": {},
   "source": [
    "**Question 2.4** Apply the same methods as above to compare the two strategies (random and optimal) in the case of the original problem with 100 prisoners each opening 50 drawers. For each strategy, compare the effectiveness of the p=10, d=5 case with  the p=100, d=50 case to see how the size of the problem influences the effectiveness of each strategy."
   ]
  },
  {
   "cell_type": "markdown",
   "metadata": {},
   "source": [
    "<hr style=\"color:Maroon;background-color:Maroon;border:0 none; height: 3px;\">\n",
    "\n",
    "*Replace this text with your answer to question 2.4.*\n",
    "\n",
    "<hr style=\"color:Maroon;background-color:Maroon;border:0 none; height: 3px;\">"
   ]
  },
  {
   "cell_type": "markdown",
   "metadata": {},
   "source": [
    "Part 3: HHT or HTT?\n",
    "======="
   ]
  },
  {
   "cell_type": "markdown",
   "metadata": {},
   "source": [
    "Suppose we have a fair coin, where the probabilty of heads (H) is 0.5 and the probability of tails (T) is 0.5. We know from probability that if we flip the coin three times, any of the eight possible coin toss sequences is equally likely to appear. This problem concerns, rather than three coin flips, the situation where we flip coins until a certain coin toss sequence appears.\n",
    "\n",
    "\"***Flip a coin until either HHT or HTT appears. Is one more  likely to appear first? If so, which one and with what probability?***\"\n",
    "\n",
    "Simulate this problem to estimate the probability that HHT appears first and the probability that HTT appears first. "
   ]
  },
  {
   "cell_type": "markdown",
   "metadata": {},
   "source": [
    "**Question 3.0** In order to do the simulation, we need to generate coin flips. Write a function called `generate_flips` that keep generating flips until either `HTT` or `HHT` appears. This function should return `HTT` or `HHT`, whichever appears first.\n"
   ]
  },
  {
   "cell_type": "code",
   "execution_count": null,
   "metadata": {
    "collapsed": true
   },
   "outputs": [],
   "source": [
    "def generate_flips():\n",
    "    return ...\n",
    "\n",
    "generate_flips()"
   ]
  },
  {
   "cell_type": "code",
   "execution_count": null,
   "metadata": {
    "collapsed": true
   },
   "outputs": [],
   "source": [
    "_ = ok.grade('q30')"
   ]
  },
  {
   "cell_type": "markdown",
   "metadata": {},
   "source": [
    "**Question 3.1** Now that we can generate coin flip sequences until getting `HHT` or `HTT`, we want to generate such coin flip sequences many times. Simulate 10,000 coin toss sequences until one of `HHT` or `HTT` occurs, and record which pattern occured first in a table called `coin_flips` that contains a single column called `pattern`. Each entry in the `pattern` column should be either `HHT` or `HTT`, whichever appeared first."
   ]
  },
  {
   "cell_type": "code",
   "execution_count": null,
   "metadata": {
    "collapsed": true
   },
   "outputs": [],
   "source": [
    "coin_flips = ...\n",
    "\n",
    "coin_flips"
   ]
  },
  {
   "cell_type": "code",
   "execution_count": null,
   "metadata": {
    "collapsed": true
   },
   "outputs": [],
   "source": [
    "_ = ok.grade('q31')"
   ]
  },
  {
   "cell_type": "markdown",
   "metadata": {},
   "source": [
    "**Question 3.2** After generating all the flips, we want to calculate the empirical probability that `HHT` appears first. Store this value in a variable called `HHT_emp_prob`."
   ]
  },
  {
   "cell_type": "code",
   "execution_count": null,
   "metadata": {
    "collapsed": true
   },
   "outputs": [],
   "source": [
    "HHT_emp_prob = ...\n",
    "\n",
    "HHT_emp_prob"
   ]
  },
  {
   "cell_type": "markdown",
   "metadata": {},
   "source": [
    "To calculate the actual probability of HHT appearing first, and to check if your empirical probability was close, you can ***[learn more here.](https://dicedcoins.wordpress.com/2012/07/19/flip-hhh-before-htt/)***"
   ]
  },
  {
   "cell_type": "markdown",
   "metadata": {},
   "source": [
    "**Congratulations!** You are done with the project for DSC 10."
   ]
  },
  {
   "cell_type": "markdown",
   "metadata": {},
   "source": [
    "#### Please make sure that you have run all the cells in the notebook (Cell -> Run All) and that you have written down answers to the free response questions before submitting your project using the code cell below. \n",
    "\n",
    "By running the code cell below, you affirm that this project is the original work of you and your partner (if any), in accordance with the academic integrity agreement for this class and the University. \n",
    "\n",
    "Please be sure to **add your partner on OK**!"
   ]
  },
  {
   "cell_type": "code",
   "execution_count": null,
   "metadata": {
    "collapsed": true
   },
   "outputs": [],
   "source": [
    "_ = ok.submit()"
   ]
  }
 ],
 "metadata": {
  "kernelspec": {
   "display_name": "Python 3",
   "language": "python",
   "name": "python3"
  },
  "language_info": {
   "codemirror_mode": {
    "name": "ipython",
    "version": 3
   },
   "file_extension": ".py",
   "mimetype": "text/x-python",
   "name": "python",
   "nbconvert_exporter": "python",
   "pygments_lexer": "ipython3",
   "version": "3.6.0"
  }
 },
 "nbformat": 4,
 "nbformat_minor": 2
}
