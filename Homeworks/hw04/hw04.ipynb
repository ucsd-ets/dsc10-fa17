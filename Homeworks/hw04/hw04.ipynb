{
 "cells": [
  {
   "cell_type": "markdown",
   "metadata": {},
   "source": [
    "Homework 4 - Functions, Group, Join, Iteration, and Conditionals\n",
    "=================\n",
    "Directly sharing answers is not okay, but discussing problems with the course staff or with other students is encouraged. \n",
    "\n",
    "You should start early so that you have time to get help if you're stuck. A calendar with lab hour times and locations is on the class website.\n",
    "<br><br>\n",
    "We will be exploring possible connections between water usage and income in California. The water data for this project was procured from the [California State Water Resources Control Board](http://www2.pacinst.org/gpcd/table.html) and curated by the [Pacific Institute](http://pacinst.org/).\n",
    "\n",
    "The dataset on income comes from the IRS ([documentation](http://www.irs.gov/pub/irs-soi/13zpdoc.doc)).  We have identified some interesting columns in the dataset, but a full description of all the columns (and a definition of the population in the dataset and some interesting anonymization procedures they used) is available in this [description](irs_info.pdf).\n",
    "\n",
    "As usual, **run the cell below** to prepare the automatic tests. **Passing the automatic tests does not guarantee full credit on any question.** The tests are provided to help catch some common errors, but it is *your* responsibility to answer the questions correctly."
   ]
  },
  {
   "cell_type": "code",
   "execution_count": 1,
   "metadata": {
    "collapsed": false
   },
   "outputs": [
    {
     "name": "stdout",
     "output_type": "stream",
     "text": [
      "=====================================================================\n",
      "Assignment: Homework 4\n",
      "OK, version v1.13.9\n",
      "=====================================================================\n",
      "\n"
     ]
    }
   ],
   "source": [
    "# Run this cell, but please don't change it.\n",
    "\n",
    "import numpy as np\n",
    "import math\n",
    "from datascience import *\n",
    "\n",
    "# These lines set up the plotting functionality and formatting.\n",
    "import matplotlib\n",
    "matplotlib.use('Agg', warn=False)\n",
    "%matplotlib inline\n",
    "import matplotlib.pyplot as plots\n",
    "plots.style.use('fivethirtyeight')\n",
    "\n",
    "# These lines load the tests.\n",
    "from client.api.assignment import load_assignment \n",
    "from client.api.notebook import Notebook\n",
    "hw04 = Notebook('hw04.ok')\n",
    "#_ = hw04.auth(inline=True)"
   ]
  },
  {
   "cell_type": "markdown",
   "metadata": {},
   "source": [
    "Part 1: California Income\n",
    "======="
   ]
  },
  {
   "cell_type": "markdown",
   "metadata": {},
   "source": [
    "Let's look at the `income_raw` table."
   ]
  },
  {
   "cell_type": "code",
   "execution_count": 2,
   "metadata": {
    "collapsed": false
   },
   "outputs": [
    {
     "data": {
      "text/html": [
       "<table border=\"1\" class=\"dataframe\">\n",
       "    <thead>\n",
       "        <tr>\n",
       "            <th>ZIP</th> <th>N1</th> <th>MARS1</th> <th>MARS2</th> <th>MARS4</th> <th>PREP</th> <th>N2</th> <th>NUMDEP</th> <th>A00100</th> <th>N02650</th> <th>A02650</th> <th>N00200</th> <th>A00200</th> <th>N00300</th> <th>A00300</th> <th>N00600</th> <th>A00600</th> <th>N00650</th> <th>A00650</th> <th>N00700</th> <th>A00700</th> <th>N00900</th> <th>A00900</th> <th>N01000</th> <th>A01000</th> <th>N01400</th> <th>A01400</th> <th>N01700</th> <th>A01700</th> <th>SCHF</th> <th>N02300</th> <th>A02300</th> <th>N02500</th> <th>A02500</th> <th>N26270</th> <th>A26270</th> <th>N02900</th> <th>A02900</th> <th>N03220</th> <th>A03220</th> <th>N03300</th> <th>A03300</th> <th>N03270</th> <th>A03270</th> <th>N03150</th> <th>A03150</th> <th>N03210</th> <th>A03210</th> <th>N03230</th> <th>A03230</th> <th>N03240</th> <th>A03240</th> <th>N04470</th> <th>A04470</th> <th>A00101</th> <th>N18425</th> <th>A18425</th> <th>N18450</th> <th>A18450</th> <th>N18500</th> <th>A18500</th> <th>N18300</th> <th>A18300</th> <th>N19300</th> <th>A19300</th> <th>N19700</th> <th>A19700</th> <th>N04800</th> <th>A04800</th> <th>N05800</th> <th>A05800</th> <th>N09600</th> <th>A09600</th> <th>N07100</th> <th>A07100</th> <th>N07300</th> <th>A07300</th> <th>N07180</th> <th>A07180</th> <th>N07230</th> <th>A07230</th> <th>N07240</th> <th>A07240</th> <th>N07220</th> <th>A07220</th> <th>N07260</th> <th>A07260</th> <th>N09400</th> <th>A09400</th> <th>N10600</th> <th>A10600</th> <th>N59660</th> <th>A59660</th> <th>N59720</th> <th>A59720</th> <th>N11070</th> <th>A11070</th> <th>N10960</th> <th>A10960</th> <th>N06500</th> <th>A06500</th> <th>N10300</th> <th>A10300</th> <th>N85330</th> <th>A85330</th> <th>N85300</th> <th>A85300</th> <th>N11901</th> <th>A11901</th> <th>N11902</th> <th>A11902</th>\n",
       "        </tr>\n",
       "    </thead>\n",
       "    <tbody>\n",
       "        <tr>\n",
       "            <td>90001</td> <td>13100</td> <td>6900 </td> <td>1890 </td> <td>4270 </td> <td>10740</td> <td>29670</td> <td>15200 </td> <td>181693</td> <td>13100 </td> <td>184344</td> <td>10220 </td> <td>142287</td> <td>640   </td> <td>96    </td> <td>50    </td> <td>69    </td> <td>30    </td> <td>20    </td> <td>180   </td> <td>55    </td> <td>3490  </td> <td>31751 </td> <td>70    </td> <td>-17   </td> <td>60    </td> <td>382   </td> <td>380   </td> <td>3001  </td> <td>0   </td> <td>950   </td> <td>4493  </td> <td>80    </td> <td>123   </td> <td>30    </td> <td>105   </td> <td>3510  </td> <td>2651  </td> <td>20    </td> <td>6     </td> <td>0     </td> <td>0     </td> <td>0     </td> <td>0     </td> <td>0     </td> <td>0     </td> <td>150   </td> <td>119   </td> <td>60    </td> <td>98    </td> <td>0     </td> <td>0     </td> <td>510   </td> <td>7212  </td> <td>8498  </td> <td>170   </td> <td>95    </td> <td>270   </td> <td>154   </td> <td>340   </td> <td>952   </td> <td>500   </td> <td>1424  </td> <td>340   </td> <td>3168  </td> <td>240   </td> <td>363   </td> <td>4200  </td> <td>20798 </td> <td>4190  </td> <td>2176  </td> <td>0     </td> <td>0     </td> <td>1800  </td> <td>623   </td> <td>0     </td> <td>0     </td> <td>70    </td> <td>28    </td> <td>520   </td> <td>248   </td> <td>240   </td> <td>39    </td> <td>1020  </td> <td>304   </td> <td>0     </td> <td>0     </td> <td>3290  </td> <td>4659  </td> <td>12180 </td> <td>37759 </td> <td>6320  </td> <td>20531 </td> <td>5880  </td> <td>16995 </td> <td>6500  </td> <td>8805  </td> <td>1230  </td> <td>980   </td> <td>2680  </td> <td>1554  </td> <td>5800  </td> <td>6197  </td> <td>0     </td> <td>0     </td> <td>0     </td> <td>0     </td> <td>1220  </td> <td>856   </td> <td>11480 </td> <td>32934 </td>\n",
       "        </tr>\n",
       "    </tbody>\n",
       "        <tr>\n",
       "            <td>90001</td> <td>5900 </td> <td>1700 </td> <td>1970 </td> <td>2210 </td> <td>4960 </td> <td>17550</td> <td>9690  </td> <td>203628</td> <td>5900  </td> <td>204512</td> <td>5610  </td> <td>188556</td> <td>830   </td> <td>68    </td> <td>60    </td> <td>32    </td> <td>70    </td> <td>19    </td> <td>660   </td> <td>351   </td> <td>540   </td> <td>5917  </td> <td>60    </td> <td>111   </td> <td>50    </td> <td>489   </td> <td>310   </td> <td>4450  </td> <td>0   </td> <td>460   </td> <td>2522  </td> <td>210   </td> <td>947   </td> <td>40    </td> <td>831   </td> <td>700   </td> <td>885   </td> <td>50    </td> <td>12    </td> <td>0     </td> <td>0     </td> <td>0     </td> <td>0     </td> <td>50    </td> <td>152   </td> <td>200   </td> <td>154   </td> <td>50    </td> <td>81    </td> <td>0     </td> <td>0     </td> <td>1260  </td> <td>20442 </td> <td>46800 </td> <td>800   </td> <td>1023  </td> <td>430   </td> <td>505   </td> <td>810   </td> <td>2383  </td> <td>1250  </td> <td>4605  </td> <td>820   </td> <td>7172  </td> <td>870   </td> <td>1620  </td> <td>5300  </td> <td>74352 </td> <td>5290  </td> <td>8710  </td> <td>0     </td> <td>0     </td> <td>3380  </td> <td>2947  </td> <td>0     </td> <td>0     </td> <td>370   </td> <td>249   </td> <td>620   </td> <td>518   </td> <td>630   </td> <td>114   </td> <td>2520  </td> <td>2047  </td> <td>20    </td> <td>6     </td> <td>410   </td> <td>982   </td> <td>5820  </td> <td>23531 </td> <td>2160  </td> <td>4562  </td> <td>1890  </td> <td>3948  </td> <td>2520  </td> <td>4160  </td> <td>600   </td> <td>441   </td> <td>3180  </td> <td>5762  </td> <td>3460  </td> <td>6754  </td> <td>0     </td> <td>0     </td> <td>0     </td> <td>0     </td> <td>530   </td> <td>797   </td> <td>5360  </td> <td>17656 </td>\n",
       "        </tr>\n",
       "    </tbody>\n",
       "        <tr>\n",
       "            <td>90001</td> <td>1480 </td> <td>330  </td> <td>760  </td> <td>390  </td> <td>1240 </td> <td>4710 </td> <td>2470  </td> <td>89065 </td> <td>1480  </td> <td>89344 </td> <td>1440  </td> <td>82579 </td> <td>400   </td> <td>32    </td> <td>20    </td> <td>12    </td> <td>0     </td> <td>0     </td> <td>460   </td> <td>477   </td> <td>130   </td> <td>1351  </td> <td>40    </td> <td>1     </td> <td>40    </td> <td>660   </td> <td>140   </td> <td>2599  </td> <td>0   </td> <td>150   </td> <td>892   </td> <td>60    </td> <td>670   </td> <td>0     </td> <td>0     </td> <td>210   </td> <td>279   </td> <td>50    </td> <td>14    </td> <td>0     </td> <td>0     </td> <td>0     </td> <td>0     </td> <td>0     </td> <td>0     </td> <td>90    </td> <td>76    </td> <td>0     </td> <td>0     </td> <td>0     </td> <td>0     </td> <td>680   </td> <td>13264 </td> <td>41920 </td> <td>540   </td> <td>1329  </td> <td>120   </td> <td>294   </td> <td>500   </td> <td>1453  </td> <td>680   </td> <td>3591  </td> <td>490   </td> <td>4248  </td> <td>560   </td> <td>1296  </td> <td>1470  </td> <td>49298 </td> <td>1470  </td> <td>6618  </td> <td>0     </td> <td>0     </td> <td>900   </td> <td>1488  </td> <td>0     </td> <td>0     </td> <td>120   </td> <td>90    </td> <td>180   </td> <td>198   </td> <td>80    </td> <td>11    </td> <td>750   </td> <td>1163  </td> <td>20    </td> <td>7     </td> <td>80    </td> <td>232   </td> <td>1470  </td> <td>8950  </td> <td>0     </td> <td>0     </td> <td>0     </td> <td>0     </td> <td>190   </td> <td>256   </td> <td>170   </td> <td>132   </td> <td>1290  </td> <td>5131  </td> <td>1310  </td> <td>5417  </td> <td>0     </td> <td>0     </td> <td>0     </td> <td>0     </td> <td>230   </td> <td>520   </td> <td>1250  </td> <td>4050  </td>\n",
       "        </tr>\n",
       "    </tbody>\n",
       "        <tr>\n",
       "            <td>90001</td> <td>330  </td> <td>50   </td> <td>210  </td> <td>70   </td> <td>290  </td> <td>1100 </td> <td>560   </td> <td>28395 </td> <td>330   </td> <td>28555 </td> <td>320   </td> <td>25271 </td> <td>130   </td> <td>10    </td> <td>20    </td> <td>24    </td> <td>30    </td> <td>29    </td> <td>160   </td> <td>235   </td> <td>60    </td> <td>1084  </td> <td>0     </td> <td>0     </td> <td>0     </td> <td>0     </td> <td>40    </td> <td>1044  </td> <td>0   </td> <td>40    </td> <td>230   </td> <td>30    </td> <td>598   </td> <td>0     </td> <td>0     </td> <td>60    </td> <td>160   </td> <td>0     </td> <td>0     </td> <td>0     </td> <td>0     </td> <td>0     </td> <td>0     </td> <td>0     </td> <td>0     </td> <td>30    </td> <td>21    </td> <td>0     </td> <td>0     </td> <td>0     </td> <td>0     </td> <td>210   </td> <td>4846  </td> <td>18256 </td> <td>190   </td> <td>734   </td> <td>30    </td> <td>67    </td> <td>160   </td> <td>477   </td> <td>210   </td> <td>1437  </td> <td>160   </td> <td>1488  </td> <td>180   </td> <td>514   </td> <td>330   </td> <td>17918 </td> <td>330   </td> <td>2627  </td> <td>0     </td> <td>0     </td> <td>190   </td> <td>380   </td> <td>0     </td> <td>0     </td> <td>50    </td> <td>37    </td> <td>60    </td> <td>66    </td> <td>0     </td> <td>0     </td> <td>180   </td> <td>309   </td> <td>0     </td> <td>0     </td> <td>40    </td> <td>191   </td> <td>330   </td> <td>3127  </td> <td>0     </td> <td>0     </td> <td>0     </td> <td>0     </td> <td>0     </td> <td>0     </td> <td>50    </td> <td>41    </td> <td>330   </td> <td>2247  </td> <td>330   </td> <td>2398  </td> <td>0     </td> <td>0     </td> <td>0     </td> <td>0     </td> <td>70    </td> <td>289   </td> <td>270   </td> <td>1014  </td>\n",
       "        </tr>\n",
       "    </tbody>\n",
       "        <tr>\n",
       "            <td>90001</td> <td>160  </td> <td>30   </td> <td>100  </td> <td>40   </td> <td>130  </td> <td>510  </td> <td>250   </td> <td>24676 </td> <td>160   </td> <td>25017 </td> <td>150   </td> <td>17851 </td> <td>70    </td> <td>35    </td> <td>20    </td> <td>71    </td> <td>0     </td> <td>0     </td> <td>70    </td> <td>140   </td> <td>0     </td> <td>0     </td> <td>20    </td> <td>88    </td> <td>0     </td> <td>0     </td> <td>20    </td> <td>477   </td> <td>0   </td> <td>0     </td> <td>0     </td> <td>0     </td> <td>0     </td> <td>20    </td> <td>2967  </td> <td>40    </td> <td>186   </td> <td>0     </td> <td>0     </td> <td>0     </td> <td>0     </td> <td>0     </td> <td>0     </td> <td>0     </td> <td>0     </td> <td>0     </td> <td>0     </td> <td>0     </td> <td>0     </td> <td>0     </td> <td>0     </td> <td>130   </td> <td>4063  </td> <td>20530 </td> <td>120   </td> <td>1362  </td> <td>0     </td> <td>0     </td> <td>100   </td> <td>447   </td> <td>130   </td> <td>1980  </td> <td>90    </td> <td>1086  </td> <td>100   </td> <td>429   </td> <td>160   </td> <td>18375 </td> <td>160   </td> <td>3889  </td> <td>30    </td> <td>124   </td> <td>80    </td> <td>145   </td> <td>0     </td> <td>0     </td> <td>0     </td> <td>0     </td> <td>0     </td> <td>0     </td> <td>0     </td> <td>0     </td> <td>60    </td> <td>74    </td> <td>0     </td> <td>0     </td> <td>0     </td> <td>0     </td> <td>160   </td> <td>3868  </td> <td>0     </td> <td>0     </td> <td>0     </td> <td>0     </td> <td>0     </td> <td>0     </td> <td>0     </td> <td>0     </td> <td>160   </td> <td>3723  </td> <td>160   </td> <td>3897  </td> <td>0     </td> <td>0     </td> <td>0     </td> <td>0     </td> <td>60    </td> <td>702   </td> <td>100   </td> <td>474   </td>\n",
       "        </tr>\n",
       "    </tbody>\n",
       "        <tr>\n",
       "            <td>90001</td> <td>0    </td> <td>0    </td> <td>0    </td> <td>0    </td> <td>0    </td> <td>0    </td> <td>0     </td> <td>0     </td> <td>0     </td> <td>0     </td> <td>0     </td> <td>0     </td> <td>0     </td> <td>0     </td> <td>0     </td> <td>0     </td> <td>0     </td> <td>0     </td> <td>0     </td> <td>0     </td> <td>0     </td> <td>0     </td> <td>0     </td> <td>0     </td> <td>0     </td> <td>0     </td> <td>0     </td> <td>0     </td> <td>0   </td> <td>0     </td> <td>0     </td> <td>0     </td> <td>0     </td> <td>0     </td> <td>0     </td> <td>0     </td> <td>0     </td> <td>0     </td> <td>0     </td> <td>0     </td> <td>0     </td> <td>0     </td> <td>0     </td> <td>0     </td> <td>0     </td> <td>0     </td> <td>0     </td> <td>0     </td> <td>0     </td> <td>0     </td> <td>0     </td> <td>0     </td> <td>0     </td> <td>0     </td> <td>0     </td> <td>0     </td> <td>0     </td> <td>0     </td> <td>0     </td> <td>0     </td> <td>0     </td> <td>0     </td> <td>0     </td> <td>0     </td> <td>0     </td> <td>0     </td> <td>0     </td> <td>0     </td> <td>0     </td> <td>0     </td> <td>0     </td> <td>0     </td> <td>0     </td> <td>0     </td> <td>0     </td> <td>0     </td> <td>0     </td> <td>0     </td> <td>0     </td> <td>0     </td> <td>0     </td> <td>0     </td> <td>0     </td> <td>0     </td> <td>0     </td> <td>0     </td> <td>0     </td> <td>0     </td> <td>0     </td> <td>0     </td> <td>0     </td> <td>0     </td> <td>0     </td> <td>0     </td> <td>0     </td> <td>0     </td> <td>0     </td> <td>0     </td> <td>0     </td> <td>0     </td> <td>0     </td> <td>0     </td> <td>0     </td> <td>0     </td> <td>0     </td> <td>0     </td> <td>0     </td> <td>0     </td> <td>0     </td> <td>0     </td>\n",
       "        </tr>\n",
       "    </tbody>\n",
       "        <tr>\n",
       "            <td>90002</td> <td>12150</td> <td>6330 </td> <td>1460 </td> <td>4330 </td> <td>9580 </td> <td>27240</td> <td>14070 </td> <td>167261</td> <td>12150 </td> <td>170095</td> <td>9440  </td> <td>126482</td> <td>610   </td> <td>73    </td> <td>50    </td> <td>19    </td> <td>40    </td> <td>9     </td> <td>150   </td> <td>49    </td> <td>3610  </td> <td>34019 </td> <td>50    </td> <td>9     </td> <td>50    </td> <td>196   </td> <td>380   </td> <td>3133  </td> <td>0   </td> <td>900   </td> <td>4222  </td> <td>70    </td> <td>84    </td> <td>30    </td> <td>116   </td> <td>3630  </td> <td>2834  </td> <td>30    </td> <td>7     </td> <td>0     </td> <td>0     </td> <td>0     </td> <td>0     </td> <td>0     </td> <td>0     </td> <td>170   </td> <td>133   </td> <td>50    </td> <td>103   </td> <td>0     </td> <td>0     </td> <td>540   </td> <td>7237  </td> <td>8945  </td> <td>170   </td> <td>124   </td> <td>300   </td> <td>175   </td> <td>360   </td> <td>987   </td> <td>530   </td> <td>1621  </td> <td>390   </td> <td>3444  </td> <td>260   </td> <td>367   </td> <td>3750  </td> <td>18438 </td> <td>3750  </td> <td>1927  </td> <td>0     </td> <td>0     </td> <td>1800  </td> <td>618   </td> <td>0     </td> <td>0     </td> <td>100   </td> <td>35    </td> <td>540   </td> <td>242   </td> <td>240   </td> <td>39    </td> <td>980   </td> <td>300   </td> <td>0     </td> <td>0     </td> <td>3400  </td> <td>4983  </td> <td>11540 </td> <td>39973 </td> <td>6940  </td> <td>23487 </td> <td>6550  </td> <td>19268 </td> <td>6380  </td> <td>8439  </td> <td>1520  </td> <td>1330  </td> <td>2210  </td> <td>1310  </td> <td>5520  </td> <td>6298  </td> <td>0     </td> <td>0     </td> <td>0     </td> <td>0     </td> <td>930   </td> <td>642   </td> <td>10960 </td> <td>34691 </td>\n",
       "        </tr>\n",
       "    </tbody>\n",
       "        <tr>\n",
       "            <td>90002</td> <td>5030 </td> <td>1510 </td> <td>1490 </td> <td>1980 </td> <td>4120 </td> <td>14410</td> <td>7890  </td> <td>173280</td> <td>5030  </td> <td>174335</td> <td>4760  </td> <td>159099</td> <td>790   </td> <td>52    </td> <td>60    </td> <td>41    </td> <td>40    </td> <td>17    </td> <td>620   </td> <td>351   </td> <td>560   </td> <td>6015  </td> <td>70    </td> <td>-10   </td> <td>40    </td> <td>237   </td> <td>320   </td> <td>5075  </td> <td>0   </td> <td>390   </td> <td>2070  </td> <td>180   </td> <td>831   </td> <td>0     </td> <td>0     </td> <td>710   </td> <td>1055  </td> <td>50    </td> <td>11    </td> <td>0     </td> <td>0     </td> <td>0     </td> <td>0     </td> <td>40    </td> <td>107   </td> <td>190   </td> <td>179   </td> <td>50    </td> <td>99    </td> <td>0     </td> <td>0     </td> <td>1330  </td> <td>21281 </td> <td>49334 </td> <td>840   </td> <td>1008  </td> <td>440   </td> <td>489   </td> <td>900   </td> <td>2430  </td> <td>1320  </td> <td>4684  </td> <td>920   </td> <td>7738  </td> <td>960   </td> <td>2253  </td> <td>4550  </td> <td>63887 </td> <td>4540  </td> <td>7503  </td> <td>0     </td> <td>0     </td> <td>2840  </td> <td>2550  </td> <td>0     </td> <td>0     </td> <td>330   </td> <td>234   </td> <td>590   </td> <td>523   </td> <td>500   </td> <td>89    </td> <td>2050  </td> <td>1688  </td> <td>30    </td> <td>9     </td> <td>420   </td> <td>1003  </td> <td>4960  </td> <td>20637 </td> <td>2020  </td> <td>4371  </td> <td>1750  </td> <td>3736  </td> <td>2140  </td> <td>3459  </td> <td>560   </td> <td>455   </td> <td>2740  </td> <td>4953  </td> <td>3070  </td> <td>5998  </td> <td>0     </td> <td>0     </td> <td>0     </td> <td>0     </td> <td>420   </td> <td>782   </td> <td>4590  </td> <td>15527 </td>\n",
       "        </tr>\n",
       "    </tbody>\n",
       "        <tr>\n",
       "            <td>90002</td> <td>1320 </td> <td>300  </td> <td>600  </td> <td>400  </td> <td>1060 </td> <td>4090 </td> <td>2180  </td> <td>78559 </td> <td>1320  </td> <td>78871 </td> <td>1270  </td> <td>72098 </td> <td>390   </td> <td>62    </td> <td>40    </td> <td>9     </td> <td>50    </td> <td>4     </td> <td>460   </td> <td>462   </td> <td>100   </td> <td>596   </td> <td>30    </td> <td>65    </td> <td>40    </td> <td>552   </td> <td>170   </td> <td>3512  </td> <td>0   </td> <td>120   </td> <td>621   </td> <td>70    </td> <td>859   </td> <td>0     </td> <td>0     </td> <td>200   </td> <td>312   </td> <td>50    </td> <td>11    </td> <td>0     </td> <td>0     </td> <td>0     </td> <td>0     </td> <td>20    </td> <td>54    </td> <td>110   </td> <td>99    </td> <td>0     </td> <td>0     </td> <td>0     </td> <td>0     </td> <td>710   </td> <td>13730 </td> <td>42942 </td> <td>570   </td> <td>1316  </td> <td>130   </td> <td>266   </td> <td>540   </td> <td>1495  </td> <td>710   </td> <td>3603  </td> <td>530   </td> <td>4724  </td> <td>550   </td> <td>1480  </td> <td>1310  </td> <td>42787 </td> <td>1310  </td> <td>5729  </td> <td>20    </td> <td>24    </td> <td>780   </td> <td>1314  </td> <td>0     </td> <td>0     </td> <td>120   </td> <td>94    </td> <td>170   </td> <td>176   </td> <td>70    </td> <td>10    </td> <td>670   </td> <td>1023  </td> <td>20    </td> <td>6     </td> <td>60    </td> <td>118   </td> <td>1310  </td> <td>7846  </td> <td>0     </td> <td>0     </td> <td>0     </td> <td>0     </td> <td>190   </td> <td>272   </td> <td>150   </td> <td>115   </td> <td>1120  </td> <td>4415  </td> <td>1140  </td> <td>4550  </td> <td>0     </td> <td>0     </td> <td>0     </td> <td>0     </td> <td>180   </td> <td>359   </td> <td>1130  </td> <td>3645  </td>\n",
       "        </tr>\n",
       "    </tbody>\n",
       "        <tr>\n",
       "            <td>90002</td> <td>340  </td> <td>90   </td> <td>190  </td> <td>90   </td> <td>270  </td> <td>1060 </td> <td>530   </td> <td>28502 </td> <td>340   </td> <td>28558 </td> <td>320   </td> <td>25304 </td> <td>110   </td> <td>29    </td> <td>20    </td> <td>3     </td> <td>0     </td> <td>0     </td> <td>160   </td> <td>224   </td> <td>40    </td> <td>235   </td> <td>20    </td> <td>193   </td> <td>0     </td> <td>0     </td> <td>50    </td> <td>1538  </td> <td>0   </td> <td>40    </td> <td>218   </td> <td>40    </td> <td>570   </td> <td>0     </td> <td>0     </td> <td>40    </td> <td>56    </td> <td>0     </td> <td>0     </td> <td>0     </td> <td>0     </td> <td>0     </td> <td>0     </td> <td>0     </td> <td>0     </td> <td>0     </td> <td>0     </td> <td>0     </td> <td>0     </td> <td>0     </td> <td>0     </td> <td>230   </td> <td>5033  </td> <td>19189 </td> <td>200   </td> <td>780   </td> <td>30    </td> <td>73    </td> <td>180   </td> <td>545   </td> <td>230   </td> <td>1521  </td> <td>170   </td> <td>1601  </td> <td>200   </td> <td>685   </td> <td>340   </td> <td>18186 </td> <td>340   </td> <td>2749  </td> <td>0     </td> <td>0     </td> <td>190   </td> <td>365   </td> <td>0     </td> <td>0     </td> <td>60    </td> <td>40    </td> <td>50    </td> <td>65    </td> <td>0     </td> <td>0     </td> <td>170   </td> <td>282   </td> <td>0     </td> <td>0     </td> <td>20    </td> <td>55    </td> <td>340   </td> <td>3225  </td> <td>0     </td> <td>0     </td> <td>0     </td> <td>0     </td> <td>0     </td> <td>0     </td> <td>50    </td> <td>43    </td> <td>330   </td> <td>2384  </td> <td>330   </td> <td>2427  </td> <td>0     </td> <td>0     </td> <td>0     </td> <td>0     </td> <td>60    </td> <td>213   </td> <td>270   </td> <td>1009  </td>\n",
       "        </tr>\n",
       "    </tbody>\n",
       "</table>\n",
       "<p>... (8888 rows omitted)</p"
      ],
      "text/plain": [
       "ZIP   | N1    | MARS1 | MARS2 | MARS4 | PREP  | N2    | NUMDEP | A00100 | N02650 | A02650 | N00200 | A00200 | N00300 | A00300 | N00600 | A00600 | N00650 | A00650 | N00700 | A00700 | N00900 | A00900 | N01000 | A01000 | N01400 | A01400 | N01700 | A01700 | SCHF | N02300 | A02300 | N02500 | A02500 | N26270 | A26270 | N02900 | A02900 | N03220 | A03220 | N03300 | A03300 | N03270 | A03270 | N03150 | A03150 | N03210 | A03210 | N03230 | A03230 | N03240 | A03240 | N04470 | A04470 | A00101 | N18425 | A18425 | N18450 | A18450 | N18500 | A18500 | N18300 | A18300 | N19300 | A19300 | N19700 | A19700 | N04800 | A04800 | N05800 | A05800 | N09600 | A09600 | N07100 | A07100 | N07300 | A07300 | N07180 | A07180 | N07230 | A07230 | N07240 | A07240 | N07220 | A07220 | N07260 | A07260 | N09400 | A09400 | N10600 | A10600 | N59660 | A59660 | N59720 | A59720 | N11070 | A11070 | N10960 | A10960 | N06500 | A06500 | N10300 | A10300 | N85330 | A85330 | N85300 | A85300 | N11901 | A11901 | N11902 | A11902\n",
       "90001 | 13100 | 6900  | 1890  | 4270  | 10740 | 29670 | 15200  | 181693 | 13100  | 184344 | 10220  | 142287 | 640    | 96     | 50     | 69     | 30     | 20     | 180    | 55     | 3490   | 31751  | 70     | -17    | 60     | 382    | 380    | 3001   | 0    | 950    | 4493   | 80     | 123    | 30     | 105    | 3510   | 2651   | 20     | 6      | 0      | 0      | 0      | 0      | 0      | 0      | 150    | 119    | 60     | 98     | 0      | 0      | 510    | 7212   | 8498   | 170    | 95     | 270    | 154    | 340    | 952    | 500    | 1424   | 340    | 3168   | 240    | 363    | 4200   | 20798  | 4190   | 2176   | 0      | 0      | 1800   | 623    | 0      | 0      | 70     | 28     | 520    | 248    | 240    | 39     | 1020   | 304    | 0      | 0      | 3290   | 4659   | 12180  | 37759  | 6320   | 20531  | 5880   | 16995  | 6500   | 8805   | 1230   | 980    | 2680   | 1554   | 5800   | 6197   | 0      | 0      | 0      | 0      | 1220   | 856    | 11480  | 32934\n",
       "90001 | 5900  | 1700  | 1970  | 2210  | 4960  | 17550 | 9690   | 203628 | 5900   | 204512 | 5610   | 188556 | 830    | 68     | 60     | 32     | 70     | 19     | 660    | 351    | 540    | 5917   | 60     | 111    | 50     | 489    | 310    | 4450   | 0    | 460    | 2522   | 210    | 947    | 40     | 831    | 700    | 885    | 50     | 12     | 0      | 0      | 0      | 0      | 50     | 152    | 200    | 154    | 50     | 81     | 0      | 0      | 1260   | 20442  | 46800  | 800    | 1023   | 430    | 505    | 810    | 2383   | 1250   | 4605   | 820    | 7172   | 870    | 1620   | 5300   | 74352  | 5290   | 8710   | 0      | 0      | 3380   | 2947   | 0      | 0      | 370    | 249    | 620    | 518    | 630    | 114    | 2520   | 2047   | 20     | 6      | 410    | 982    | 5820   | 23531  | 2160   | 4562   | 1890   | 3948   | 2520   | 4160   | 600    | 441    | 3180   | 5762   | 3460   | 6754   | 0      | 0      | 0      | 0      | 530    | 797    | 5360   | 17656\n",
       "90001 | 1480  | 330   | 760   | 390   | 1240  | 4710  | 2470   | 89065  | 1480   | 89344  | 1440   | 82579  | 400    | 32     | 20     | 12     | 0      | 0      | 460    | 477    | 130    | 1351   | 40     | 1      | 40     | 660    | 140    | 2599   | 0    | 150    | 892    | 60     | 670    | 0      | 0      | 210    | 279    | 50     | 14     | 0      | 0      | 0      | 0      | 0      | 0      | 90     | 76     | 0      | 0      | 0      | 0      | 680    | 13264  | 41920  | 540    | 1329   | 120    | 294    | 500    | 1453   | 680    | 3591   | 490    | 4248   | 560    | 1296   | 1470   | 49298  | 1470   | 6618   | 0      | 0      | 900    | 1488   | 0      | 0      | 120    | 90     | 180    | 198    | 80     | 11     | 750    | 1163   | 20     | 7      | 80     | 232    | 1470   | 8950   | 0      | 0      | 0      | 0      | 190    | 256    | 170    | 132    | 1290   | 5131   | 1310   | 5417   | 0      | 0      | 0      | 0      | 230    | 520    | 1250   | 4050\n",
       "90001 | 330   | 50    | 210   | 70    | 290   | 1100  | 560    | 28395  | 330    | 28555  | 320    | 25271  | 130    | 10     | 20     | 24     | 30     | 29     | 160    | 235    | 60     | 1084   | 0      | 0      | 0      | 0      | 40     | 1044   | 0    | 40     | 230    | 30     | 598    | 0      | 0      | 60     | 160    | 0      | 0      | 0      | 0      | 0      | 0      | 0      | 0      | 30     | 21     | 0      | 0      | 0      | 0      | 210    | 4846   | 18256  | 190    | 734    | 30     | 67     | 160    | 477    | 210    | 1437   | 160    | 1488   | 180    | 514    | 330    | 17918  | 330    | 2627   | 0      | 0      | 190    | 380    | 0      | 0      | 50     | 37     | 60     | 66     | 0      | 0      | 180    | 309    | 0      | 0      | 40     | 191    | 330    | 3127   | 0      | 0      | 0      | 0      | 0      | 0      | 50     | 41     | 330    | 2247   | 330    | 2398   | 0      | 0      | 0      | 0      | 70     | 289    | 270    | 1014\n",
       "90001 | 160   | 30    | 100   | 40    | 130   | 510   | 250    | 24676  | 160    | 25017  | 150    | 17851  | 70     | 35     | 20     | 71     | 0      | 0      | 70     | 140    | 0      | 0      | 20     | 88     | 0      | 0      | 20     | 477    | 0    | 0      | 0      | 0      | 0      | 20     | 2967   | 40     | 186    | 0      | 0      | 0      | 0      | 0      | 0      | 0      | 0      | 0      | 0      | 0      | 0      | 0      | 0      | 130    | 4063   | 20530  | 120    | 1362   | 0      | 0      | 100    | 447    | 130    | 1980   | 90     | 1086   | 100    | 429    | 160    | 18375  | 160    | 3889   | 30     | 124    | 80     | 145    | 0      | 0      | 0      | 0      | 0      | 0      | 0      | 0      | 60     | 74     | 0      | 0      | 0      | 0      | 160    | 3868   | 0      | 0      | 0      | 0      | 0      | 0      | 0      | 0      | 160    | 3723   | 160    | 3897   | 0      | 0      | 0      | 0      | 60     | 702    | 100    | 474\n",
       "90001 | 0     | 0     | 0     | 0     | 0     | 0     | 0      | 0      | 0      | 0      | 0      | 0      | 0      | 0      | 0      | 0      | 0      | 0      | 0      | 0      | 0      | 0      | 0      | 0      | 0      | 0      | 0      | 0      | 0    | 0      | 0      | 0      | 0      | 0      | 0      | 0      | 0      | 0      | 0      | 0      | 0      | 0      | 0      | 0      | 0      | 0      | 0      | 0      | 0      | 0      | 0      | 0      | 0      | 0      | 0      | 0      | 0      | 0      | 0      | 0      | 0      | 0      | 0      | 0      | 0      | 0      | 0      | 0      | 0      | 0      | 0      | 0      | 0      | 0      | 0      | 0      | 0      | 0      | 0      | 0      | 0      | 0      | 0      | 0      | 0      | 0      | 0      | 0      | 0      | 0      | 0      | 0      | 0      | 0      | 0      | 0      | 0      | 0      | 0      | 0      | 0      | 0      | 0      | 0      | 0      | 0      | 0      | 0      | 0      | 0\n",
       "90002 | 12150 | 6330  | 1460  | 4330  | 9580  | 27240 | 14070  | 167261 | 12150  | 170095 | 9440   | 126482 | 610    | 73     | 50     | 19     | 40     | 9      | 150    | 49     | 3610   | 34019  | 50     | 9      | 50     | 196    | 380    | 3133   | 0    | 900    | 4222   | 70     | 84     | 30     | 116    | 3630   | 2834   | 30     | 7      | 0      | 0      | 0      | 0      | 0      | 0      | 170    | 133    | 50     | 103    | 0      | 0      | 540    | 7237   | 8945   | 170    | 124    | 300    | 175    | 360    | 987    | 530    | 1621   | 390    | 3444   | 260    | 367    | 3750   | 18438  | 3750   | 1927   | 0      | 0      | 1800   | 618    | 0      | 0      | 100    | 35     | 540    | 242    | 240    | 39     | 980    | 300    | 0      | 0      | 3400   | 4983   | 11540  | 39973  | 6940   | 23487  | 6550   | 19268  | 6380   | 8439   | 1520   | 1330   | 2210   | 1310   | 5520   | 6298   | 0      | 0      | 0      | 0      | 930    | 642    | 10960  | 34691\n",
       "90002 | 5030  | 1510  | 1490  | 1980  | 4120  | 14410 | 7890   | 173280 | 5030   | 174335 | 4760   | 159099 | 790    | 52     | 60     | 41     | 40     | 17     | 620    | 351    | 560    | 6015   | 70     | -10    | 40     | 237    | 320    | 5075   | 0    | 390    | 2070   | 180    | 831    | 0      | 0      | 710    | 1055   | 50     | 11     | 0      | 0      | 0      | 0      | 40     | 107    | 190    | 179    | 50     | 99     | 0      | 0      | 1330   | 21281  | 49334  | 840    | 1008   | 440    | 489    | 900    | 2430   | 1320   | 4684   | 920    | 7738   | 960    | 2253   | 4550   | 63887  | 4540   | 7503   | 0      | 0      | 2840   | 2550   | 0      | 0      | 330    | 234    | 590    | 523    | 500    | 89     | 2050   | 1688   | 30     | 9      | 420    | 1003   | 4960   | 20637  | 2020   | 4371   | 1750   | 3736   | 2140   | 3459   | 560    | 455    | 2740   | 4953   | 3070   | 5998   | 0      | 0      | 0      | 0      | 420    | 782    | 4590   | 15527\n",
       "90002 | 1320  | 300   | 600   | 400   | 1060  | 4090  | 2180   | 78559  | 1320   | 78871  | 1270   | 72098  | 390    | 62     | 40     | 9      | 50     | 4      | 460    | 462    | 100    | 596    | 30     | 65     | 40     | 552    | 170    | 3512   | 0    | 120    | 621    | 70     | 859    | 0      | 0      | 200    | 312    | 50     | 11     | 0      | 0      | 0      | 0      | 20     | 54     | 110    | 99     | 0      | 0      | 0      | 0      | 710    | 13730  | 42942  | 570    | 1316   | 130    | 266    | 540    | 1495   | 710    | 3603   | 530    | 4724   | 550    | 1480   | 1310   | 42787  | 1310   | 5729   | 20     | 24     | 780    | 1314   | 0      | 0      | 120    | 94     | 170    | 176    | 70     | 10     | 670    | 1023   | 20     | 6      | 60     | 118    | 1310   | 7846   | 0      | 0      | 0      | 0      | 190    | 272    | 150    | 115    | 1120   | 4415   | 1140   | 4550   | 0      | 0      | 0      | 0      | 180    | 359    | 1130   | 3645\n",
       "90002 | 340   | 90    | 190   | 90    | 270   | 1060  | 530    | 28502  | 340    | 28558  | 320    | 25304  | 110    | 29     | 20     | 3      | 0      | 0      | 160    | 224    | 40     | 235    | 20     | 193    | 0      | 0      | 50     | 1538   | 0    | 40     | 218    | 40     | 570    | 0      | 0      | 40     | 56     | 0      | 0      | 0      | 0      | 0      | 0      | 0      | 0      | 0      | 0      | 0      | 0      | 0      | 0      | 230    | 5033   | 19189  | 200    | 780    | 30     | 73     | 180    | 545    | 230    | 1521   | 170    | 1601   | 200    | 685    | 340    | 18186  | 340    | 2749   | 0      | 0      | 190    | 365    | 0      | 0      | 60     | 40     | 50     | 65     | 0      | 0      | 170    | 282    | 0      | 0      | 20     | 55     | 340    | 3225   | 0      | 0      | 0      | 0      | 0      | 0      | 50     | 43     | 330    | 2384   | 330    | 2427   | 0      | 0      | 0      | 0      | 60     | 213    | 270    | 1009\n",
       "... (8888 rows omitted)"
      ]
     },
     "execution_count": 2,
     "metadata": {},
     "output_type": "execute_result"
    }
   ],
   "source": [
    "income_raw = Table.read_table('ca_income_by_zip.csv', dtype={'ZIP': str}).drop(['STATEFIPS', 'STATE', 'agi_stub'])\n",
    "income_raw"
   ]
  },
  {
   "cell_type": "markdown",
   "metadata": {},
   "source": [
    "Some observations:\n",
    "\n",
    "1. The table contains several numerical columns and a column for the ZIP code.\n",
    "2. For each ZIP code, there are 6 rows.  Each row for a ZIP code has data from tax returns in one *income bracket* -- a group of people who make between some income and some other income.  \n",
    "3. According to the IRS documentation, all the numerical columns are *totals* -- either total numbers of returns that fall into various categories, or total amounts of money (in thousands of dollars) from returns in those categories.  For example, the column `'N02650'` is the number of returns that included a total income amount, and `'A02650'` is the total amount of total income (in thousands of dollars) from those returns.\n",
    "\n",
    "**Question 1.0.** Since we don't care about income brackets, but we do care about totals per ZIP code, let's group together our income data by ZIP code. Assign the name `income_by_zipcode` to a table with just one row per ZIP code. When you group according to ZIP code, the remaining columns should be summed. In other words, for any other column such as `'N02650'`, the value of `'N02650'` in a row corresponding to ZIP code 90210 (for example) should be the sum of the values of `'N02650'` in the 6 rows of `income_raw` corresponding to ZIP code 90210."
   ]
  },
  {
   "cell_type": "code",
   "execution_count": 3,
   "metadata": {
    "collapsed": false
   },
   "outputs": [
    {
     "data": {
      "text/html": [
       "<table border=\"1\" class=\"dataframe\">\n",
       "    <thead>\n",
       "        <tr>\n",
       "            <th>ZIP</th> <th>N1 sum</th> <th>MARS1 sum</th> <th>MARS2 sum</th> <th>MARS4 sum</th> <th>PREP sum</th> <th>N2 sum</th> <th>NUMDEP sum</th> <th>A00100 sum</th> <th>N02650 sum</th> <th>A02650 sum</th> <th>N00200 sum</th> <th>A00200 sum</th> <th>N00300 sum</th> <th>A00300 sum</th> <th>N00600 sum</th> <th>A00600 sum</th> <th>N00650 sum</th> <th>A00650 sum</th> <th>N00700 sum</th> <th>A00700 sum</th> <th>N00900 sum</th> <th>A00900 sum</th> <th>N01000 sum</th> <th>A01000 sum</th> <th>N01400 sum</th> <th>A01400 sum</th> <th>N01700 sum</th> <th>A01700 sum</th> <th>SCHF sum</th> <th>N02300 sum</th> <th>A02300 sum</th> <th>N02500 sum</th> <th>A02500 sum</th> <th>N26270 sum</th> <th>A26270 sum</th> <th>N02900 sum</th> <th>A02900 sum</th> <th>N03220 sum</th> <th>A03220 sum</th> <th>N03300 sum</th> <th>A03300 sum</th> <th>N03270 sum</th> <th>A03270 sum</th> <th>N03150 sum</th> <th>A03150 sum</th> <th>N03210 sum</th> <th>A03210 sum</th> <th>N03230 sum</th> <th>A03230 sum</th> <th>N03240 sum</th> <th>A03240 sum</th> <th>N04470 sum</th> <th>A04470 sum</th> <th>A00101 sum</th> <th>N18425 sum</th> <th>A18425 sum</th> <th>N18450 sum</th> <th>A18450 sum</th> <th>N18500 sum</th> <th>A18500 sum</th> <th>N18300 sum</th> <th>A18300 sum</th> <th>N19300 sum</th> <th>A19300 sum</th> <th>N19700 sum</th> <th>A19700 sum</th> <th>N04800 sum</th> <th>A04800 sum</th> <th>N05800 sum</th> <th>A05800 sum</th> <th>N09600 sum</th> <th>A09600 sum</th> <th>N07100 sum</th> <th>A07100 sum</th> <th>N07300 sum</th> <th>A07300 sum</th> <th>N07180 sum</th> <th>A07180 sum</th> <th>N07230 sum</th> <th>A07230 sum</th> <th>N07240 sum</th> <th>A07240 sum</th> <th>N07220 sum</th> <th>A07220 sum</th> <th>N07260 sum</th> <th>A07260 sum</th> <th>N09400 sum</th> <th>A09400 sum</th> <th>N10600 sum</th> <th>A10600 sum</th> <th>N59660 sum</th> <th>A59660 sum</th> <th>N59720 sum</th> <th>A59720 sum</th> <th>N11070 sum</th> <th>A11070 sum</th> <th>N10960 sum</th> <th>A10960 sum</th> <th>N06500 sum</th> <th>A06500 sum</th> <th>N10300 sum</th> <th>A10300 sum</th> <th>N85330 sum</th> <th>A85330 sum</th> <th>N85300 sum</th> <th>A85300 sum</th> <th>N11901 sum</th> <th>A11901 sum</th> <th>N11902 sum</th> <th>A11902 sum</th>\n",
       "        </tr>\n",
       "    </thead>\n",
       "    <tbody>\n",
       "        <tr>\n",
       "            <td>90001</td> <td>20970 </td> <td>9010     </td> <td>4930     </td> <td>6980     </td> <td>17360   </td> <td>53540 </td> <td>28170     </td> <td>527457     </td> <td>20970     </td> <td>531772     </td> <td>17740     </td> <td>456544     </td> <td>2070      </td> <td>241       </td> <td>170       </td> <td>208       </td> <td>130       </td> <td>68        </td> <td>1530      </td> <td>1258      </td> <td>4220      </td> <td>40103     </td> <td>190       </td> <td>183       </td> <td>150       </td> <td>1531      </td> <td>890       </td> <td>11571     </td> <td>0       </td> <td>1600      </td> <td>8137      </td> <td>380       </td> <td>2338      </td> <td>90        </td> <td>3903      </td> <td>4520      </td> <td>4161      </td> <td>120       </td> <td>32        </td> <td>0         </td> <td>0         </td> <td>0         </td> <td>0         </td> <td>50        </td> <td>152       </td> <td>470       </td> <td>370       </td> <td>110       </td> <td>179       </td> <td>0         </td> <td>0         </td> <td>2790      </td> <td>49827     </td> <td>136004     </td> <td>1820      </td> <td>4543      </td> <td>850       </td> <td>1020      </td> <td>1910      </td> <td>5712      </td> <td>2770      </td> <td>13037     </td> <td>1900      </td> <td>17162     </td> <td>1950      </td> <td>4222      </td> <td>11460     </td> <td>180741     </td> <td>11440     </td> <td>24020     </td> <td>30        </td> <td>124       </td> <td>6350      </td> <td>5583      </td> <td>0         </td> <td>0         </td> <td>610       </td> <td>404       </td> <td>1380      </td> <td>1030      </td> <td>950       </td> <td>164       </td> <td>4530      </td> <td>3897      </td> <td>40        </td> <td>13        </td> <td>3820      </td> <td>6064      </td> <td>19960     </td> <td>77235     </td> <td>8480      </td> <td>25093     </td> <td>7770      </td> <td>20943     </td> <td>9210      </td> <td>13221     </td> <td>2050      </td> <td>1594      </td> <td>7640      </td> <td>18417     </td> <td>11060     </td> <td>24663     </td> <td>0         </td> <td>0         </td> <td>0         </td> <td>0         </td> <td>2110      </td> <td>3164      </td> <td>18460     </td> <td>56128     </td>\n",
       "        </tr>\n",
       "    </tbody>\n",
       "        <tr>\n",
       "            <td>90002</td> <td>18960 </td> <td>8230     </td> <td>3830     </td> <td>6800     </td> <td>15120   </td> <td>47200 </td> <td>24850     </td> <td>462823     </td> <td>18960     </td> <td>467128     </td> <td>15910     </td> <td>396088     </td> <td>1960      </td> <td>227       </td> <td>170       </td> <td>72        </td> <td>130       </td> <td>30        </td> <td>1450      </td> <td>1196      </td> <td>4310      </td> <td>40865     </td> <td>170       </td> <td>257       </td> <td>130       </td> <td>985       </td> <td>950       </td> <td>14167     </td> <td>0       </td> <td>1450      </td> <td>7131      </td> <td>360       </td> <td>2344      </td> <td>30        </td> <td>116       </td> <td>4610      </td> <td>4305      </td> <td>130       </td> <td>29        </td> <td>0         </td> <td>0         </td> <td>0         </td> <td>0         </td> <td>60        </td> <td>161       </td> <td>470       </td> <td>411       </td> <td>100       </td> <td>202       </td> <td>0         </td> <td>0         </td> <td>2910      </td> <td>50033     </td> <td>133338     </td> <td>1880      </td> <td>3809      </td> <td>900       </td> <td>1003      </td> <td>2070      </td> <td>5698      </td> <td>2890      </td> <td>12370     </td> <td>2100      </td> <td>18397     </td> <td>2060      </td> <td>5197      </td> <td>10070     </td> <td>153993     </td> <td>10060     </td> <td>19696     </td> <td>20        </td> <td>24        </td> <td>5660      </td> <td>4942      </td> <td>0         </td> <td>0         </td> <td>610       </td> <td>403       </td> <td>1350      </td> <td>1006      </td> <td>810       </td> <td>138       </td> <td>3910      </td> <td>3362      </td> <td>50        </td> <td>15        </td> <td>3900      </td> <td>6159      </td> <td>18270     </td> <td>73561     </td> <td>8960      </td> <td>27858     </td> <td>8300      </td> <td>23004     </td> <td>8710      </td> <td>12170     </td> <td>2280      </td> <td>1943      </td> <td>6520      </td> <td>14756     </td> <td>10180     </td> <td>21012     </td> <td>0         </td> <td>0         </td> <td>0         </td> <td>0         </td> <td>1630      </td> <td>2176      </td> <td>17040     </td> <td>55190     </td>\n",
       "        </tr>\n",
       "    </tbody>\n",
       "        <tr>\n",
       "            <td>90003</td> <td>26180 </td> <td>11310    </td> <td>5130     </td> <td>9640     </td> <td>20570   </td> <td>64470 </td> <td>33760     </td> <td>612733     </td> <td>26180     </td> <td>618848     </td> <td>21680     </td> <td>518846     </td> <td>2410      </td> <td>393       </td> <td>220       </td> <td>100       </td> <td>170       </td> <td>39        </td> <td>1690      </td> <td>1339      </td> <td>6240      </td> <td>59400     </td> <td>230       </td> <td>275       </td> <td>170       </td> <td>1528      </td> <td>1120      </td> <td>16814     </td> <td>0       </td> <td>1880      </td> <td>9002      </td> <td>490       </td> <td>3204      </td> <td>90        </td> <td>1173      </td> <td>6490      </td> <td>6102      </td> <td>150       </td> <td>39        </td> <td>0         </td> <td>0         </td> <td>30        </td> <td>97        </td> <td>90        </td> <td>262       </td> <td>560       </td> <td>477       </td> <td>160       </td> <td>284       </td> <td>0         </td> <td>0         </td> <td>3300      </td> <td>57436     </td> <td>147488     </td> <td>2110      </td> <td>4120      </td> <td>1000      </td> <td>1089      </td> <td>2250      </td> <td>6165      </td> <td>3280      </td> <td>13216     </td> <td>2290      </td> <td>21225     </td> <td>2260      </td> <td>5650      </td> <td>13410     </td> <td>196510     </td> <td>13410     </td> <td>24756     </td> <td>20        </td> <td>19        </td> <td>7510      </td> <td>6410      </td> <td>0         </td> <td>0         </td> <td>780       </td> <td>497       </td> <td>1780      </td> <td>1335      </td> <td>1060      </td> <td>184       </td> <td>5210      </td> <td>4347      </td> <td>50        </td> <td>13        </td> <td>5620      </td> <td>8885      </td> <td>25030     </td> <td>95254     </td> <td>11910     </td> <td>36094     </td> <td>10940     </td> <td>29504     </td> <td>11950     </td> <td>16777     </td> <td>3190      </td> <td>2789      </td> <td>8680      </td> <td>18348     </td> <td>13880     </td> <td>27416     </td> <td>0         </td> <td>0         </td> <td>0         </td> <td>0         </td> <td>2670      </td> <td>3534      </td> <td>23100     </td> <td>72074     </td>\n",
       "        </tr>\n",
       "    </tbody>\n",
       "        <tr>\n",
       "            <td>90004</td> <td>27360 </td> <td>15330    </td> <td>7000     </td> <td>4670     </td> <td>20260   </td> <td>51180 </td> <td>17800     </td> <td>1.61777e+06</td> <td>27360     </td> <td>1.64943e+06</td> <td>22010     </td> <td>1.02928e+06</td> <td>5270      </td> <td>20986     </td> <td>2890      </td> <td>37375     </td> <td>2670      </td> <td>26861     </td> <td>2650      </td> <td>7675      </td> <td>7390      </td> <td>102468    </td> <td>2820      </td> <td>83652     </td> <td>910       </td> <td>18993     </td> <td>1660      </td> <td>36911     </td> <td>0       </td> <td>1840      </td> <td>11778     </td> <td>1310      </td> <td>18705     </td> <td>1480      </td> <td>216013    </td> <td>9000      </td> <td>31663     </td> <td>280       </td> <td>69        </td> <td>240       </td> <td>8545      </td> <td>810       </td> <td>5683      </td> <td>440       </td> <td>2188      </td> <td>1740      </td> <td>1811      </td> <td>260       </td> <td>562       </td> <td>30        </td> <td>555       </td> <td>5510      </td> <td>240787    </td> <td>1.07313e+06</td> <td>4470      </td> <td>98390     </td> <td>860       </td> <td>996       </td> <td>2910      </td> <td>25109     </td> <td>5470      </td> <td>126876    </td> <td>2560      </td> <td>45167     </td> <td>4390      </td> <td>37387     </td> <td>18590     </td> <td>1.07024e+06</td> <td>18510     </td> <td>259534    </td> <td>1010      </td> <td>10245     </td> <td>6420      </td> <td>7893      </td> <td>990       </td> <td>1973      </td> <td>620       </td> <td>361       </td> <td>1680      </td> <td>1378      </td> <td>990       </td> <td>175       </td> <td>3010      </td> <td>2817      </td> <td>50        </td> <td>25        </td> <td>6600      </td> <td>17090     </td> <td>25170     </td> <td>318535    </td> <td>7180      </td> <td>14936     </td> <td>5470      </td> <td>11397     </td> <td>4720      </td> <td>6107      </td> <td>1990      </td> <td>1554      </td> <td>16120     </td> <td>252178    </td> <td>20150     </td> <td>276712    </td> <td>690       </td> <td>2166      </td> <td>820       </td> <td>4768      </td> <td>6360      </td> <td>32663     </td> <td>19660     </td> <td>59388     </td>\n",
       "        </tr>\n",
       "    </tbody>\n",
       "        <tr>\n",
       "            <td>90005</td> <td>15430 </td> <td>8550     </td> <td>3870     </td> <td>2830     </td> <td>11210   </td> <td>29910 </td> <td>11130     </td> <td>707020     </td> <td>15430     </td> <td>717290     </td> <td>12610     </td> <td>454410     </td> <td>2230      </td> <td>5575      </td> <td>1000      </td> <td>5358      </td> <td>910       </td> <td>3785      </td> <td>990       </td> <td>2305      </td> <td>3950      </td> <td>46369     </td> <td>1080      </td> <td>19080     </td> <td>270       </td> <td>5008      </td> <td>590       </td> <td>11898     </td> <td>0       </td> <td>830       </td> <td>5514      </td> <td>450       </td> <td>5601      </td> <td>650       </td> <td>112194    </td> <td>4900      </td> <td>10270     </td> <td>120       </td> <td>29        </td> <td>50        </td> <td>1631      </td> <td>250       </td> <td>1436      </td> <td>220       </td> <td>1064      </td> <td>990       </td> <td>990       </td> <td>150       </td> <td>367       </td> <td>0         </td> <td>0         </td> <td>2170      </td> <td>91544     </td> <td>387528     </td> <td>1620      </td> <td>37572     </td> <td>460       </td> <td>514       </td> <td>1060      </td> <td>8951      </td> <td>2170      </td> <td>47820     </td> <td>980       </td> <td>16705     </td> <td>1580      </td> <td>10994     </td> <td>9720      </td> <td>433364     </td> <td>9700      </td> <td>99692     </td> <td>260       </td> <td>2993      </td> <td>3240      </td> <td>3165      </td> <td>260       </td> <td>264       </td> <td>300       </td> <td>193       </td> <td>920       </td> <td>752       </td> <td>470       </td> <td>87        </td> <td>1700      </td> <td>1480      </td> <td>0         </td> <td>0         </td> <td>3550      </td> <td>7585      </td> <td>14110     </td> <td>125690    </td> <td>4140      </td> <td>8192      </td> <td>3160      </td> <td>6289      </td> <td>3220      </td> <td>4378      </td> <td>1110      </td> <td>881       </td> <td>8210      </td> <td>96559     </td> <td>10540     </td> <td>105653    </td> <td>180       </td> <td>545       </td> <td>190       </td> <td>713       </td> <td>3550      </td> <td>14752     </td> <td>11260     </td> <td>28426     </td>\n",
       "        </tr>\n",
       "    </tbody>\n",
       "        <tr>\n",
       "            <td>90006</td> <td>22630 </td> <td>11470    </td> <td>5400     </td> <td>5630     </td> <td>17840   </td> <td>47590 </td> <td>20210     </td> <td>563530     </td> <td>22630     </td> <td>571157     </td> <td>18360     </td> <td>466220     </td> <td>2130      </td> <td>841       </td> <td>560       </td> <td>949       </td> <td>490       </td> <td>631       </td> <td>980       </td> <td>1084      </td> <td>5730      </td> <td>54327     </td> <td>610       </td> <td>3191      </td> <td>230       </td> <td>1827      </td> <td>650       </td> <td>7700      </td> <td>0       </td> <td>1220      </td> <td>6570      </td> <td>470       </td> <td>3388      </td> <td>340       </td> <td>11002     </td> <td>6500      </td> <td>7628      </td> <td>120       </td> <td>28        </td> <td>0         </td> <td>0         </td> <td>130       </td> <td>402       </td> <td>190       </td> <td>898       </td> <td>920       </td> <td>910       </td> <td>130       </td> <td>305       </td> <td>0         </td> <td>0         </td> <td>2040      </td> <td>41866     </td> <td>130856     </td> <td>1380      </td> <td>5958      </td> <td>550       </td> <td>636       </td> <td>970       </td> <td>3901      </td> <td>2020      </td> <td>11393     </td> <td>940       </td> <td>11218     </td> <td>1400      </td> <td>4235      </td> <td>12680     </td> <td>233059     </td> <td>12640     </td> <td>33292     </td> <td>70        </td> <td>260       </td> <td>4980      </td> <td>4065      </td> <td>100       </td> <td>12        </td> <td>390       </td> <td>247       </td> <td>1310      </td> <td>1031      </td> <td>760       </td> <td>147       </td> <td>3080      </td> <td>2517      </td> <td>0         </td> <td>0         </td> <td>5320      </td> <td>8272      </td> <td>20900     </td> <td>72585     </td> <td>7800      </td> <td>18122     </td> <td>6230      </td> <td>14213     </td> <td>6600      </td> <td>8904      </td> <td>1780      </td> <td>1391      </td> <td>9890      </td> <td>29220     </td> <td>14110     </td> <td>37674     </td> <td>0         </td> <td>0         </td> <td>20        </td> <td>82        </td> <td>4350      </td> <td>6859      </td> <td>17660     </td> <td>41538     </td>\n",
       "        </tr>\n",
       "    </tbody>\n",
       "        <tr>\n",
       "            <td>90007</td> <td>11710 </td> <td>6350     </td> <td>2270     </td> <td>3020     </td> <td>8310    </td> <td>23380 </td> <td>9950      </td> <td>311779     </td> <td>11710     </td> <td>315581     </td> <td>9890      </td> <td>264552     </td> <td>1200      </td> <td>402       </td> <td>350       </td> <td>906       </td> <td>290       </td> <td>497       </td> <td>720       </td> <td>752       </td> <td>2490      </td> <td>22035     </td> <td>350       </td> <td>1824      </td> <td>130       </td> <td>1109      </td> <td>550       </td> <td>7843      </td> <td>0       </td> <td>800       </td> <td>4268      </td> <td>270       </td> <td>2251      </td> <td>110       </td> <td>3516      </td> <td>3090      </td> <td>3800      </td> <td>130       </td> <td>33        </td> <td>0         </td> <td>0         </td> <td>50        </td> <td>143       </td> <td>80        </td> <td>239       </td> <td>570       </td> <td>501       </td> <td>200       </td> <td>475       </td> <td>0         </td> <td>0         </td> <td>1380      </td> <td>26294     </td> <td>86932      </td> <td>990       </td> <td>3815      </td> <td>300       </td> <td>381       </td> <td>670       </td> <td>2407      </td> <td>1360      </td> <td>7221      </td> <td>660       </td> <td>7198      </td> <td>1010      </td> <td>3391      </td> <td>6950      </td> <td>142055     </td> <td>6930      </td> <td>20792     </td> <td>50        </td> <td>204       </td> <td>2990      </td> <td>2600      </td> <td>60        </td> <td>4         </td> <td>280       </td> <td>180       </td> <td>950       </td> <td>744       </td> <td>510       </td> <td>94        </td> <td>1700      </td> <td>1527      </td> <td>0         </td> <td>0         </td> <td>2220      </td> <td>3477      </td> <td>11030     </td> <td>42879     </td> <td>4110      </td> <td>9965      </td> <td>3570      </td> <td>8111      </td> <td>3170      </td> <td>4055      </td> <td>1210      </td> <td>974       </td> <td>5400      </td> <td>18163     </td> <td>7210      </td> <td>21810     </td> <td>0         </td> <td>0         </td> <td>0         </td> <td>0         </td> <td>1740      </td> <td>2815      </td> <td>9700      </td> <td>24024     </td>\n",
       "        </tr>\n",
       "    </tbody>\n",
       "        <tr>\n",
       "            <td>90008</td> <td>14710 </td> <td>8060     </td> <td>2310     </td> <td>4110     </td> <td>9990    </td> <td>27000 </td> <td>10310     </td> <td>662036     </td> <td>14710     </td> <td>668523     </td> <td>11380     </td> <td>473516     </td> <td>3220      </td> <td>1794      </td> <td>1270      </td> <td>3416      </td> <td>1090      </td> <td>2092      </td> <td>2580      </td> <td>4148      </td> <td>3540      </td> <td>26062     </td> <td>1070      </td> <td>10633     </td> <td>790       </td> <td>11251     </td> <td>2780      </td> <td>97603     </td> <td>0       </td> <td>1220      </td> <td>8145      </td> <td>1560      </td> <td>16870     </td> <td>290       </td> <td>10822     </td> <td>3790      </td> <td>6488      </td> <td>330       </td> <td>83        </td> <td>40        </td> <td>658       </td> <td>180       </td> <td>840       </td> <td>140       </td> <td>492       </td> <td>760       </td> <td>770       </td> <td>140       </td> <td>284       </td> <td>0         </td> <td>0         </td> <td>4720      </td> <td>123266    </td> <td>415395     </td> <td>3600      </td> <td>20978     </td> <td>920       </td> <td>1277      </td> <td>3300      </td> <td>13216     </td> <td>4700      </td> <td>38053     </td> <td>3040      </td> <td>39860     </td> <td>4140      </td> <td>19875     </td> <td>10190     </td> <td>386426     </td> <td>10160     </td> <td>67957     </td> <td>310       </td> <td>1493      </td> <td>3630      </td> <td>3434      </td> <td>190       </td> <td>23        </td> <td>550       </td> <td>337       </td> <td>1280      </td> <td>1145      </td> <td>510       </td> <td>82        </td> <td>1750      </td> <td>1627      </td> <td>110       </td> <td>64        </td> <td>2560      </td> <td>4976      </td> <td>13970     </td> <td>92620     </td> <td>4430      </td> <td>11786     </td> <td>3990      </td> <td>9400      </td> <td>3130      </td> <td>3892      </td> <td>1850      </td> <td>1619      </td> <td>8670      </td> <td>64525     </td> <td>10560     </td> <td>70194     </td> <td>170       </td> <td>177       </td> <td>150       </td> <td>179       </td> <td>2780      </td> <td>10578     </td> <td>11500     </td> <td>32783     </td>\n",
       "        </tr>\n",
       "    </tbody>\n",
       "        <tr>\n",
       "            <td>90010</td> <td>2210  </td> <td>1270     </td> <td>690      </td> <td>210      </td> <td>1760    </td> <td>3790  </td> <td>960       </td> <td>314333     </td> <td>2210      </td> <td>320471     </td> <td>1510      </td> <td>142280     </td> <td>780       </td> <td>8813      </td> <td>450       </td> <td>8701      </td> <td>400       </td> <td>6573      </td> <td>350       </td> <td>3145      </td> <td>680       </td> <td>20562     </td> <td>550       </td> <td>41200     </td> <td>90        </td> <td>2144      </td> <td>170       </td> <td>6049      </td> <td>0       </td> <td>90        </td> <td>632       </td> <td>180       </td> <td>3090      </td> <td>530       </td> <td>60900     </td> <td>870       </td> <td>6148      </td> <td>0         </td> <td>0         </td> <td>30        </td> <td>1103      </td> <td>170       </td> <td>1219      </td> <td>70        </td> <td>435       </td> <td>150       </td> <td>161       </td> <td>0         </td> <td>0         </td> <td>0         </td> <td>0         </td> <td>900       </td> <td>70940     </td> <td>272867     </td> <td>650       </td> <td>24978     </td> <td>160       </td> <td>224       </td> <td>600       </td> <td>6912      </td> <td>880       </td> <td>32771     </td> <td>520       </td> <td>9838      </td> <td>650       </td> <td>21417     </td> <td>1660      </td> <td>224561     </td> <td>1660      </td> <td>63634     </td> <td>180       </td> <td>2287      </td> <td>470       </td> <td>1626      </td> <td>140       </td> <td>902       </td> <td>40        </td> <td>25        </td> <td>100       </td> <td>98        </td> <td>40        </td> <td>9         </td> <td>170       </td> <td>170       </td> <td>0         </td> <td>0         </td> <td>650       </td> <td>3148      </td> <td>1840      </td> <td>62807     </td> <td>360       </td> <td>523       </td> <td>230       </td> <td>335       </td> <td>130       </td> <td>151       </td> <td>110       </td> <td>97        </td> <td>1540      </td> <td>62160     </td> <td>1790      </td> <td>67475     </td> <td>110       </td> <td>535       </td> <td>150       </td> <td>2053      </td> <td>820       </td> <td>18448     </td> <td>1140      </td> <td>7191      </td>\n",
       "        </tr>\n",
       "    </tbody>\n",
       "        <tr>\n",
       "            <td>90011</td> <td>36670 </td> <td>15540    </td> <td>8600     </td> <td>12390    </td> <td>30240   </td> <td>95640 </td> <td>51260     </td> <td>857731     </td> <td>36670     </td> <td>864961     </td> <td>31420     </td> <td>746856     </td> <td>3120      </td> <td>588       </td> <td>250       </td> <td>158       </td> <td>190       </td> <td>53        </td> <td>1940      </td> <td>1560      </td> <td>7160      </td> <td>70288     </td> <td>250       </td> <td>2056      </td> <td>170       </td> <td>1533      </td> <td>1150      </td> <td>14963     </td> <td>0       </td> <td>2280      </td> <td>10594     </td> <td>480       </td> <td>3262      </td> <td>150       </td> <td>1791      </td> <td>7780      </td> <td>6988      </td> <td>200       </td> <td>46        </td> <td>0         </td> <td>0         </td> <td>40        </td> <td>56        </td> <td>80        </td> <td>265       </td> <td>830       </td> <td>690       </td> <td>160       </td> <td>308       </td> <td>0         </td> <td>0         </td> <td>3800      </td> <td>66782     </td> <td>177957     </td> <td>2350      </td> <td>5318      </td> <td>1280      </td> <td>1332      </td> <td>2540      </td> <td>7374      </td> <td>3790      </td> <td>16048     </td> <td>2580      </td> <td>24554     </td> <td>2550      </td> <td>5437      </td> <td>18630     </td> <td>265130     </td> <td>18610     </td> <td>34509     </td> <td>40        </td> <td>90        </td> <td>10350     </td> <td>8588      </td> <td>0         </td> <td>0         </td> <td>940       </td> <td>604       </td> <td>2160      </td> <td>1528      </td> <td>1290      </td> <td>228       </td> <td>7560      </td> <td>6161      </td> <td>60        </td> <td>14        </td> <td>6600      </td> <td>10310     </td> <td>34770     </td> <td>123045    </td> <td>14220     </td> <td>41698     </td> <td>12950     </td> <td>34874     </td> <td>17190     </td> <td>25293     </td> <td>3450      </td> <td>2649      </td> <td>11970     </td> <td>25835     </td> <td>17980     </td> <td>36385     </td> <td>0         </td> <td>0         </td> <td>0         </td> <td>0         </td> <td>3830      </td> <td>4957      </td> <td>32070     </td> <td>92906     </td>\n",
       "        </tr>\n",
       "    </tbody>\n",
       "</table>\n",
       "<p>... (1473 rows omitted)</p"
      ],
      "text/plain": [
       "ZIP   | N1 sum | MARS1 sum | MARS2 sum | MARS4 sum | PREP sum | N2 sum | NUMDEP sum | A00100 sum  | N02650 sum | A02650 sum  | N00200 sum | A00200 sum  | N00300 sum | A00300 sum | N00600 sum | A00600 sum | N00650 sum | A00650 sum | N00700 sum | A00700 sum | N00900 sum | A00900 sum | N01000 sum | A01000 sum | N01400 sum | A01400 sum | N01700 sum | A01700 sum | SCHF sum | N02300 sum | A02300 sum | N02500 sum | A02500 sum | N26270 sum | A26270 sum | N02900 sum | A02900 sum | N03220 sum | A03220 sum | N03300 sum | A03300 sum | N03270 sum | A03270 sum | N03150 sum | A03150 sum | N03210 sum | A03210 sum | N03230 sum | A03230 sum | N03240 sum | A03240 sum | N04470 sum | A04470 sum | A00101 sum  | N18425 sum | A18425 sum | N18450 sum | A18450 sum | N18500 sum | A18500 sum | N18300 sum | A18300 sum | N19300 sum | A19300 sum | N19700 sum | A19700 sum | N04800 sum | A04800 sum  | N05800 sum | A05800 sum | N09600 sum | A09600 sum | N07100 sum | A07100 sum | N07300 sum | A07300 sum | N07180 sum | A07180 sum | N07230 sum | A07230 sum | N07240 sum | A07240 sum | N07220 sum | A07220 sum | N07260 sum | A07260 sum | N09400 sum | A09400 sum | N10600 sum | A10600 sum | N59660 sum | A59660 sum | N59720 sum | A59720 sum | N11070 sum | A11070 sum | N10960 sum | A10960 sum | N06500 sum | A06500 sum | N10300 sum | A10300 sum | N85330 sum | A85330 sum | N85300 sum | A85300 sum | N11901 sum | A11901 sum | N11902 sum | A11902 sum\n",
       "90001 | 20970  | 9010      | 4930      | 6980      | 17360    | 53540  | 28170      | 527457      | 20970      | 531772      | 17740      | 456544      | 2070       | 241        | 170        | 208        | 130        | 68         | 1530       | 1258       | 4220       | 40103      | 190        | 183        | 150        | 1531       | 890        | 11571      | 0        | 1600       | 8137       | 380        | 2338       | 90         | 3903       | 4520       | 4161       | 120        | 32         | 0          | 0          | 0          | 0          | 50         | 152        | 470        | 370        | 110        | 179        | 0          | 0          | 2790       | 49827      | 136004      | 1820       | 4543       | 850        | 1020       | 1910       | 5712       | 2770       | 13037      | 1900       | 17162      | 1950       | 4222       | 11460      | 180741      | 11440      | 24020      | 30         | 124        | 6350       | 5583       | 0          | 0          | 610        | 404        | 1380       | 1030       | 950        | 164        | 4530       | 3897       | 40         | 13         | 3820       | 6064       | 19960      | 77235      | 8480       | 25093      | 7770       | 20943      | 9210       | 13221      | 2050       | 1594       | 7640       | 18417      | 11060      | 24663      | 0          | 0          | 0          | 0          | 2110       | 3164       | 18460      | 56128\n",
       "90002 | 18960  | 8230      | 3830      | 6800      | 15120    | 47200  | 24850      | 462823      | 18960      | 467128      | 15910      | 396088      | 1960       | 227        | 170        | 72         | 130        | 30         | 1450       | 1196       | 4310       | 40865      | 170        | 257        | 130        | 985        | 950        | 14167      | 0        | 1450       | 7131       | 360        | 2344       | 30         | 116        | 4610       | 4305       | 130        | 29         | 0          | 0          | 0          | 0          | 60         | 161        | 470        | 411        | 100        | 202        | 0          | 0          | 2910       | 50033      | 133338      | 1880       | 3809       | 900        | 1003       | 2070       | 5698       | 2890       | 12370      | 2100       | 18397      | 2060       | 5197       | 10070      | 153993      | 10060      | 19696      | 20         | 24         | 5660       | 4942       | 0          | 0          | 610        | 403        | 1350       | 1006       | 810        | 138        | 3910       | 3362       | 50         | 15         | 3900       | 6159       | 18270      | 73561      | 8960       | 27858      | 8300       | 23004      | 8710       | 12170      | 2280       | 1943       | 6520       | 14756      | 10180      | 21012      | 0          | 0          | 0          | 0          | 1630       | 2176       | 17040      | 55190\n",
       "90003 | 26180  | 11310     | 5130      | 9640      | 20570    | 64470  | 33760      | 612733      | 26180      | 618848      | 21680      | 518846      | 2410       | 393        | 220        | 100        | 170        | 39         | 1690       | 1339       | 6240       | 59400      | 230        | 275        | 170        | 1528       | 1120       | 16814      | 0        | 1880       | 9002       | 490        | 3204       | 90         | 1173       | 6490       | 6102       | 150        | 39         | 0          | 0          | 30         | 97         | 90         | 262        | 560        | 477        | 160        | 284        | 0          | 0          | 3300       | 57436      | 147488      | 2110       | 4120       | 1000       | 1089       | 2250       | 6165       | 3280       | 13216      | 2290       | 21225      | 2260       | 5650       | 13410      | 196510      | 13410      | 24756      | 20         | 19         | 7510       | 6410       | 0          | 0          | 780        | 497        | 1780       | 1335       | 1060       | 184        | 5210       | 4347       | 50         | 13         | 5620       | 8885       | 25030      | 95254      | 11910      | 36094      | 10940      | 29504      | 11950      | 16777      | 3190       | 2789       | 8680       | 18348      | 13880      | 27416      | 0          | 0          | 0          | 0          | 2670       | 3534       | 23100      | 72074\n",
       "90004 | 27360  | 15330     | 7000      | 4670      | 20260    | 51180  | 17800      | 1.61777e+06 | 27360      | 1.64943e+06 | 22010      | 1.02928e+06 | 5270       | 20986      | 2890       | 37375      | 2670       | 26861      | 2650       | 7675       | 7390       | 102468     | 2820       | 83652      | 910        | 18993      | 1660       | 36911      | 0        | 1840       | 11778      | 1310       | 18705      | 1480       | 216013     | 9000       | 31663      | 280        | 69         | 240        | 8545       | 810        | 5683       | 440        | 2188       | 1740       | 1811       | 260        | 562        | 30         | 555        | 5510       | 240787     | 1.07313e+06 | 4470       | 98390      | 860        | 996        | 2910       | 25109      | 5470       | 126876     | 2560       | 45167      | 4390       | 37387      | 18590      | 1.07024e+06 | 18510      | 259534     | 1010       | 10245      | 6420       | 7893       | 990        | 1973       | 620        | 361        | 1680       | 1378       | 990        | 175        | 3010       | 2817       | 50         | 25         | 6600       | 17090      | 25170      | 318535     | 7180       | 14936      | 5470       | 11397      | 4720       | 6107       | 1990       | 1554       | 16120      | 252178     | 20150      | 276712     | 690        | 2166       | 820        | 4768       | 6360       | 32663      | 19660      | 59388\n",
       "90005 | 15430  | 8550      | 3870      | 2830      | 11210    | 29910  | 11130      | 707020      | 15430      | 717290      | 12610      | 454410      | 2230       | 5575       | 1000       | 5358       | 910        | 3785       | 990        | 2305       | 3950       | 46369      | 1080       | 19080      | 270        | 5008       | 590        | 11898      | 0        | 830        | 5514       | 450        | 5601       | 650        | 112194     | 4900       | 10270      | 120        | 29         | 50         | 1631       | 250        | 1436       | 220        | 1064       | 990        | 990        | 150        | 367        | 0          | 0          | 2170       | 91544      | 387528      | 1620       | 37572      | 460        | 514        | 1060       | 8951       | 2170       | 47820      | 980        | 16705      | 1580       | 10994      | 9720       | 433364      | 9700       | 99692      | 260        | 2993       | 3240       | 3165       | 260        | 264        | 300        | 193        | 920        | 752        | 470        | 87         | 1700       | 1480       | 0          | 0          | 3550       | 7585       | 14110      | 125690     | 4140       | 8192       | 3160       | 6289       | 3220       | 4378       | 1110       | 881        | 8210       | 96559      | 10540      | 105653     | 180        | 545        | 190        | 713        | 3550       | 14752      | 11260      | 28426\n",
       "90006 | 22630  | 11470     | 5400      | 5630      | 17840    | 47590  | 20210      | 563530      | 22630      | 571157      | 18360      | 466220      | 2130       | 841        | 560        | 949        | 490        | 631        | 980        | 1084       | 5730       | 54327      | 610        | 3191       | 230        | 1827       | 650        | 7700       | 0        | 1220       | 6570       | 470        | 3388       | 340        | 11002      | 6500       | 7628       | 120        | 28         | 0          | 0          | 130        | 402        | 190        | 898        | 920        | 910        | 130        | 305        | 0          | 0          | 2040       | 41866      | 130856      | 1380       | 5958       | 550        | 636        | 970        | 3901       | 2020       | 11393      | 940        | 11218      | 1400       | 4235       | 12680      | 233059      | 12640      | 33292      | 70         | 260        | 4980       | 4065       | 100        | 12         | 390        | 247        | 1310       | 1031       | 760        | 147        | 3080       | 2517       | 0          | 0          | 5320       | 8272       | 20900      | 72585      | 7800       | 18122      | 6230       | 14213      | 6600       | 8904       | 1780       | 1391       | 9890       | 29220      | 14110      | 37674      | 0          | 0          | 20         | 82         | 4350       | 6859       | 17660      | 41538\n",
       "90007 | 11710  | 6350      | 2270      | 3020      | 8310     | 23380  | 9950       | 311779      | 11710      | 315581      | 9890       | 264552      | 1200       | 402        | 350        | 906        | 290        | 497        | 720        | 752        | 2490       | 22035      | 350        | 1824       | 130        | 1109       | 550        | 7843       | 0        | 800        | 4268       | 270        | 2251       | 110        | 3516       | 3090       | 3800       | 130        | 33         | 0          | 0          | 50         | 143        | 80         | 239        | 570        | 501        | 200        | 475        | 0          | 0          | 1380       | 26294      | 86932       | 990        | 3815       | 300        | 381        | 670        | 2407       | 1360       | 7221       | 660        | 7198       | 1010       | 3391       | 6950       | 142055      | 6930       | 20792      | 50         | 204        | 2990       | 2600       | 60         | 4          | 280        | 180        | 950        | 744        | 510        | 94         | 1700       | 1527       | 0          | 0          | 2220       | 3477       | 11030      | 42879      | 4110       | 9965       | 3570       | 8111       | 3170       | 4055       | 1210       | 974        | 5400       | 18163      | 7210       | 21810      | 0          | 0          | 0          | 0          | 1740       | 2815       | 9700       | 24024\n",
       "90008 | 14710  | 8060      | 2310      | 4110      | 9990     | 27000  | 10310      | 662036      | 14710      | 668523      | 11380      | 473516      | 3220       | 1794       | 1270       | 3416       | 1090       | 2092       | 2580       | 4148       | 3540       | 26062      | 1070       | 10633      | 790        | 11251      | 2780       | 97603      | 0        | 1220       | 8145       | 1560       | 16870      | 290        | 10822      | 3790       | 6488       | 330        | 83         | 40         | 658        | 180        | 840        | 140        | 492        | 760        | 770        | 140        | 284        | 0          | 0          | 4720       | 123266     | 415395      | 3600       | 20978      | 920        | 1277       | 3300       | 13216      | 4700       | 38053      | 3040       | 39860      | 4140       | 19875      | 10190      | 386426      | 10160      | 67957      | 310        | 1493       | 3630       | 3434       | 190        | 23         | 550        | 337        | 1280       | 1145       | 510        | 82         | 1750       | 1627       | 110        | 64         | 2560       | 4976       | 13970      | 92620      | 4430       | 11786      | 3990       | 9400       | 3130       | 3892       | 1850       | 1619       | 8670       | 64525      | 10560      | 70194      | 170        | 177        | 150        | 179        | 2780       | 10578      | 11500      | 32783\n",
       "90010 | 2210   | 1270      | 690       | 210       | 1760     | 3790   | 960        | 314333      | 2210       | 320471      | 1510       | 142280      | 780        | 8813       | 450        | 8701       | 400        | 6573       | 350        | 3145       | 680        | 20562      | 550        | 41200      | 90         | 2144       | 170        | 6049       | 0        | 90         | 632        | 180        | 3090       | 530        | 60900      | 870        | 6148       | 0          | 0          | 30         | 1103       | 170        | 1219       | 70         | 435        | 150        | 161        | 0          | 0          | 0          | 0          | 900        | 70940      | 272867      | 650        | 24978      | 160        | 224        | 600        | 6912       | 880        | 32771      | 520        | 9838       | 650        | 21417      | 1660       | 224561      | 1660       | 63634      | 180        | 2287       | 470        | 1626       | 140        | 902        | 40         | 25         | 100        | 98         | 40         | 9          | 170        | 170        | 0          | 0          | 650        | 3148       | 1840       | 62807      | 360        | 523        | 230        | 335        | 130        | 151        | 110        | 97         | 1540       | 62160      | 1790       | 67475      | 110        | 535        | 150        | 2053       | 820        | 18448      | 1140       | 7191\n",
       "90011 | 36670  | 15540     | 8600      | 12390     | 30240    | 95640  | 51260      | 857731      | 36670      | 864961      | 31420      | 746856      | 3120       | 588        | 250        | 158        | 190        | 53         | 1940       | 1560       | 7160       | 70288      | 250        | 2056       | 170        | 1533       | 1150       | 14963      | 0        | 2280       | 10594      | 480        | 3262       | 150        | 1791       | 7780       | 6988       | 200        | 46         | 0          | 0          | 40         | 56         | 80         | 265        | 830        | 690        | 160        | 308        | 0          | 0          | 3800       | 66782      | 177957      | 2350       | 5318       | 1280       | 1332       | 2540       | 7374       | 3790       | 16048      | 2580       | 24554      | 2550       | 5437       | 18630      | 265130      | 18610      | 34509      | 40         | 90         | 10350      | 8588       | 0          | 0          | 940        | 604        | 2160       | 1528       | 1290       | 228        | 7560       | 6161       | 60         | 14         | 6600       | 10310      | 34770      | 123045     | 14220      | 41698      | 12950      | 34874      | 17190      | 25293      | 3450       | 2649       | 11970      | 25835      | 17980      | 36385      | 0          | 0          | 0          | 0          | 3830       | 4957       | 32070      | 92906\n",
       "... (1473 rows omitted)"
      ]
     },
     "execution_count": 3,
     "metadata": {},
     "output_type": "execute_result"
    }
   ],
   "source": [
    "income_by_zipcode = ...\n",
    "income_by_zipcode"
   ]
  },
  {
   "cell_type": "code",
   "execution_count": 4,
   "metadata": {
    "collapsed": false
   },
   "outputs": [
    {
     "name": "stdout",
     "output_type": "stream",
     "text": [
      "~~~~~~~~~~~~~~~~~~~~~~~~~~~~~~~~~~~~~~~~~~~~~~~~~~~~~~~~~~~~~~~~~~~~~\n",
      "Running tests\n",
      "\n",
      "---------------------------------------------------------------------\n",
      "Test summary\n",
      "    Passed: 2\n",
      "    Failed: 0\n",
      "[ooooooooook] 100.0% passed\n",
      "\n"
     ]
    }
   ],
   "source": [
    "_ = hw04.grade('q10')"
   ]
  },
  {
   "cell_type": "markdown",
   "metadata": {},
   "source": [
    "**Question 1.1.** Relabel the columns in `income_by_zipcode` to match the labels in `income_raw`; you probably modified all the names slightly in the previous question. \n",
    "\n",
    "*Hint:* Inspect `income_raw.labels` and `income_by_zipcode.labels` to find the differences you need to change.\n",
    "\n",
    "*Hint 2:* Since there are many columns, it will be easier to relabel each of them by using a `for` statement. See [here](https://www.inferentialthinking.com/chapters/08/2/iteration.html)  in the textbook for details.\n",
    "\n",
    "*Hint 3:* You can use the `replace` method of a string to remove excess content. See [lab02](https://jupyterhub.ucsd.edu/user-redirect/interact?account=ucsd-ets&repo=dsc10-fa17&branch=master&path=labs/lab02/lab02.ipynb) for examples.\n",
    "\n",
    "*Hint 4:* To create a new table from an existing table with one label replaced, use `relabeled`. To **change** a label in an existing table permanently, use `relabel`. Both methods take two arguments: the old label and the new label. You can solve this problem with either one, but `relabel` is simpler."
   ]
  },
  {
   "cell_type": "code",
   "execution_count": 5,
   "metadata": {
    "collapsed": false
   },
   "outputs": [
    {
     "data": {
      "text/html": [
       "<table border=\"1\" class=\"dataframe\">\n",
       "    <thead>\n",
       "        <tr>\n",
       "            <th>ZIP</th> <th>N1</th> <th>MARS1</th> <th>MARS2</th> <th>MARS4</th> <th>PREP</th> <th>N2</th> <th>NUMDEP</th> <th>A00100</th> <th>N02650</th> <th>A02650</th> <th>N00200</th> <th>A00200</th> <th>N00300</th> <th>A00300</th> <th>N00600</th> <th>A00600</th> <th>N00650</th> <th>A00650</th> <th>N00700</th> <th>A00700</th> <th>N00900</th> <th>A00900</th> <th>N01000</th> <th>A01000</th> <th>N01400</th> <th>A01400</th> <th>N01700</th> <th>A01700</th> <th>SCHF</th> <th>N02300</th> <th>A02300</th> <th>N02500</th> <th>A02500</th> <th>N26270</th> <th>A26270</th> <th>N02900</th> <th>A02900</th> <th>N03220</th> <th>A03220</th> <th>N03300</th> <th>A03300</th> <th>N03270</th> <th>A03270</th> <th>N03150</th> <th>A03150</th> <th>N03210</th> <th>A03210</th> <th>N03230</th> <th>A03230</th> <th>N03240</th> <th>A03240</th> <th>N04470</th> <th>A04470</th> <th>A00101</th> <th>N18425</th> <th>A18425</th> <th>N18450</th> <th>A18450</th> <th>N18500</th> <th>A18500</th> <th>N18300</th> <th>A18300</th> <th>N19300</th> <th>A19300</th> <th>N19700</th> <th>A19700</th> <th>N04800</th> <th>A04800</th> <th>N05800</th> <th>A05800</th> <th>N09600</th> <th>A09600</th> <th>N07100</th> <th>A07100</th> <th>N07300</th> <th>A07300</th> <th>N07180</th> <th>A07180</th> <th>N07230</th> <th>A07230</th> <th>N07240</th> <th>A07240</th> <th>N07220</th> <th>A07220</th> <th>N07260</th> <th>A07260</th> <th>N09400</th> <th>A09400</th> <th>N10600</th> <th>A10600</th> <th>N59660</th> <th>A59660</th> <th>N59720</th> <th>A59720</th> <th>N11070</th> <th>A11070</th> <th>N10960</th> <th>A10960</th> <th>N06500</th> <th>A06500</th> <th>N10300</th> <th>A10300</th> <th>N85330</th> <th>A85330</th> <th>N85300</th> <th>A85300</th> <th>N11901</th> <th>A11901</th> <th>N11902</th> <th>A11902</th>\n",
       "        </tr>\n",
       "    </thead>\n",
       "    <tbody>\n",
       "        <tr>\n",
       "            <td>90001</td> <td>20970</td> <td>9010 </td> <td>4930 </td> <td>6980 </td> <td>17360</td> <td>53540</td> <td>28170 </td> <td>527457     </td> <td>20970 </td> <td>531772     </td> <td>17740 </td> <td>456544     </td> <td>2070  </td> <td>241   </td> <td>170   </td> <td>208   </td> <td>130   </td> <td>68    </td> <td>1530  </td> <td>1258  </td> <td>4220  </td> <td>40103 </td> <td>190   </td> <td>183   </td> <td>150   </td> <td>1531  </td> <td>890   </td> <td>11571 </td> <td>0   </td> <td>1600  </td> <td>8137  </td> <td>380   </td> <td>2338  </td> <td>90    </td> <td>3903  </td> <td>4520  </td> <td>4161  </td> <td>120   </td> <td>32    </td> <td>0     </td> <td>0     </td> <td>0     </td> <td>0     </td> <td>50    </td> <td>152   </td> <td>470   </td> <td>370   </td> <td>110   </td> <td>179   </td> <td>0     </td> <td>0     </td> <td>2790  </td> <td>49827 </td> <td>136004     </td> <td>1820  </td> <td>4543  </td> <td>850   </td> <td>1020  </td> <td>1910  </td> <td>5712  </td> <td>2770  </td> <td>13037 </td> <td>1900  </td> <td>17162 </td> <td>1950  </td> <td>4222  </td> <td>11460 </td> <td>180741     </td> <td>11440 </td> <td>24020 </td> <td>30    </td> <td>124   </td> <td>6350  </td> <td>5583  </td> <td>0     </td> <td>0     </td> <td>610   </td> <td>404   </td> <td>1380  </td> <td>1030  </td> <td>950   </td> <td>164   </td> <td>4530  </td> <td>3897  </td> <td>40    </td> <td>13    </td> <td>3820  </td> <td>6064  </td> <td>19960 </td> <td>77235 </td> <td>8480  </td> <td>25093 </td> <td>7770  </td> <td>20943 </td> <td>9210  </td> <td>13221 </td> <td>2050  </td> <td>1594  </td> <td>7640  </td> <td>18417 </td> <td>11060 </td> <td>24663 </td> <td>0     </td> <td>0     </td> <td>0     </td> <td>0     </td> <td>2110  </td> <td>3164  </td> <td>18460 </td> <td>56128 </td>\n",
       "        </tr>\n",
       "    </tbody>\n",
       "        <tr>\n",
       "            <td>90002</td> <td>18960</td> <td>8230 </td> <td>3830 </td> <td>6800 </td> <td>15120</td> <td>47200</td> <td>24850 </td> <td>462823     </td> <td>18960 </td> <td>467128     </td> <td>15910 </td> <td>396088     </td> <td>1960  </td> <td>227   </td> <td>170   </td> <td>72    </td> <td>130   </td> <td>30    </td> <td>1450  </td> <td>1196  </td> <td>4310  </td> <td>40865 </td> <td>170   </td> <td>257   </td> <td>130   </td> <td>985   </td> <td>950   </td> <td>14167 </td> <td>0   </td> <td>1450  </td> <td>7131  </td> <td>360   </td> <td>2344  </td> <td>30    </td> <td>116   </td> <td>4610  </td> <td>4305  </td> <td>130   </td> <td>29    </td> <td>0     </td> <td>0     </td> <td>0     </td> <td>0     </td> <td>60    </td> <td>161   </td> <td>470   </td> <td>411   </td> <td>100   </td> <td>202   </td> <td>0     </td> <td>0     </td> <td>2910  </td> <td>50033 </td> <td>133338     </td> <td>1880  </td> <td>3809  </td> <td>900   </td> <td>1003  </td> <td>2070  </td> <td>5698  </td> <td>2890  </td> <td>12370 </td> <td>2100  </td> <td>18397 </td> <td>2060  </td> <td>5197  </td> <td>10070 </td> <td>153993     </td> <td>10060 </td> <td>19696 </td> <td>20    </td> <td>24    </td> <td>5660  </td> <td>4942  </td> <td>0     </td> <td>0     </td> <td>610   </td> <td>403   </td> <td>1350  </td> <td>1006  </td> <td>810   </td> <td>138   </td> <td>3910  </td> <td>3362  </td> <td>50    </td> <td>15    </td> <td>3900  </td> <td>6159  </td> <td>18270 </td> <td>73561 </td> <td>8960  </td> <td>27858 </td> <td>8300  </td> <td>23004 </td> <td>8710  </td> <td>12170 </td> <td>2280  </td> <td>1943  </td> <td>6520  </td> <td>14756 </td> <td>10180 </td> <td>21012 </td> <td>0     </td> <td>0     </td> <td>0     </td> <td>0     </td> <td>1630  </td> <td>2176  </td> <td>17040 </td> <td>55190 </td>\n",
       "        </tr>\n",
       "    </tbody>\n",
       "        <tr>\n",
       "            <td>90003</td> <td>26180</td> <td>11310</td> <td>5130 </td> <td>9640 </td> <td>20570</td> <td>64470</td> <td>33760 </td> <td>612733     </td> <td>26180 </td> <td>618848     </td> <td>21680 </td> <td>518846     </td> <td>2410  </td> <td>393   </td> <td>220   </td> <td>100   </td> <td>170   </td> <td>39    </td> <td>1690  </td> <td>1339  </td> <td>6240  </td> <td>59400 </td> <td>230   </td> <td>275   </td> <td>170   </td> <td>1528  </td> <td>1120  </td> <td>16814 </td> <td>0   </td> <td>1880  </td> <td>9002  </td> <td>490   </td> <td>3204  </td> <td>90    </td> <td>1173  </td> <td>6490  </td> <td>6102  </td> <td>150   </td> <td>39    </td> <td>0     </td> <td>0     </td> <td>30    </td> <td>97    </td> <td>90    </td> <td>262   </td> <td>560   </td> <td>477   </td> <td>160   </td> <td>284   </td> <td>0     </td> <td>0     </td> <td>3300  </td> <td>57436 </td> <td>147488     </td> <td>2110  </td> <td>4120  </td> <td>1000  </td> <td>1089  </td> <td>2250  </td> <td>6165  </td> <td>3280  </td> <td>13216 </td> <td>2290  </td> <td>21225 </td> <td>2260  </td> <td>5650  </td> <td>13410 </td> <td>196510     </td> <td>13410 </td> <td>24756 </td> <td>20    </td> <td>19    </td> <td>7510  </td> <td>6410  </td> <td>0     </td> <td>0     </td> <td>780   </td> <td>497   </td> <td>1780  </td> <td>1335  </td> <td>1060  </td> <td>184   </td> <td>5210  </td> <td>4347  </td> <td>50    </td> <td>13    </td> <td>5620  </td> <td>8885  </td> <td>25030 </td> <td>95254 </td> <td>11910 </td> <td>36094 </td> <td>10940 </td> <td>29504 </td> <td>11950 </td> <td>16777 </td> <td>3190  </td> <td>2789  </td> <td>8680  </td> <td>18348 </td> <td>13880 </td> <td>27416 </td> <td>0     </td> <td>0     </td> <td>0     </td> <td>0     </td> <td>2670  </td> <td>3534  </td> <td>23100 </td> <td>72074 </td>\n",
       "        </tr>\n",
       "    </tbody>\n",
       "        <tr>\n",
       "            <td>90004</td> <td>27360</td> <td>15330</td> <td>7000 </td> <td>4670 </td> <td>20260</td> <td>51180</td> <td>17800 </td> <td>1.61777e+06</td> <td>27360 </td> <td>1.64943e+06</td> <td>22010 </td> <td>1.02928e+06</td> <td>5270  </td> <td>20986 </td> <td>2890  </td> <td>37375 </td> <td>2670  </td> <td>26861 </td> <td>2650  </td> <td>7675  </td> <td>7390  </td> <td>102468</td> <td>2820  </td> <td>83652 </td> <td>910   </td> <td>18993 </td> <td>1660  </td> <td>36911 </td> <td>0   </td> <td>1840  </td> <td>11778 </td> <td>1310  </td> <td>18705 </td> <td>1480  </td> <td>216013</td> <td>9000  </td> <td>31663 </td> <td>280   </td> <td>69    </td> <td>240   </td> <td>8545  </td> <td>810   </td> <td>5683  </td> <td>440   </td> <td>2188  </td> <td>1740  </td> <td>1811  </td> <td>260   </td> <td>562   </td> <td>30    </td> <td>555   </td> <td>5510  </td> <td>240787</td> <td>1.07313e+06</td> <td>4470  </td> <td>98390 </td> <td>860   </td> <td>996   </td> <td>2910  </td> <td>25109 </td> <td>5470  </td> <td>126876</td> <td>2560  </td> <td>45167 </td> <td>4390  </td> <td>37387 </td> <td>18590 </td> <td>1.07024e+06</td> <td>18510 </td> <td>259534</td> <td>1010  </td> <td>10245 </td> <td>6420  </td> <td>7893  </td> <td>990   </td> <td>1973  </td> <td>620   </td> <td>361   </td> <td>1680  </td> <td>1378  </td> <td>990   </td> <td>175   </td> <td>3010  </td> <td>2817  </td> <td>50    </td> <td>25    </td> <td>6600  </td> <td>17090 </td> <td>25170 </td> <td>318535</td> <td>7180  </td> <td>14936 </td> <td>5470  </td> <td>11397 </td> <td>4720  </td> <td>6107  </td> <td>1990  </td> <td>1554  </td> <td>16120 </td> <td>252178</td> <td>20150 </td> <td>276712</td> <td>690   </td> <td>2166  </td> <td>820   </td> <td>4768  </td> <td>6360  </td> <td>32663 </td> <td>19660 </td> <td>59388 </td>\n",
       "        </tr>\n",
       "    </tbody>\n",
       "        <tr>\n",
       "            <td>90005</td> <td>15430</td> <td>8550 </td> <td>3870 </td> <td>2830 </td> <td>11210</td> <td>29910</td> <td>11130 </td> <td>707020     </td> <td>15430 </td> <td>717290     </td> <td>12610 </td> <td>454410     </td> <td>2230  </td> <td>5575  </td> <td>1000  </td> <td>5358  </td> <td>910   </td> <td>3785  </td> <td>990   </td> <td>2305  </td> <td>3950  </td> <td>46369 </td> <td>1080  </td> <td>19080 </td> <td>270   </td> <td>5008  </td> <td>590   </td> <td>11898 </td> <td>0   </td> <td>830   </td> <td>5514  </td> <td>450   </td> <td>5601  </td> <td>650   </td> <td>112194</td> <td>4900  </td> <td>10270 </td> <td>120   </td> <td>29    </td> <td>50    </td> <td>1631  </td> <td>250   </td> <td>1436  </td> <td>220   </td> <td>1064  </td> <td>990   </td> <td>990   </td> <td>150   </td> <td>367   </td> <td>0     </td> <td>0     </td> <td>2170  </td> <td>91544 </td> <td>387528     </td> <td>1620  </td> <td>37572 </td> <td>460   </td> <td>514   </td> <td>1060  </td> <td>8951  </td> <td>2170  </td> <td>47820 </td> <td>980   </td> <td>16705 </td> <td>1580  </td> <td>10994 </td> <td>9720  </td> <td>433364     </td> <td>9700  </td> <td>99692 </td> <td>260   </td> <td>2993  </td> <td>3240  </td> <td>3165  </td> <td>260   </td> <td>264   </td> <td>300   </td> <td>193   </td> <td>920   </td> <td>752   </td> <td>470   </td> <td>87    </td> <td>1700  </td> <td>1480  </td> <td>0     </td> <td>0     </td> <td>3550  </td> <td>7585  </td> <td>14110 </td> <td>125690</td> <td>4140  </td> <td>8192  </td> <td>3160  </td> <td>6289  </td> <td>3220  </td> <td>4378  </td> <td>1110  </td> <td>881   </td> <td>8210  </td> <td>96559 </td> <td>10540 </td> <td>105653</td> <td>180   </td> <td>545   </td> <td>190   </td> <td>713   </td> <td>3550  </td> <td>14752 </td> <td>11260 </td> <td>28426 </td>\n",
       "        </tr>\n",
       "    </tbody>\n",
       "        <tr>\n",
       "            <td>90006</td> <td>22630</td> <td>11470</td> <td>5400 </td> <td>5630 </td> <td>17840</td> <td>47590</td> <td>20210 </td> <td>563530     </td> <td>22630 </td> <td>571157     </td> <td>18360 </td> <td>466220     </td> <td>2130  </td> <td>841   </td> <td>560   </td> <td>949   </td> <td>490   </td> <td>631   </td> <td>980   </td> <td>1084  </td> <td>5730  </td> <td>54327 </td> <td>610   </td> <td>3191  </td> <td>230   </td> <td>1827  </td> <td>650   </td> <td>7700  </td> <td>0   </td> <td>1220  </td> <td>6570  </td> <td>470   </td> <td>3388  </td> <td>340   </td> <td>11002 </td> <td>6500  </td> <td>7628  </td> <td>120   </td> <td>28    </td> <td>0     </td> <td>0     </td> <td>130   </td> <td>402   </td> <td>190   </td> <td>898   </td> <td>920   </td> <td>910   </td> <td>130   </td> <td>305   </td> <td>0     </td> <td>0     </td> <td>2040  </td> <td>41866 </td> <td>130856     </td> <td>1380  </td> <td>5958  </td> <td>550   </td> <td>636   </td> <td>970   </td> <td>3901  </td> <td>2020  </td> <td>11393 </td> <td>940   </td> <td>11218 </td> <td>1400  </td> <td>4235  </td> <td>12680 </td> <td>233059     </td> <td>12640 </td> <td>33292 </td> <td>70    </td> <td>260   </td> <td>4980  </td> <td>4065  </td> <td>100   </td> <td>12    </td> <td>390   </td> <td>247   </td> <td>1310  </td> <td>1031  </td> <td>760   </td> <td>147   </td> <td>3080  </td> <td>2517  </td> <td>0     </td> <td>0     </td> <td>5320  </td> <td>8272  </td> <td>20900 </td> <td>72585 </td> <td>7800  </td> <td>18122 </td> <td>6230  </td> <td>14213 </td> <td>6600  </td> <td>8904  </td> <td>1780  </td> <td>1391  </td> <td>9890  </td> <td>29220 </td> <td>14110 </td> <td>37674 </td> <td>0     </td> <td>0     </td> <td>20    </td> <td>82    </td> <td>4350  </td> <td>6859  </td> <td>17660 </td> <td>41538 </td>\n",
       "        </tr>\n",
       "    </tbody>\n",
       "        <tr>\n",
       "            <td>90007</td> <td>11710</td> <td>6350 </td> <td>2270 </td> <td>3020 </td> <td>8310 </td> <td>23380</td> <td>9950  </td> <td>311779     </td> <td>11710 </td> <td>315581     </td> <td>9890  </td> <td>264552     </td> <td>1200  </td> <td>402   </td> <td>350   </td> <td>906   </td> <td>290   </td> <td>497   </td> <td>720   </td> <td>752   </td> <td>2490  </td> <td>22035 </td> <td>350   </td> <td>1824  </td> <td>130   </td> <td>1109  </td> <td>550   </td> <td>7843  </td> <td>0   </td> <td>800   </td> <td>4268  </td> <td>270   </td> <td>2251  </td> <td>110   </td> <td>3516  </td> <td>3090  </td> <td>3800  </td> <td>130   </td> <td>33    </td> <td>0     </td> <td>0     </td> <td>50    </td> <td>143   </td> <td>80    </td> <td>239   </td> <td>570   </td> <td>501   </td> <td>200   </td> <td>475   </td> <td>0     </td> <td>0     </td> <td>1380  </td> <td>26294 </td> <td>86932      </td> <td>990   </td> <td>3815  </td> <td>300   </td> <td>381   </td> <td>670   </td> <td>2407  </td> <td>1360  </td> <td>7221  </td> <td>660   </td> <td>7198  </td> <td>1010  </td> <td>3391  </td> <td>6950  </td> <td>142055     </td> <td>6930  </td> <td>20792 </td> <td>50    </td> <td>204   </td> <td>2990  </td> <td>2600  </td> <td>60    </td> <td>4     </td> <td>280   </td> <td>180   </td> <td>950   </td> <td>744   </td> <td>510   </td> <td>94    </td> <td>1700  </td> <td>1527  </td> <td>0     </td> <td>0     </td> <td>2220  </td> <td>3477  </td> <td>11030 </td> <td>42879 </td> <td>4110  </td> <td>9965  </td> <td>3570  </td> <td>8111  </td> <td>3170  </td> <td>4055  </td> <td>1210  </td> <td>974   </td> <td>5400  </td> <td>18163 </td> <td>7210  </td> <td>21810 </td> <td>0     </td> <td>0     </td> <td>0     </td> <td>0     </td> <td>1740  </td> <td>2815  </td> <td>9700  </td> <td>24024 </td>\n",
       "        </tr>\n",
       "    </tbody>\n",
       "        <tr>\n",
       "            <td>90008</td> <td>14710</td> <td>8060 </td> <td>2310 </td> <td>4110 </td> <td>9990 </td> <td>27000</td> <td>10310 </td> <td>662036     </td> <td>14710 </td> <td>668523     </td> <td>11380 </td> <td>473516     </td> <td>3220  </td> <td>1794  </td> <td>1270  </td> <td>3416  </td> <td>1090  </td> <td>2092  </td> <td>2580  </td> <td>4148  </td> <td>3540  </td> <td>26062 </td> <td>1070  </td> <td>10633 </td> <td>790   </td> <td>11251 </td> <td>2780  </td> <td>97603 </td> <td>0   </td> <td>1220  </td> <td>8145  </td> <td>1560  </td> <td>16870 </td> <td>290   </td> <td>10822 </td> <td>3790  </td> <td>6488  </td> <td>330   </td> <td>83    </td> <td>40    </td> <td>658   </td> <td>180   </td> <td>840   </td> <td>140   </td> <td>492   </td> <td>760   </td> <td>770   </td> <td>140   </td> <td>284   </td> <td>0     </td> <td>0     </td> <td>4720  </td> <td>123266</td> <td>415395     </td> <td>3600  </td> <td>20978 </td> <td>920   </td> <td>1277  </td> <td>3300  </td> <td>13216 </td> <td>4700  </td> <td>38053 </td> <td>3040  </td> <td>39860 </td> <td>4140  </td> <td>19875 </td> <td>10190 </td> <td>386426     </td> <td>10160 </td> <td>67957 </td> <td>310   </td> <td>1493  </td> <td>3630  </td> <td>3434  </td> <td>190   </td> <td>23    </td> <td>550   </td> <td>337   </td> <td>1280  </td> <td>1145  </td> <td>510   </td> <td>82    </td> <td>1750  </td> <td>1627  </td> <td>110   </td> <td>64    </td> <td>2560  </td> <td>4976  </td> <td>13970 </td> <td>92620 </td> <td>4430  </td> <td>11786 </td> <td>3990  </td> <td>9400  </td> <td>3130  </td> <td>3892  </td> <td>1850  </td> <td>1619  </td> <td>8670  </td> <td>64525 </td> <td>10560 </td> <td>70194 </td> <td>170   </td> <td>177   </td> <td>150   </td> <td>179   </td> <td>2780  </td> <td>10578 </td> <td>11500 </td> <td>32783 </td>\n",
       "        </tr>\n",
       "    </tbody>\n",
       "        <tr>\n",
       "            <td>90010</td> <td>2210 </td> <td>1270 </td> <td>690  </td> <td>210  </td> <td>1760 </td> <td>3790 </td> <td>960   </td> <td>314333     </td> <td>2210  </td> <td>320471     </td> <td>1510  </td> <td>142280     </td> <td>780   </td> <td>8813  </td> <td>450   </td> <td>8701  </td> <td>400   </td> <td>6573  </td> <td>350   </td> <td>3145  </td> <td>680   </td> <td>20562 </td> <td>550   </td> <td>41200 </td> <td>90    </td> <td>2144  </td> <td>170   </td> <td>6049  </td> <td>0   </td> <td>90    </td> <td>632   </td> <td>180   </td> <td>3090  </td> <td>530   </td> <td>60900 </td> <td>870   </td> <td>6148  </td> <td>0     </td> <td>0     </td> <td>30    </td> <td>1103  </td> <td>170   </td> <td>1219  </td> <td>70    </td> <td>435   </td> <td>150   </td> <td>161   </td> <td>0     </td> <td>0     </td> <td>0     </td> <td>0     </td> <td>900   </td> <td>70940 </td> <td>272867     </td> <td>650   </td> <td>24978 </td> <td>160   </td> <td>224   </td> <td>600   </td> <td>6912  </td> <td>880   </td> <td>32771 </td> <td>520   </td> <td>9838  </td> <td>650   </td> <td>21417 </td> <td>1660  </td> <td>224561     </td> <td>1660  </td> <td>63634 </td> <td>180   </td> <td>2287  </td> <td>470   </td> <td>1626  </td> <td>140   </td> <td>902   </td> <td>40    </td> <td>25    </td> <td>100   </td> <td>98    </td> <td>40    </td> <td>9     </td> <td>170   </td> <td>170   </td> <td>0     </td> <td>0     </td> <td>650   </td> <td>3148  </td> <td>1840  </td> <td>62807 </td> <td>360   </td> <td>523   </td> <td>230   </td> <td>335   </td> <td>130   </td> <td>151   </td> <td>110   </td> <td>97    </td> <td>1540  </td> <td>62160 </td> <td>1790  </td> <td>67475 </td> <td>110   </td> <td>535   </td> <td>150   </td> <td>2053  </td> <td>820   </td> <td>18448 </td> <td>1140  </td> <td>7191  </td>\n",
       "        </tr>\n",
       "    </tbody>\n",
       "        <tr>\n",
       "            <td>90011</td> <td>36670</td> <td>15540</td> <td>8600 </td> <td>12390</td> <td>30240</td> <td>95640</td> <td>51260 </td> <td>857731     </td> <td>36670 </td> <td>864961     </td> <td>31420 </td> <td>746856     </td> <td>3120  </td> <td>588   </td> <td>250   </td> <td>158   </td> <td>190   </td> <td>53    </td> <td>1940  </td> <td>1560  </td> <td>7160  </td> <td>70288 </td> <td>250   </td> <td>2056  </td> <td>170   </td> <td>1533  </td> <td>1150  </td> <td>14963 </td> <td>0   </td> <td>2280  </td> <td>10594 </td> <td>480   </td> <td>3262  </td> <td>150   </td> <td>1791  </td> <td>7780  </td> <td>6988  </td> <td>200   </td> <td>46    </td> <td>0     </td> <td>0     </td> <td>40    </td> <td>56    </td> <td>80    </td> <td>265   </td> <td>830   </td> <td>690   </td> <td>160   </td> <td>308   </td> <td>0     </td> <td>0     </td> <td>3800  </td> <td>66782 </td> <td>177957     </td> <td>2350  </td> <td>5318  </td> <td>1280  </td> <td>1332  </td> <td>2540  </td> <td>7374  </td> <td>3790  </td> <td>16048 </td> <td>2580  </td> <td>24554 </td> <td>2550  </td> <td>5437  </td> <td>18630 </td> <td>265130     </td> <td>18610 </td> <td>34509 </td> <td>40    </td> <td>90    </td> <td>10350 </td> <td>8588  </td> <td>0     </td> <td>0     </td> <td>940   </td> <td>604   </td> <td>2160  </td> <td>1528  </td> <td>1290  </td> <td>228   </td> <td>7560  </td> <td>6161  </td> <td>60    </td> <td>14    </td> <td>6600  </td> <td>10310 </td> <td>34770 </td> <td>123045</td> <td>14220 </td> <td>41698 </td> <td>12950 </td> <td>34874 </td> <td>17190 </td> <td>25293 </td> <td>3450  </td> <td>2649  </td> <td>11970 </td> <td>25835 </td> <td>17980 </td> <td>36385 </td> <td>0     </td> <td>0     </td> <td>0     </td> <td>0     </td> <td>3830  </td> <td>4957  </td> <td>32070 </td> <td>92906 </td>\n",
       "        </tr>\n",
       "    </tbody>\n",
       "</table>\n",
       "<p>... (1473 rows omitted)</p"
      ],
      "text/plain": [
       "ZIP   | N1    | MARS1 | MARS2 | MARS4 | PREP  | N2    | NUMDEP | A00100      | N02650 | A02650      | N00200 | A00200      | N00300 | A00300 | N00600 | A00600 | N00650 | A00650 | N00700 | A00700 | N00900 | A00900 | N01000 | A01000 | N01400 | A01400 | N01700 | A01700 | SCHF | N02300 | A02300 | N02500 | A02500 | N26270 | A26270 | N02900 | A02900 | N03220 | A03220 | N03300 | A03300 | N03270 | A03270 | N03150 | A03150 | N03210 | A03210 | N03230 | A03230 | N03240 | A03240 | N04470 | A04470 | A00101      | N18425 | A18425 | N18450 | A18450 | N18500 | A18500 | N18300 | A18300 | N19300 | A19300 | N19700 | A19700 | N04800 | A04800      | N05800 | A05800 | N09600 | A09600 | N07100 | A07100 | N07300 | A07300 | N07180 | A07180 | N07230 | A07230 | N07240 | A07240 | N07220 | A07220 | N07260 | A07260 | N09400 | A09400 | N10600 | A10600 | N59660 | A59660 | N59720 | A59720 | N11070 | A11070 | N10960 | A10960 | N06500 | A06500 | N10300 | A10300 | N85330 | A85330 | N85300 | A85300 | N11901 | A11901 | N11902 | A11902\n",
       "90001 | 20970 | 9010  | 4930  | 6980  | 17360 | 53540 | 28170  | 527457      | 20970  | 531772      | 17740  | 456544      | 2070   | 241    | 170    | 208    | 130    | 68     | 1530   | 1258   | 4220   | 40103  | 190    | 183    | 150    | 1531   | 890    | 11571  | 0    | 1600   | 8137   | 380    | 2338   | 90     | 3903   | 4520   | 4161   | 120    | 32     | 0      | 0      | 0      | 0      | 50     | 152    | 470    | 370    | 110    | 179    | 0      | 0      | 2790   | 49827  | 136004      | 1820   | 4543   | 850    | 1020   | 1910   | 5712   | 2770   | 13037  | 1900   | 17162  | 1950   | 4222   | 11460  | 180741      | 11440  | 24020  | 30     | 124    | 6350   | 5583   | 0      | 0      | 610    | 404    | 1380   | 1030   | 950    | 164    | 4530   | 3897   | 40     | 13     | 3820   | 6064   | 19960  | 77235  | 8480   | 25093  | 7770   | 20943  | 9210   | 13221  | 2050   | 1594   | 7640   | 18417  | 11060  | 24663  | 0      | 0      | 0      | 0      | 2110   | 3164   | 18460  | 56128\n",
       "90002 | 18960 | 8230  | 3830  | 6800  | 15120 | 47200 | 24850  | 462823      | 18960  | 467128      | 15910  | 396088      | 1960   | 227    | 170    | 72     | 130    | 30     | 1450   | 1196   | 4310   | 40865  | 170    | 257    | 130    | 985    | 950    | 14167  | 0    | 1450   | 7131   | 360    | 2344   | 30     | 116    | 4610   | 4305   | 130    | 29     | 0      | 0      | 0      | 0      | 60     | 161    | 470    | 411    | 100    | 202    | 0      | 0      | 2910   | 50033  | 133338      | 1880   | 3809   | 900    | 1003   | 2070   | 5698   | 2890   | 12370  | 2100   | 18397  | 2060   | 5197   | 10070  | 153993      | 10060  | 19696  | 20     | 24     | 5660   | 4942   | 0      | 0      | 610    | 403    | 1350   | 1006   | 810    | 138    | 3910   | 3362   | 50     | 15     | 3900   | 6159   | 18270  | 73561  | 8960   | 27858  | 8300   | 23004  | 8710   | 12170  | 2280   | 1943   | 6520   | 14756  | 10180  | 21012  | 0      | 0      | 0      | 0      | 1630   | 2176   | 17040  | 55190\n",
       "90003 | 26180 | 11310 | 5130  | 9640  | 20570 | 64470 | 33760  | 612733      | 26180  | 618848      | 21680  | 518846      | 2410   | 393    | 220    | 100    | 170    | 39     | 1690   | 1339   | 6240   | 59400  | 230    | 275    | 170    | 1528   | 1120   | 16814  | 0    | 1880   | 9002   | 490    | 3204   | 90     | 1173   | 6490   | 6102   | 150    | 39     | 0      | 0      | 30     | 97     | 90     | 262    | 560    | 477    | 160    | 284    | 0      | 0      | 3300   | 57436  | 147488      | 2110   | 4120   | 1000   | 1089   | 2250   | 6165   | 3280   | 13216  | 2290   | 21225  | 2260   | 5650   | 13410  | 196510      | 13410  | 24756  | 20     | 19     | 7510   | 6410   | 0      | 0      | 780    | 497    | 1780   | 1335   | 1060   | 184    | 5210   | 4347   | 50     | 13     | 5620   | 8885   | 25030  | 95254  | 11910  | 36094  | 10940  | 29504  | 11950  | 16777  | 3190   | 2789   | 8680   | 18348  | 13880  | 27416  | 0      | 0      | 0      | 0      | 2670   | 3534   | 23100  | 72074\n",
       "90004 | 27360 | 15330 | 7000  | 4670  | 20260 | 51180 | 17800  | 1.61777e+06 | 27360  | 1.64943e+06 | 22010  | 1.02928e+06 | 5270   | 20986  | 2890   | 37375  | 2670   | 26861  | 2650   | 7675   | 7390   | 102468 | 2820   | 83652  | 910    | 18993  | 1660   | 36911  | 0    | 1840   | 11778  | 1310   | 18705  | 1480   | 216013 | 9000   | 31663  | 280    | 69     | 240    | 8545   | 810    | 5683   | 440    | 2188   | 1740   | 1811   | 260    | 562    | 30     | 555    | 5510   | 240787 | 1.07313e+06 | 4470   | 98390  | 860    | 996    | 2910   | 25109  | 5470   | 126876 | 2560   | 45167  | 4390   | 37387  | 18590  | 1.07024e+06 | 18510  | 259534 | 1010   | 10245  | 6420   | 7893   | 990    | 1973   | 620    | 361    | 1680   | 1378   | 990    | 175    | 3010   | 2817   | 50     | 25     | 6600   | 17090  | 25170  | 318535 | 7180   | 14936  | 5470   | 11397  | 4720   | 6107   | 1990   | 1554   | 16120  | 252178 | 20150  | 276712 | 690    | 2166   | 820    | 4768   | 6360   | 32663  | 19660  | 59388\n",
       "90005 | 15430 | 8550  | 3870  | 2830  | 11210 | 29910 | 11130  | 707020      | 15430  | 717290      | 12610  | 454410      | 2230   | 5575   | 1000   | 5358   | 910    | 3785   | 990    | 2305   | 3950   | 46369  | 1080   | 19080  | 270    | 5008   | 590    | 11898  | 0    | 830    | 5514   | 450    | 5601   | 650    | 112194 | 4900   | 10270  | 120    | 29     | 50     | 1631   | 250    | 1436   | 220    | 1064   | 990    | 990    | 150    | 367    | 0      | 0      | 2170   | 91544  | 387528      | 1620   | 37572  | 460    | 514    | 1060   | 8951   | 2170   | 47820  | 980    | 16705  | 1580   | 10994  | 9720   | 433364      | 9700   | 99692  | 260    | 2993   | 3240   | 3165   | 260    | 264    | 300    | 193    | 920    | 752    | 470    | 87     | 1700   | 1480   | 0      | 0      | 3550   | 7585   | 14110  | 125690 | 4140   | 8192   | 3160   | 6289   | 3220   | 4378   | 1110   | 881    | 8210   | 96559  | 10540  | 105653 | 180    | 545    | 190    | 713    | 3550   | 14752  | 11260  | 28426\n",
       "90006 | 22630 | 11470 | 5400  | 5630  | 17840 | 47590 | 20210  | 563530      | 22630  | 571157      | 18360  | 466220      | 2130   | 841    | 560    | 949    | 490    | 631    | 980    | 1084   | 5730   | 54327  | 610    | 3191   | 230    | 1827   | 650    | 7700   | 0    | 1220   | 6570   | 470    | 3388   | 340    | 11002  | 6500   | 7628   | 120    | 28     | 0      | 0      | 130    | 402    | 190    | 898    | 920    | 910    | 130    | 305    | 0      | 0      | 2040   | 41866  | 130856      | 1380   | 5958   | 550    | 636    | 970    | 3901   | 2020   | 11393  | 940    | 11218  | 1400   | 4235   | 12680  | 233059      | 12640  | 33292  | 70     | 260    | 4980   | 4065   | 100    | 12     | 390    | 247    | 1310   | 1031   | 760    | 147    | 3080   | 2517   | 0      | 0      | 5320   | 8272   | 20900  | 72585  | 7800   | 18122  | 6230   | 14213  | 6600   | 8904   | 1780   | 1391   | 9890   | 29220  | 14110  | 37674  | 0      | 0      | 20     | 82     | 4350   | 6859   | 17660  | 41538\n",
       "90007 | 11710 | 6350  | 2270  | 3020  | 8310  | 23380 | 9950   | 311779      | 11710  | 315581      | 9890   | 264552      | 1200   | 402    | 350    | 906    | 290    | 497    | 720    | 752    | 2490   | 22035  | 350    | 1824   | 130    | 1109   | 550    | 7843   | 0    | 800    | 4268   | 270    | 2251   | 110    | 3516   | 3090   | 3800   | 130    | 33     | 0      | 0      | 50     | 143    | 80     | 239    | 570    | 501    | 200    | 475    | 0      | 0      | 1380   | 26294  | 86932       | 990    | 3815   | 300    | 381    | 670    | 2407   | 1360   | 7221   | 660    | 7198   | 1010   | 3391   | 6950   | 142055      | 6930   | 20792  | 50     | 204    | 2990   | 2600   | 60     | 4      | 280    | 180    | 950    | 744    | 510    | 94     | 1700   | 1527   | 0      | 0      | 2220   | 3477   | 11030  | 42879  | 4110   | 9965   | 3570   | 8111   | 3170   | 4055   | 1210   | 974    | 5400   | 18163  | 7210   | 21810  | 0      | 0      | 0      | 0      | 1740   | 2815   | 9700   | 24024\n",
       "90008 | 14710 | 8060  | 2310  | 4110  | 9990  | 27000 | 10310  | 662036      | 14710  | 668523      | 11380  | 473516      | 3220   | 1794   | 1270   | 3416   | 1090   | 2092   | 2580   | 4148   | 3540   | 26062  | 1070   | 10633  | 790    | 11251  | 2780   | 97603  | 0    | 1220   | 8145   | 1560   | 16870  | 290    | 10822  | 3790   | 6488   | 330    | 83     | 40     | 658    | 180    | 840    | 140    | 492    | 760    | 770    | 140    | 284    | 0      | 0      | 4720   | 123266 | 415395      | 3600   | 20978  | 920    | 1277   | 3300   | 13216  | 4700   | 38053  | 3040   | 39860  | 4140   | 19875  | 10190  | 386426      | 10160  | 67957  | 310    | 1493   | 3630   | 3434   | 190    | 23     | 550    | 337    | 1280   | 1145   | 510    | 82     | 1750   | 1627   | 110    | 64     | 2560   | 4976   | 13970  | 92620  | 4430   | 11786  | 3990   | 9400   | 3130   | 3892   | 1850   | 1619   | 8670   | 64525  | 10560  | 70194  | 170    | 177    | 150    | 179    | 2780   | 10578  | 11500  | 32783\n",
       "90010 | 2210  | 1270  | 690   | 210   | 1760  | 3790  | 960    | 314333      | 2210   | 320471      | 1510   | 142280      | 780    | 8813   | 450    | 8701   | 400    | 6573   | 350    | 3145   | 680    | 20562  | 550    | 41200  | 90     | 2144   | 170    | 6049   | 0    | 90     | 632    | 180    | 3090   | 530    | 60900  | 870    | 6148   | 0      | 0      | 30     | 1103   | 170    | 1219   | 70     | 435    | 150    | 161    | 0      | 0      | 0      | 0      | 900    | 70940  | 272867      | 650    | 24978  | 160    | 224    | 600    | 6912   | 880    | 32771  | 520    | 9838   | 650    | 21417  | 1660   | 224561      | 1660   | 63634  | 180    | 2287   | 470    | 1626   | 140    | 902    | 40     | 25     | 100    | 98     | 40     | 9      | 170    | 170    | 0      | 0      | 650    | 3148   | 1840   | 62807  | 360    | 523    | 230    | 335    | 130    | 151    | 110    | 97     | 1540   | 62160  | 1790   | 67475  | 110    | 535    | 150    | 2053   | 820    | 18448  | 1140   | 7191\n",
       "90011 | 36670 | 15540 | 8600  | 12390 | 30240 | 95640 | 51260  | 857731      | 36670  | 864961      | 31420  | 746856      | 3120   | 588    | 250    | 158    | 190    | 53     | 1940   | 1560   | 7160   | 70288  | 250    | 2056   | 170    | 1533   | 1150   | 14963  | 0    | 2280   | 10594  | 480    | 3262   | 150    | 1791   | 7780   | 6988   | 200    | 46     | 0      | 0      | 40     | 56     | 80     | 265    | 830    | 690    | 160    | 308    | 0      | 0      | 3800   | 66782  | 177957      | 2350   | 5318   | 1280   | 1332   | 2540   | 7374   | 3790   | 16048  | 2580   | 24554  | 2550   | 5437   | 18630  | 265130      | 18610  | 34509  | 40     | 90     | 10350  | 8588   | 0      | 0      | 940    | 604    | 2160   | 1528   | 1290   | 228    | 7560   | 6161   | 60     | 14     | 6600   | 10310  | 34770  | 123045 | 14220  | 41698  | 12950  | 34874  | 17190  | 25293  | 3450   | 2649   | 11970  | 25835  | 17980  | 36385  | 0      | 0      | 0      | 0      | 3830   | 4957   | 32070  | 92906\n",
       "... (1473 rows omitted)"
      ]
     },
     "execution_count": 5,
     "metadata": {},
     "output_type": "execute_result"
    }
   ],
   "source": [
    "...\n",
    "    ...\n",
    "income_by_zipcode"
   ]
  },
  {
   "cell_type": "code",
   "execution_count": 6,
   "metadata": {
    "collapsed": false
   },
   "outputs": [
    {
     "name": "stdout",
     "output_type": "stream",
     "text": [
      "~~~~~~~~~~~~~~~~~~~~~~~~~~~~~~~~~~~~~~~~~~~~~~~~~~~~~~~~~~~~~~~~~~~~~\n",
      "Running tests\n",
      "\n",
      "---------------------------------------------------------------------\n",
      "Test summary\n",
      "    Passed: 1\n",
      "    Failed: 0\n",
      "[ooooooooook] 100.0% passed\n",
      "\n"
     ]
    }
   ],
   "source": [
    "_ = hw04.grade('q11')"
   ]
  },
  {
   "cell_type": "markdown",
   "metadata": {},
   "source": [
    "**Question 1.2.**\n",
    "Create a table called `income` with  one row per ZIP code and the following columns.\n",
    "\n",
    "1. A `ZIP` column with the same contents as `'ZIP'` from `income_by_zipcode`.\n",
    "2. A `returns` column containing the total number of tax returns that include a total income amount (column `'N02650'` from `income_by_zipcode`).\n",
    "3. A `total` column containing the total income in all tax returns in thousands of dollars (column `'A02650'` from `income_by_zipcode`).\n",
    "4. A `farmers` column containing the number of farmer returns (column `'SCHF'` from `income_by_zipcode`)."
   ]
  },
  {
   "cell_type": "code",
   "execution_count": 7,
   "metadata": {
    "collapsed": false
   },
   "outputs": [
    {
     "data": {
      "text/html": [
       "<table border=\"1\" class=\"dataframe\">\n",
       "    <thead>\n",
       "        <tr>\n",
       "            <th>ZIP</th> <th>returns</th> <th>total</th> <th>farmers</th>\n",
       "        </tr>\n",
       "    </thead>\n",
       "    <tbody>\n",
       "        <tr>\n",
       "            <td>90001</td> <td>20970  </td> <td>531,772  </td> <td>0      </td>\n",
       "        </tr>\n",
       "    </tbody>\n",
       "        <tr>\n",
       "            <td>90002</td> <td>18960  </td> <td>467,128  </td> <td>0      </td>\n",
       "        </tr>\n",
       "    </tbody>\n",
       "        <tr>\n",
       "            <td>90003</td> <td>26180  </td> <td>618,848  </td> <td>0      </td>\n",
       "        </tr>\n",
       "    </tbody>\n",
       "        <tr>\n",
       "            <td>90004</td> <td>27360  </td> <td>1,649,431</td> <td>0      </td>\n",
       "        </tr>\n",
       "    </tbody>\n",
       "        <tr>\n",
       "            <td>90005</td> <td>15430  </td> <td>717,290  </td> <td>0      </td>\n",
       "        </tr>\n",
       "    </tbody>\n",
       "        <tr>\n",
       "            <td>90006</td> <td>22630  </td> <td>571,157  </td> <td>0      </td>\n",
       "        </tr>\n",
       "    </tbody>\n",
       "        <tr>\n",
       "            <td>90007</td> <td>11710  </td> <td>315,581  </td> <td>0      </td>\n",
       "        </tr>\n",
       "    </tbody>\n",
       "        <tr>\n",
       "            <td>90008</td> <td>14710  </td> <td>668,523  </td> <td>0      </td>\n",
       "        </tr>\n",
       "    </tbody>\n",
       "        <tr>\n",
       "            <td>90010</td> <td>2210   </td> <td>320,471  </td> <td>0      </td>\n",
       "        </tr>\n",
       "    </tbody>\n",
       "        <tr>\n",
       "            <td>90011</td> <td>36670  </td> <td>864,961  </td> <td>0      </td>\n",
       "        </tr>\n",
       "    </tbody>\n",
       "</table>\n",
       "<p>... (1473 rows omitted)</p"
      ],
      "text/plain": [
       "ZIP   | returns | total     | farmers\n",
       "90001 | 20970   | 531,772   | 0\n",
       "90002 | 18960   | 467,128   | 0\n",
       "90003 | 26180   | 618,848   | 0\n",
       "90004 | 27360   | 1,649,431 | 0\n",
       "90005 | 15430   | 717,290   | 0\n",
       "90006 | 22630   | 571,157   | 0\n",
       "90007 | 11710   | 315,581   | 0\n",
       "90008 | 14710   | 668,523   | 0\n",
       "90010 | 2210    | 320,471   | 0\n",
       "90011 | 36670   | 864,961   | 0\n",
       "... (1473 rows omitted)"
      ]
     },
     "execution_count": 7,
     "metadata": {},
     "output_type": "execute_result"
    }
   ],
   "source": [
    "income = Table().with_columns([\n",
    "        ...\n",
    "        ...\n",
    "        ...\n",
    "        ...\n",
    "        ])\n",
    "income.set_format('total', NumberFormatter(0))"
   ]
  },
  {
   "cell_type": "code",
   "execution_count": 8,
   "metadata": {
    "collapsed": false,
    "scrolled": false
   },
   "outputs": [
    {
     "name": "stdout",
     "output_type": "stream",
     "text": [
      "~~~~~~~~~~~~~~~~~~~~~~~~~~~~~~~~~~~~~~~~~~~~~~~~~~~~~~~~~~~~~~~~~~~~~\n",
      "Running tests\n",
      "\n",
      "---------------------------------------------------------------------\n",
      "Test summary\n",
      "    Passed: 1\n",
      "    Failed: 0\n",
      "[ooooooooook] 100.0% passed\n",
      "\n"
     ]
    }
   ],
   "source": [
    "_ = hw04.grade('q12')"
   ]
  },
  {
   "cell_type": "markdown",
   "metadata": {},
   "source": [
    "This table can be a little confusing so lets break down what each column represents. The first column 'ZIP' is the zip code. Zip codes are important to us because they represent an greographic area. So the zip code '921222' represents an area of land in San Diego. \"Returns\" is the number of tax returns received by the IRS from that zip code. A tax return approximatly represents one persons income. It's approximate because a family usually only submits one tax return. Each tax return will have a reported income. The 'total' column is the sum of all the incomes reported for a given zip code (**Note that it is in terms of thousands of dollars**). The 'farmers' category represents the number of tax returns where the person submitting there tax return reported that their primary occupation is farming.  "
   ]
  },
  {
   "cell_type": "markdown",
   "metadata": {},
   "source": [
    "**Question 1.3.** What is the average total income reported on all California tax returns that include a total income amount? **Express the answer in *dollars* as an `int` rounded to the nearest dollar.**"
   ]
  },
  {
   "cell_type": "code",
   "execution_count": 9,
   "metadata": {
    "collapsed": false
   },
   "outputs": [
    {
     "data": {
      "text/plain": [
       "72832.0"
      ]
     },
     "execution_count": 9,
     "metadata": {},
     "output_type": "execute_result"
    }
   ],
   "source": [
    "#all the income out of all the returns\n",
    "#remember 'total' is measured in thousands of dollars\n",
    "\n",
    "\n",
    "avg_total_income = ...\n",
    "avg_total_income"
   ]
  },
  {
   "cell_type": "code",
   "execution_count": 10,
   "metadata": {
    "collapsed": false
   },
   "outputs": [
    {
     "name": "stdout",
     "output_type": "stream",
     "text": [
      "~~~~~~~~~~~~~~~~~~~~~~~~~~~~~~~~~~~~~~~~~~~~~~~~~~~~~~~~~~~~~~~~~~~~~\n",
      "Running tests\n",
      "\n",
      "---------------------------------------------------------------------\n",
      "Test summary\n",
      "    Passed: 1\n",
      "    Failed: 0\n",
      "[ooooooooook] 100.0% passed\n",
      "\n"
     ]
    }
   ],
   "source": [
    "_ = hw04.grade('q13')"
   ]
  },
  {
   "cell_type": "markdown",
   "metadata": {},
   "source": [
    "**Question 1.4.** All ZIP codes with less than 100 returns (or some other special conditions) are grouped together into one ZIP code with a special code. Remove the row for that ZIP code from the `income` table. This ZIP code value has far more returns than any of the other ZIP codes.\n",
    "\n",
    "*Hint:* To **remove** a row in the `income` table using `where`, assign `income` to the smaller table using the following expression structure:\n",
    "\n",
    "    income = income.where(...)\n",
    "    \n",
    "*Hint 2:* Each ZIP code is represented as a string, not an `int`."
   ]
  },
  {
   "cell_type": "code",
   "execution_count": 11,
   "metadata": {
    "collapsed": false
   },
   "outputs": [
    {
     "data": {
      "text/html": [
       "<table border=\"1\" class=\"dataframe\">\n",
       "    <thead>\n",
       "        <tr>\n",
       "            <th>ZIP</th> <th>returns</th> <th>total</th> <th>farmers</th>\n",
       "        </tr>\n",
       "    </thead>\n",
       "    <tbody>\n",
       "        <tr>\n",
       "            <td>92028</td> <td>20360  </td> <td>1,323,779</td> <td>820    </td>\n",
       "        </tr>\n",
       "    </tbody>\n",
       "        <tr>\n",
       "            <td>95361</td> <td>13500  </td> <td>875,411  </td> <td>570    </td>\n",
       "        </tr>\n",
       "    </tbody>\n",
       "        <tr>\n",
       "            <td>92082</td> <td>8640   </td> <td>628,722  </td> <td>480    </td>\n",
       "        </tr>\n",
       "    </tbody>\n",
       "        <tr>\n",
       "            <td>95963</td> <td>6100   </td> <td>263,960  </td> <td>470    </td>\n",
       "        </tr>\n",
       "    </tbody>\n",
       "        <tr>\n",
       "            <td>95358</td> <td>11880  </td> <td>520,444  </td> <td>400    </td>\n",
       "        </tr>\n",
       "    </tbody>\n",
       "        <tr>\n",
       "            <td>95320</td> <td>5370   </td> <td>359,817  </td> <td>380    </td>\n",
       "        </tr>\n",
       "    </tbody>\n",
       "        <tr>\n",
       "            <td>93292</td> <td>15050  </td> <td>756,000  </td> <td>380    </td>\n",
       "        </tr>\n",
       "    </tbody>\n",
       "        <tr>\n",
       "            <td>94558</td> <td>31930  </td> <td>2,609,616</td> <td>360    </td>\n",
       "        </tr>\n",
       "    </tbody>\n",
       "        <tr>\n",
       "            <td>93657</td> <td>13980  </td> <td>619,423  </td> <td>360    </td>\n",
       "        </tr>\n",
       "    </tbody>\n",
       "        <tr>\n",
       "            <td>95380</td> <td>15460  </td> <td>638,187  </td> <td>340    </td>\n",
       "        </tr>\n",
       "    </tbody>\n",
       "</table>\n",
       "<p>... (1472 rows omitted)</p"
      ],
      "text/plain": [
       "ZIP   | returns | total     | farmers\n",
       "92028 | 20360   | 1,323,779 | 820\n",
       "95361 | 13500   | 875,411   | 570\n",
       "92082 | 8640    | 628,722   | 480\n",
       "95963 | 6100    | 263,960   | 470\n",
       "95358 | 11880   | 520,444   | 400\n",
       "95320 | 5370    | 359,817   | 380\n",
       "93292 | 15050   | 756,000   | 380\n",
       "94558 | 31930   | 2,609,616 | 360\n",
       "93657 | 13980   | 619,423   | 360\n",
       "95380 | 15460   | 638,187   | 340\n",
       "... (1472 rows omitted)"
      ]
     },
     "execution_count": 11,
     "metadata": {},
     "output_type": "execute_result"
    }
   ],
   "source": [
    "\n",
    "income = ...\n",
    "income"
   ]
  },
  {
   "cell_type": "code",
   "execution_count": 12,
   "metadata": {
    "collapsed": false
   },
   "outputs": [
    {
     "name": "stdout",
     "output_type": "stream",
     "text": [
      "~~~~~~~~~~~~~~~~~~~~~~~~~~~~~~~~~~~~~~~~~~~~~~~~~~~~~~~~~~~~~~~~~~~~~\n",
      "Running tests\n",
      "\n",
      "---------------------------------------------------------------------\n",
      "Test summary\n",
      "    Passed: 2\n",
      "    Failed: 0\n",
      "[ooooooooook] 100.0% passed\n",
      "\n"
     ]
    }
   ],
   "source": [
    "_ = hw04.grade('q14')"
   ]
  },
  {
   "cell_type": "markdown",
   "metadata": {},
   "source": [
    "**Question 1.5**. Among the tax returns in California for ZIP codes represented in the `incomes` table, is there an association between income and living in a ZIP code with a higher-than-average proportion of farmers?\n",
    "\n",
    "Let's explore this by calculating some statistics and making some tables."
   ]
  },
  {
   "cell_type": "code",
   "execution_count": 13,
   "metadata": {
    "collapsed": false,
    "scrolled": true
   },
   "outputs": [
    {
     "data": {
      "text/html": [
       "<table border=\"1\" class=\"dataframe\">\n",
       "    <thead>\n",
       "        <tr>\n",
       "            <th>ZIP</th> <th>returns</th> <th>total</th> <th>farmers</th> <th>Farm Proportion</th>\n",
       "        </tr>\n",
       "    </thead>\n",
       "    <tbody>\n",
       "        <tr>\n",
       "            <td>90001</td> <td>20970  </td> <td>531,772  </td> <td>0      </td> <td>0              </td>\n",
       "        </tr>\n",
       "    </tbody>\n",
       "        <tr>\n",
       "            <td>90002</td> <td>18960  </td> <td>467,128  </td> <td>0      </td> <td>0              </td>\n",
       "        </tr>\n",
       "    </tbody>\n",
       "        <tr>\n",
       "            <td>90003</td> <td>26180  </td> <td>618,848  </td> <td>0      </td> <td>0              </td>\n",
       "        </tr>\n",
       "    </tbody>\n",
       "        <tr>\n",
       "            <td>90004</td> <td>27360  </td> <td>1,649,431</td> <td>0      </td> <td>0              </td>\n",
       "        </tr>\n",
       "    </tbody>\n",
       "        <tr>\n",
       "            <td>90005</td> <td>15430  </td> <td>717,290  </td> <td>0      </td> <td>0              </td>\n",
       "        </tr>\n",
       "    </tbody>\n",
       "        <tr>\n",
       "            <td>90006</td> <td>22630  </td> <td>571,157  </td> <td>0      </td> <td>0              </td>\n",
       "        </tr>\n",
       "    </tbody>\n",
       "        <tr>\n",
       "            <td>90007</td> <td>11710  </td> <td>315,581  </td> <td>0      </td> <td>0              </td>\n",
       "        </tr>\n",
       "    </tbody>\n",
       "        <tr>\n",
       "            <td>90008</td> <td>14710  </td> <td>668,523  </td> <td>0      </td> <td>0              </td>\n",
       "        </tr>\n",
       "    </tbody>\n",
       "        <tr>\n",
       "            <td>90010</td> <td>2210   </td> <td>320,471  </td> <td>0      </td> <td>0              </td>\n",
       "        </tr>\n",
       "    </tbody>\n",
       "        <tr>\n",
       "            <td>90011</td> <td>36670  </td> <td>864,961  </td> <td>0      </td> <td>0              </td>\n",
       "        </tr>\n",
       "    </tbody>\n",
       "</table>\n",
       "<p>... (1472 rows omitted)</p"
      ],
      "text/plain": [
       "ZIP   | returns | total     | farmers | Farm Proportion\n",
       "90001 | 20970   | 531,772   | 0       | 0\n",
       "90002 | 18960   | 467,128   | 0       | 0\n",
       "90003 | 26180   | 618,848   | 0       | 0\n",
       "90004 | 27360   | 1,649,431 | 0       | 0\n",
       "90005 | 15430   | 717,290   | 0       | 0\n",
       "90006 | 22630   | 571,157   | 0       | 0\n",
       "90007 | 11710   | 315,581   | 0       | 0\n",
       "90008 | 14710   | 668,523   | 0       | 0\n",
       "90010 | 2210    | 320,471   | 0       | 0\n",
       "90011 | 36670   | 864,961   | 0       | 0\n",
       "... (1472 rows omitted)"
      ]
     },
     "execution_count": 13,
     "metadata": {},
     "output_type": "execute_result"
    }
   ],
   "source": [
    "# Calculate the proportion of returns that were submitted by farmers for each zip code\n",
    "farm_proportion = ...\n",
    "\n",
    "# Create a table called income_with_farm_proportion that adds farm_proportion as a column to the income table\n",
    "income_with_farm_proportion = income.with_column('Farm Proportion', farm_proportion)\n",
    "income_with_farm_proportion"
   ]
  },
  {
   "cell_type": "code",
   "execution_count": 14,
   "metadata": {
    "collapsed": false
   },
   "outputs": [
    {
     "data": {
      "text/plain": [
       "0.00897316247969098"
      ]
     },
     "execution_count": 14,
     "metadata": {},
     "output_type": "execute_result"
    }
   ],
   "source": [
    "# Calculate the average proportion of farmer tax returns across all the zip codes\n",
    "avg_prop_farmers = ...\n",
    "avg_prop_farmers"
   ]
  },
  {
   "cell_type": "code",
   "execution_count": 15,
   "metadata": {
    "collapsed": false
   },
   "outputs": [
    {
     "data": {
      "text/html": [
       "<table border=\"1\" class=\"dataframe\">\n",
       "    <thead>\n",
       "        <tr>\n",
       "            <th>ZIP</th> <th>returns</th> <th>total</th> <th>farmers</th> <th>Farm Proportion</th>\n",
       "        </tr>\n",
       "    </thead>\n",
       "    <tbody>\n",
       "        <tr>\n",
       "            <td>91906</td> <td>1440   </td> <td>65,980   </td> <td>30     </td> <td>0.0208333      </td>\n",
       "        </tr>\n",
       "    </tbody>\n",
       "        <tr>\n",
       "            <td>91935</td> <td>4220   </td> <td>383,661  </td> <td>50     </td> <td>0.0118483      </td>\n",
       "        </tr>\n",
       "    </tbody>\n",
       "        <tr>\n",
       "            <td>92003</td> <td>2570   </td> <td>214,821  </td> <td>250    </td> <td>0.0972763      </td>\n",
       "        </tr>\n",
       "    </tbody>\n",
       "        <tr>\n",
       "            <td>92028</td> <td>20360  </td> <td>1,323,779</td> <td>820    </td> <td>0.040275       </td>\n",
       "        </tr>\n",
       "    </tbody>\n",
       "        <tr>\n",
       "            <td>92036</td> <td>1530   </td> <td>92,064   </td> <td>30     </td> <td>0.0196078      </td>\n",
       "        </tr>\n",
       "    </tbody>\n",
       "        <tr>\n",
       "            <td>92061</td> <td>1390   </td> <td>112,032  </td> <td>50     </td> <td>0.0359712      </td>\n",
       "        </tr>\n",
       "    </tbody>\n",
       "        <tr>\n",
       "            <td>92065</td> <td>16230  </td> <td>1,140,168</td> <td>220    </td> <td>0.0135551      </td>\n",
       "        </tr>\n",
       "    </tbody>\n",
       "        <tr>\n",
       "            <td>92070</td> <td>540    </td> <td>26,955   </td> <td>20     </td> <td>0.037037       </td>\n",
       "        </tr>\n",
       "    </tbody>\n",
       "        <tr>\n",
       "            <td>92082</td> <td>8640   </td> <td>628,722  </td> <td>480    </td> <td>0.0555556      </td>\n",
       "        </tr>\n",
       "    </tbody>\n",
       "        <tr>\n",
       "            <td>92086</td> <td>550    </td> <td>23,629   </td> <td>20     </td> <td>0.0363636      </td>\n",
       "        </tr>\n",
       "    </tbody>\n",
       "</table>\n",
       "<p>... (272 rows omitted)</p"
      ],
      "text/plain": [
       "ZIP   | returns | total     | farmers | Farm Proportion\n",
       "91906 | 1440    | 65,980    | 30      | 0.0208333\n",
       "91935 | 4220    | 383,661   | 50      | 0.0118483\n",
       "92003 | 2570    | 214,821   | 250     | 0.0972763\n",
       "92028 | 20360   | 1,323,779 | 820     | 0.040275\n",
       "92036 | 1530    | 92,064    | 30      | 0.0196078\n",
       "92061 | 1390    | 112,032   | 50      | 0.0359712\n",
       "92065 | 16230   | 1,140,168 | 220     | 0.0135551\n",
       "92070 | 540     | 26,955    | 20      | 0.037037\n",
       "92082 | 8640    | 628,722   | 480     | 0.0555556\n",
       "92086 | 550     | 23,629    | 20      | 0.0363636\n",
       "... (272 rows omitted)"
      ]
     },
     "execution_count": 15,
     "metadata": {},
     "output_type": "execute_result"
    }
   ],
   "source": [
    "#Create a table \"high_farmers\" that only contains zip codes with an above average proportion of farmers\n",
    "high_farmers = ...\n",
    "high_farmers"
   ]
  },
  {
   "cell_type": "code",
   "execution_count": 16,
   "metadata": {
    "collapsed": false
   },
   "outputs": [
    {
     "data": {
      "text/html": [
       "<table border=\"1\" class=\"dataframe\">\n",
       "    <thead>\n",
       "        <tr>\n",
       "            <th>ZIP</th> <th>returns</th> <th>total</th> <th>farmers</th> <th>Farm Proportion</th>\n",
       "        </tr>\n",
       "    </thead>\n",
       "    <tbody>\n",
       "        <tr>\n",
       "            <td>90001</td> <td>20970  </td> <td>531,772  </td> <td>0      </td> <td>0              </td>\n",
       "        </tr>\n",
       "    </tbody>\n",
       "        <tr>\n",
       "            <td>90002</td> <td>18960  </td> <td>467,128  </td> <td>0      </td> <td>0              </td>\n",
       "        </tr>\n",
       "    </tbody>\n",
       "        <tr>\n",
       "            <td>90003</td> <td>26180  </td> <td>618,848  </td> <td>0      </td> <td>0              </td>\n",
       "        </tr>\n",
       "    </tbody>\n",
       "        <tr>\n",
       "            <td>90004</td> <td>27360  </td> <td>1,649,431</td> <td>0      </td> <td>0              </td>\n",
       "        </tr>\n",
       "    </tbody>\n",
       "        <tr>\n",
       "            <td>90005</td> <td>15430  </td> <td>717,290  </td> <td>0      </td> <td>0              </td>\n",
       "        </tr>\n",
       "    </tbody>\n",
       "        <tr>\n",
       "            <td>90006</td> <td>22630  </td> <td>571,157  </td> <td>0      </td> <td>0              </td>\n",
       "        </tr>\n",
       "    </tbody>\n",
       "        <tr>\n",
       "            <td>90007</td> <td>11710  </td> <td>315,581  </td> <td>0      </td> <td>0              </td>\n",
       "        </tr>\n",
       "    </tbody>\n",
       "        <tr>\n",
       "            <td>90008</td> <td>14710  </td> <td>668,523  </td> <td>0      </td> <td>0              </td>\n",
       "        </tr>\n",
       "    </tbody>\n",
       "        <tr>\n",
       "            <td>90010</td> <td>2210   </td> <td>320,471  </td> <td>0      </td> <td>0              </td>\n",
       "        </tr>\n",
       "    </tbody>\n",
       "        <tr>\n",
       "            <td>90011</td> <td>36670  </td> <td>864,961  </td> <td>0      </td> <td>0              </td>\n",
       "        </tr>\n",
       "    </tbody>\n",
       "</table>\n",
       "<p>... (1190 rows omitted)</p"
      ],
      "text/plain": [
       "ZIP   | returns | total     | farmers | Farm Proportion\n",
       "90001 | 20970   | 531,772   | 0       | 0\n",
       "90002 | 18960   | 467,128   | 0       | 0\n",
       "90003 | 26180   | 618,848   | 0       | 0\n",
       "90004 | 27360   | 1,649,431 | 0       | 0\n",
       "90005 | 15430   | 717,290   | 0       | 0\n",
       "90006 | 22630   | 571,157   | 0       | 0\n",
       "90007 | 11710   | 315,581   | 0       | 0\n",
       "90008 | 14710   | 668,523   | 0       | 0\n",
       "90010 | 2210    | 320,471   | 0       | 0\n",
       "90011 | 36670   | 864,961   | 0       | 0\n",
       "... (1190 rows omitted)"
      ]
     },
     "execution_count": 16,
     "metadata": {},
     "output_type": "execute_result"
    }
   ],
   "source": [
    "#Create a table \"low farmers\" that only contains zip codes with proportion of farmers that is at or below average\n",
    "low_farmers = ...\n",
    "low_farmers"
   ]
  },
  {
   "cell_type": "code",
   "execution_count": 17,
   "metadata": {
    "collapsed": false
   },
   "outputs": [
    {
     "data": {
      "text/plain": [
       "60428.0"
      ]
     },
     "execution_count": 17,
     "metadata": {},
     "output_type": "execute_result"
    }
   ],
   "source": [
    "# Calculate the average total income of zips codes from the high_farmers table\n",
    "# Calcute it in terms of dollars (REMEMBER 'total' is measured in thousands of dollars)\n",
    "# Use the round function to round your final asnwer\n",
    "\n",
    "high_farmers_avg_total_income = ...\n",
    "high_farmers_avg_total_income"
   ]
  },
  {
   "cell_type": "code",
   "execution_count": 18,
   "metadata": {
    "collapsed": false
   },
   "outputs": [
    {
     "data": {
      "text/plain": [
       "73917.0"
      ]
     },
     "execution_count": 18,
     "metadata": {},
     "output_type": "execute_result"
    }
   ],
   "source": [
    "# Calculate the average total income of zips codes from the low_farmers table\n",
    "# Calcute it in terms of dollars (REMEMBER 'total' is measured in thousands of dollars)\n",
    "# Use the round function to round your final asnwer\n",
    "\n",
    "\n",
    "low_farmers_avg_total_income = ...\n",
    "low_farmers_avg_total_income"
   ]
  },
  {
   "cell_type": "markdown",
   "metadata": {},
   "source": [
    "Do zip codes with an above average number of farmers have a higher average income than zip codes with a below average number of farmers?\n",
    "\n",
    "1. yes\n",
    "2. no"
   ]
  },
  {
   "cell_type": "code",
   "execution_count": 19,
   "metadata": {
    "collapsed": true
   },
   "outputs": [],
   "source": [
    "q15_answer = ..."
   ]
  },
  {
   "cell_type": "code",
   "execution_count": 20,
   "metadata": {
    "collapsed": false
   },
   "outputs": [
    {
     "name": "stdout",
     "output_type": "stream",
     "text": [
      "~~~~~~~~~~~~~~~~~~~~~~~~~~~~~~~~~~~~~~~~~~~~~~~~~~~~~~~~~~~~~~~~~~~~~\n",
      "Running tests\n",
      "\n",
      "---------------------------------------------------------------------\n",
      "Test summary\n",
      "    Passed: 5\n",
      "    Failed: 0\n",
      "[ooooooooook] 100.0% passed\n",
      "\n"
     ]
    }
   ],
   "source": [
    "_ = hw04.grade('q15')"
   ]
  },
  {
   "cell_type": "markdown",
   "metadata": {},
   "source": [
    "Part 2: Water Usage\n",
    "======\n",
    "We will now investigate water usage in California. The `usage` table contains three columns:\n",
    "\n",
    "- `PWSID`: The Public Water Supply Identifier of the district\n",
    "- `Population`: Estimate of average population served in 2015\n",
    "- `Water`: Average residential water use (gallons per person per day) in 2014-2015"
   ]
  },
  {
   "cell_type": "code",
   "execution_count": 21,
   "metadata": {
    "collapsed": false
   },
   "outputs": [
    {
     "data": {
      "text/html": [
       "<table border=\"1\" class=\"dataframe\">\n",
       "    <thead>\n",
       "        <tr>\n",
       "            <th>PWSID</th> <th>Population</th> <th>Water</th>\n",
       "        </tr>\n",
       "    </thead>\n",
       "    <tbody>\n",
       "        <tr>\n",
       "            <td>0110001</td> <td>340000    </td> <td>70.7   </td>\n",
       "        </tr>\n",
       "    </tbody>\n",
       "        <tr>\n",
       "            <td>0110003</td> <td>57450     </td> <td>90.2727</td>\n",
       "        </tr>\n",
       "    </tbody>\n",
       "        <tr>\n",
       "            <td>0110005</td> <td>1390000   </td> <td>76     </td>\n",
       "        </tr>\n",
       "    </tbody>\n",
       "        <tr>\n",
       "            <td>0110006</td> <td>151037    </td> <td>57.1818</td>\n",
       "        </tr>\n",
       "    </tbody>\n",
       "        <tr>\n",
       "            <td>0110008</td> <td>73067     </td> <td>96.6364</td>\n",
       "        </tr>\n",
       "    </tbody>\n",
       "        <tr>\n",
       "            <td>0110009</td> <td>79547     </td> <td>68.6364</td>\n",
       "        </tr>\n",
       "    </tbody>\n",
       "        <tr>\n",
       "            <td>0110011</td> <td>31994     </td> <td>85.8182</td>\n",
       "        </tr>\n",
       "    </tbody>\n",
       "        <tr>\n",
       "            <td>0310003</td> <td>23347     </td> <td>82.8182</td>\n",
       "        </tr>\n",
       "    </tbody>\n",
       "        <tr>\n",
       "            <td>0410002</td> <td>101447    </td> <td>142    </td>\n",
       "        </tr>\n",
       "    </tbody>\n",
       "        <tr>\n",
       "            <td>0410005</td> <td>11208     </td> <td>88.8182</td>\n",
       "        </tr>\n",
       "    </tbody>\n",
       "</table>\n",
       "<p>... (401 rows omitted)</p"
      ],
      "text/plain": [
       "PWSID   | Population | Water\n",
       "0110001 | 340000     | 70.7\n",
       "0110003 | 57450      | 90.2727\n",
       "0110005 | 1390000    | 76\n",
       "0110006 | 151037     | 57.1818\n",
       "0110008 | 73067      | 96.6364\n",
       "0110009 | 79547      | 68.6364\n",
       "0110011 | 31994      | 85.8182\n",
       "0310003 | 23347      | 82.8182\n",
       "0410002 | 101447     | 142\n",
       "0410005 | 11208      | 88.8182\n",
       "... (401 rows omitted)"
      ]
     },
     "execution_count": 21,
     "metadata": {},
     "output_type": "execute_result"
    }
   ],
   "source": [
    "# Run this cell to create the usage table\n",
    "usage_raw = Table.read_table('water_usage.csv', dtype={'pwsid': str})\n",
    "\n",
    "usage_raw.set_format(4, NumberFormatter)\n",
    "max_pop = usage_raw.select([0, 'population']).group(0, max).relabeled(1, 'Population')\n",
    "avg_water = usage_raw.select([0, 'res_gpcd']).group(0, np.mean).relabeled(1, 'Water')\n",
    "usage = max_pop.join('pwsid', avg_water).relabeled(0, 'PWSID')\n",
    "usage\n"
   ]
  },
  {
   "cell_type": "markdown",
   "metadata": {},
   "source": [
    "We will try to match each ZIP code with a water district. ZIP code boundaries do not always line up with water districts, and one water district often covers multiple ZIP codes, so this process is imprecise. It is even the case that some water districts overlap each other. Nonetheless, we can continue our analysis by matching each ZIP code to the water district with the largest geographic overlap."
   ]
  },
  {
   "cell_type": "markdown",
   "metadata": {},
   "source": [
    "The table `wd_vs_zip` describes the proportion of land in each ZIP code that is contained in each water district and vis versa. (The proportions are approximate because they do not correctly account for discontiguous districts, but they're mostly accurate.)"
   ]
  },
  {
   "cell_type": "code",
   "execution_count": 22,
   "metadata": {
    "collapsed": false
   },
   "outputs": [
    {
     "data": {
      "text/html": [
       "<table border=\"1\" class=\"dataframe\">\n",
       "    <thead>\n",
       "        <tr>\n",
       "            <th>PWSID</th> <th>ZIP</th> <th>District in ZIP</th> <th>ZIP in District</th>\n",
       "        </tr>\n",
       "    </thead>\n",
       "    <tbody>\n",
       "        <tr>\n",
       "            <td>0110001</td> <td>94536</td> <td>9.41%          </td> <td>68.51%         </td>\n",
       "        </tr>\n",
       "    </tbody>\n",
       "        <tr>\n",
       "            <td>0110001</td> <td>94538</td> <td>18.87%         </td> <td>67.31%         </td>\n",
       "        </tr>\n",
       "    </tbody>\n",
       "        <tr>\n",
       "            <td>0110001</td> <td>94539</td> <td>13.13%         </td> <td>44.36%         </td>\n",
       "        </tr>\n",
       "    </tbody>\n",
       "        <tr>\n",
       "            <td>0110005</td> <td>94541</td> <td>1.61%          </td> <td>68.11%         </td>\n",
       "        </tr>\n",
       "    </tbody>\n",
       "        <tr>\n",
       "            <td>0110006</td> <td>94541</td> <td>18.68%         </td> <td>98.46%         </td>\n",
       "        </tr>\n",
       "    </tbody>\n",
       "</table>\n",
       "<p>... (2841 rows omitted)</p"
      ],
      "text/plain": [
       "<IPython.core.display.HTML object>"
      ]
     },
     "metadata": {},
     "output_type": "display_data"
    }
   ],
   "source": [
    "wd_vs_zip = Table.read_table('wd_vs_zip.csv', dtype={'PWSID': str, 'ZIP': str}).set_format([2, 3], PercentFormatter)\n",
    "wd_vs_zip.show(5)"
   ]
  },
  {
   "cell_type": "markdown",
   "metadata": {},
   "source": [
    "**Question 2.1.** Complete the `district_for_zip` function that takes a ZIP code. It returns the PWSID with the largest value of `ZIP in District` for that `zip_code`, if that value is at least 50%. Otherwise, it returns the string `'No District'`."
   ]
  },
  {
   "cell_type": "code",
   "execution_count": 23,
   "metadata": {
    "collapsed": false
   },
   "outputs": [
    {
     "data": {
      "text/plain": [
       "'0110005'"
      ]
     },
     "execution_count": 23,
     "metadata": {},
     "output_type": "execute_result"
    }
   ],
   "source": [
    "def district_for_zip(zip_code):\n",
    "    zip_code = str(zip_code) # Ensure that the ZIP code is a string, not an integer\n",
    "    districts = ...\n",
    "    at_least_half = ...\n",
    "    if at_least_half:\n",
    "        ...\n",
    "    else:\n",
    "        return 'No District'\n",
    "\n",
    "district_for_zip(94709)"
   ]
  },
  {
   "cell_type": "code",
   "execution_count": 24,
   "metadata": {
    "collapsed": false
   },
   "outputs": [
    {
     "name": "stdout",
     "output_type": "stream",
     "text": [
      "~~~~~~~~~~~~~~~~~~~~~~~~~~~~~~~~~~~~~~~~~~~~~~~~~~~~~~~~~~~~~~~~~~~~~\n",
      "Running tests\n",
      "\n",
      "---------------------------------------------------------------------\n",
      "Test summary\n",
      "    Passed: 4\n",
      "    Failed: 0\n",
      "[ooooooooook] 100.0% passed\n",
      "\n"
     ]
    }
   ],
   "source": [
    "_ = hw04.grade('q21')"
   ]
  },
  {
   "cell_type": "markdown",
   "metadata": {},
   "source": [
    "This function can be used to associate each ZIP code in the `income` table with a `PWSID` and discard ZIP codes that do not lie (mostly) in a water district."
   ]
  },
  {
   "cell_type": "code",
   "execution_count": 25,
   "metadata": {
    "collapsed": false
   },
   "outputs": [
    {
     "data": {
      "text/html": [
       "<table border=\"1\" class=\"dataframe\">\n",
       "    <thead>\n",
       "        <tr>\n",
       "            <th>ZIP</th> <th>returns</th> <th>total</th> <th>farmers</th> <th>PWSID</th>\n",
       "        </tr>\n",
       "    </thead>\n",
       "    <tbody>\n",
       "        <tr>\n",
       "            <td>90001</td> <td>20970  </td> <td>531,772  </td> <td>0      </td> <td>1910067</td>\n",
       "        </tr>\n",
       "    </tbody>\n",
       "        <tr>\n",
       "            <td>90022</td> <td>26680  </td> <td>767,484  </td> <td>0      </td> <td>1910036</td>\n",
       "        </tr>\n",
       "    </tbody>\n",
       "        <tr>\n",
       "            <td>90024</td> <td>14690  </td> <td>4,395,487</td> <td>20     </td> <td>1910067</td>\n",
       "        </tr>\n",
       "    </tbody>\n",
       "        <tr>\n",
       "            <td>90025</td> <td>25110  </td> <td>4,019,082</td> <td>20     </td> <td>1910067</td>\n",
       "        </tr>\n",
       "    </tbody>\n",
       "        <tr>\n",
       "            <td>90034</td> <td>29950  </td> <td>1,828,572</td> <td>0      </td> <td>1910067</td>\n",
       "        </tr>\n",
       "    </tbody>\n",
       "</table>\n",
       "<p>... (662 rows omitted)</p"
      ],
      "text/plain": [
       "<IPython.core.display.HTML object>"
      ]
     },
     "metadata": {},
     "output_type": "display_data"
    }
   ],
   "source": [
    "zip_pwsids = income.apply(district_for_zip, 'ZIP')\n",
    "income_with_pwsid = income.with_column('PWSID', zip_pwsids).where(zip_pwsids != \"No District\")\n",
    "income_with_pwsid.set_format(2, NumberFormatter(0)).show(5)"
   ]
  },
  {
   "cell_type": "markdown",
   "metadata": {},
   "source": [
    "**Question 2.2** Create a table called `district_data` with one row per PWSID and the following columns:\n",
    "\n",
    "- `PWSID`: The ID of the district\n",
    "- `Population`: Population estimate\n",
    "- `Water`: Annual water usage (per capita)\n",
    "- `Income`: Average income in dollars of all tax returns in ZIP codes that are (mostly) contained in the district according to `income_with_pwsid`.\n",
    "\n",
    "First create a `district_income` table that sums the incomes and returns for ZIP codes in each water district."
   ]
  },
  {
   "cell_type": "code",
   "execution_count": 26,
   "metadata": {
    "collapsed": false
   },
   "outputs": [
    {
     "data": {
      "text/html": [
       "<table border=\"1\" class=\"dataframe\">\n",
       "    <thead>\n",
       "        <tr>\n",
       "            <th>PWSID</th> <th>ZIP sum</th> <th>returns sum</th> <th>total sum</th> <th>farmers sum</th>\n",
       "        </tr>\n",
       "    </thead>\n",
       "    <tbody>\n",
       "        <tr>\n",
       "            <td>0110001</td> <td>       </td> <td>128720     </td> <td>1.0173e+07 </td> <td>30         </td>\n",
       "        </tr>\n",
       "    </tbody>\n",
       "        <tr>\n",
       "            <td>0110005</td> <td>       </td> <td>512190     </td> <td>4.22542e+07</td> <td>140        </td>\n",
       "        </tr>\n",
       "    </tbody>\n",
       "        <tr>\n",
       "            <td>0110006</td> <td>       </td> <td>83840      </td> <td>4.43711e+06</td> <td>0          </td>\n",
       "        </tr>\n",
       "    </tbody>\n",
       "        <tr>\n",
       "            <td>0110008</td> <td>       </td> <td>20000      </td> <td>3.26515e+06</td> <td>50         </td>\n",
       "        </tr>\n",
       "    </tbody>\n",
       "        <tr>\n",
       "            <td>0110009</td> <td>       </td> <td>39450      </td> <td>5.28242e+06</td> <td>0          </td>\n",
       "        </tr>\n",
       "    </tbody>\n",
       "        <tr>\n",
       "            <td>0410002</td> <td>       </td> <td>14340      </td> <td>722747     </td> <td>70         </td>\n",
       "        </tr>\n",
       "    </tbody>\n",
       "        <tr>\n",
       "            <td>0410006</td> <td>       </td> <td>1120       </td> <td>43367      </td> <td>60         </td>\n",
       "        </tr>\n",
       "    </tbody>\n",
       "        <tr>\n",
       "            <td>0410011</td> <td>       </td> <td>5070       </td> <td>226663     </td> <td>0          </td>\n",
       "        </tr>\n",
       "    </tbody>\n",
       "        <tr>\n",
       "            <td>0710001</td> <td>       </td> <td>46000      </td> <td>2.46334e+06</td> <td>0          </td>\n",
       "        </tr>\n",
       "    </tbody>\n",
       "        <tr>\n",
       "            <td>0710003</td> <td>       </td> <td>39320      </td> <td>2.90629e+06</td> <td>50         </td>\n",
       "        </tr>\n",
       "    </tbody>\n",
       "</table>\n",
       "<p>... (200 rows omitted)</p"
      ],
      "text/plain": [
       "PWSID   | ZIP sum | returns sum | total sum   | farmers sum\n",
       "0110001 |         | 128720      | 1.0173e+07  | 30\n",
       "0110005 |         | 512190      | 4.22542e+07 | 140\n",
       "0110006 |         | 83840       | 4.43711e+06 | 0\n",
       "0110008 |         | 20000       | 3.26515e+06 | 50\n",
       "0110009 |         | 39450       | 5.28242e+06 | 0\n",
       "0410002 |         | 14340       | 722747      | 70\n",
       "0410006 |         | 1120        | 43367       | 60\n",
       "0410011 |         | 5070        | 226663      | 0\n",
       "0710001 |         | 46000       | 2.46334e+06 | 0\n",
       "0710003 |         | 39320       | 2.90629e+06 | 50\n",
       "... (200 rows omitted)"
      ]
     },
     "execution_count": 26,
     "metadata": {},
     "output_type": "execute_result"
    }
   ],
   "source": [
    "district_income = ...\n",
    "district_income"
   ]
  },
  {
   "cell_type": "code",
   "execution_count": 27,
   "metadata": {
    "collapsed": false
   },
   "outputs": [
    {
     "data": {
      "text/html": [
       "<table border=\"1\" class=\"dataframe\">\n",
       "    <thead>\n",
       "        <tr>\n",
       "            <th>PWSID</th> <th>Population</th> <th>Water</th> <th>Income</th>\n",
       "        </tr>\n",
       "    </thead>\n",
       "    <tbody>\n",
       "        <tr>\n",
       "            <td>0110001</td> <td>340,000   </td> <td>71   </td> <td>79,032 </td>\n",
       "        </tr>\n",
       "    </tbody>\n",
       "        <tr>\n",
       "            <td>0110005</td> <td>1,390,000 </td> <td>76   </td> <td>82,497 </td>\n",
       "        </tr>\n",
       "    </tbody>\n",
       "        <tr>\n",
       "            <td>0110006</td> <td>151,037   </td> <td>57   </td> <td>52,924 </td>\n",
       "        </tr>\n",
       "    </tbody>\n",
       "        <tr>\n",
       "            <td>0110008</td> <td>73,067    </td> <td>97   </td> <td>163,257</td>\n",
       "        </tr>\n",
       "    </tbody>\n",
       "        <tr>\n",
       "            <td>0110009</td> <td>79,547    </td> <td>69   </td> <td>133,902</td>\n",
       "        </tr>\n",
       "    </tbody>\n",
       "        <tr>\n",
       "            <td>0410002</td> <td>101,447   </td> <td>142  </td> <td>50,401 </td>\n",
       "        </tr>\n",
       "    </tbody>\n",
       "        <tr>\n",
       "            <td>0410006</td> <td>18,300    </td> <td>286  </td> <td>38,721 </td>\n",
       "        </tr>\n",
       "    </tbody>\n",
       "        <tr>\n",
       "            <td>0410011</td> <td>9,615     </td> <td>92   </td> <td>44,707 </td>\n",
       "        </tr>\n",
       "    </tbody>\n",
       "        <tr>\n",
       "            <td>0710001</td> <td>106,455   </td> <td>110  </td> <td>53,551 </td>\n",
       "        </tr>\n",
       "    </tbody>\n",
       "        <tr>\n",
       "            <td>0710003</td> <td>197,536   </td> <td>102  </td> <td>73,914 </td>\n",
       "        </tr>\n",
       "    </tbody>\n",
       "</table>\n",
       "<p>... (200 rows omitted)</p"
      ],
      "text/plain": [
       "PWSID   | Population | Water | Income\n",
       "0110001 | 340,000    | 71    | 79,032\n",
       "0110005 | 1,390,000  | 76    | 82,497\n",
       "0110006 | 151,037    | 57    | 52,924\n",
       "0110008 | 73,067     | 97    | 163,257\n",
       "0110009 | 79,547     | 69    | 133,902\n",
       "0410002 | 101,447    | 142   | 50,401\n",
       "0410006 | 18,300     | 286   | 38,721\n",
       "0410011 | 9,615      | 92    | 44,707\n",
       "0710001 | 106,455    | 110   | 53,551\n",
       "0710003 | 197,536    | 102   | 73,914\n",
       "... (200 rows omitted)"
      ]
     },
     "execution_count": 27,
     "metadata": {},
     "output_type": "execute_result"
    }
   ],
   "source": [
    "district_data = ...\n",
    "\n",
    "district_data.set_format(['Population', 'Water', 'Income'], NumberFormatter(0))\n",
    "district_data "
   ]
  },
  {
   "cell_type": "code",
   "execution_count": 28,
   "metadata": {
    "collapsed": false
   },
   "outputs": [
    {
     "name": "stdout",
     "output_type": "stream",
     "text": [
      "~~~~~~~~~~~~~~~~~~~~~~~~~~~~~~~~~~~~~~~~~~~~~~~~~~~~~~~~~~~~~~~~~~~~~\n",
      "Running tests\n",
      "\n",
      "---------------------------------------------------------------------\n",
      "Test summary\n",
      "    Passed: 1\n",
      "    Failed: 0\n",
      "[ooooooooook] 100.0% passed\n",
      "\n"
     ]
    }
   ],
   "source": [
    "_ = hw04.grade('q22')"
   ]
  },
  {
   "cell_type": "markdown",
   "metadata": {},
   "source": [
    "**Question 2.3.** The `bay_districts` table gives the names of all water districts in the San Francisco Bay Area. Use the tables you have created to compare water usage between the 10 Bay Area water districts with the highest average income and the rest. *Do not include any districts in your analysis for which you do not have income information.*"
   ]
  },
  {
   "cell_type": "code",
   "execution_count": 35,
   "metadata": {
    "collapsed": false,
    "scrolled": true
   },
   "outputs": [
    {
     "data": {
      "text/html": [
       "<table border=\"1\" class=\"dataframe\">\n",
       "    <thead>\n",
       "        <tr>\n",
       "            <th>District</th> <th>pwsid</th>\n",
       "        </tr>\n",
       "    </thead>\n",
       "    <tbody>\n",
       "        <tr>\n",
       "            <td>Martinez, City of                                   </td> <td>710006 </td>\n",
       "        </tr>\n",
       "    </tbody>\n",
       "        <tr>\n",
       "            <td>San Francisco Public Utilities Commission           </td> <td>3810011</td>\n",
       "        </tr>\n",
       "    </tbody>\n",
       "        <tr>\n",
       "            <td>California Water Service Company South San Francisco</td> <td>4110009</td>\n",
       "        </tr>\n",
       "    </tbody>\n",
       "        <tr>\n",
       "            <td>San Bruno, City of                                  </td> <td>4110023</td>\n",
       "        </tr>\n",
       "    </tbody>\n",
       "        <tr>\n",
       "            <td>Hayward, City of                                    </td> <td>110006 </td>\n",
       "        </tr>\n",
       "    </tbody>\n",
       "        <tr>\n",
       "            <td>North Coast County Water District                   </td> <td>4110025</td>\n",
       "        </tr>\n",
       "    </tbody>\n",
       "        <tr>\n",
       "            <td>Westborough Water District                          </td> <td>4110027</td>\n",
       "        </tr>\n",
       "    </tbody>\n",
       "        <tr>\n",
       "            <td>East Palo Alto, City of                             </td> <td>4110024</td>\n",
       "        </tr>\n",
       "    </tbody>\n",
       "        <tr>\n",
       "            <td>Daly City, City of                                  </td> <td>4110013</td>\n",
       "        </tr>\n",
       "    </tbody>\n",
       "        <tr>\n",
       "            <td>Redwood City, City of                               </td> <td>4110022</td>\n",
       "        </tr>\n",
       "    </tbody>\n",
       "</table>\n",
       "<p>... (36 rows omitted)</p"
      ],
      "text/plain": [
       "District                                             | pwsid\n",
       "Martinez, City of                                    | 710006\n",
       "San Francisco Public Utilities Commission            | 3810011\n",
       "California Water Service Company South San Francisco | 4110009\n",
       "San Bruno, City of                                   | 4110023\n",
       "Hayward, City of                                     | 110006\n",
       "North Coast County Water District                    | 4110025\n",
       "Westborough Water District                           | 4110027\n",
       "East Palo Alto, City of                              | 4110024\n",
       "Daly City, City of                                   | 4110013\n",
       "Redwood City, City of                                | 4110022\n",
       "... (36 rows omitted)"
      ]
     },
     "execution_count": 35,
     "metadata": {},
     "output_type": "execute_result"
    }
   ],
   "source": [
    "bay_districts = Table.read_table('bay_districts.csv')\n",
    "bay_districts"
   ]
  },
  {
   "cell_type": "code",
   "execution_count": 30,
   "metadata": {
    "collapsed": false,
    "scrolled": true
   },
   "outputs": [
    {
     "data": {
      "text/html": [
       "<table border=\"1\" class=\"dataframe\">\n",
       "    <thead>\n",
       "        <tr>\n",
       "            <th>PWSID</th> <th>District</th> <th>Population</th> <th>Water</th> <th>Income</th>\n",
       "        </tr>\n",
       "    </thead>\n",
       "    <tbody>\n",
       "        <tr>\n",
       "            <td>4110006</td> <td>California Water Service Company Bear Gulch        </td> <td>58,895    </td> <td>170  </td> <td>1,160,494</td>\n",
       "        </tr>\n",
       "    </tbody>\n",
       "        <tr>\n",
       "            <td>4310001</td> <td>California Water Service Company Los Altos/Suburban</td> <td>68,163    </td> <td>125  </td> <td>349,183  </td>\n",
       "        </tr>\n",
       "    </tbody>\n",
       "        <tr>\n",
       "            <td>4310009</td> <td>Palo Alto, City of                                 </td> <td>64,403    </td> <td>89   </td> <td>334,057  </td>\n",
       "        </tr>\n",
       "    </tbody>\n",
       "        <tr>\n",
       "            <td>4110017</td> <td>Menlo Park, City of                                </td> <td>16,066    </td> <td>75   </td> <td>278,733  </td>\n",
       "        </tr>\n",
       "    </tbody>\n",
       "        <tr>\n",
       "            <td>2110002</td> <td>Marin Municipal Water District                     </td> <td>188,200   </td> <td>86   </td> <td>176,643  </td>\n",
       "        </tr>\n",
       "    </tbody>\n",
       "        <tr>\n",
       "            <td>4310007</td> <td>Mountain View, City of                             </td> <td>76,781    </td> <td>66   </td> <td>138,570  </td>\n",
       "        </tr>\n",
       "    </tbody>\n",
       "        <tr>\n",
       "            <td>4110021</td> <td>Estero Municipal Improvement District              </td> <td>37,165    </td> <td>66   </td> <td>137,893  </td>\n",
       "        </tr>\n",
       "    </tbody>\n",
       "        <tr>\n",
       "            <td>4110001</td> <td>Mid-Peninsula Water District                       </td> <td>26,730    </td> <td>84   </td> <td>137,537  </td>\n",
       "        </tr>\n",
       "    </tbody>\n",
       "        <tr>\n",
       "            <td>4110008</td> <td>California Water Service Company Mid Peninsula     </td> <td>135,918   </td> <td>70   </td> <td>135,967  </td>\n",
       "        </tr>\n",
       "    </tbody>\n",
       "        <tr>\n",
       "            <td>3810011</td> <td>San Francisco Public Utilities Commission          </td> <td>846,601   </td> <td>44   </td> <td>118,253  </td>\n",
       "        </tr>\n",
       "    </tbody>\n",
       "</table>\n",
       "<p>... (13 rows omitted)</p"
      ],
      "text/plain": [
       "PWSID   | District                                            | Population | Water | Income\n",
       "4110006 | California Water Service Company Bear Gulch         | 58,895     | 170   | 1,160,494\n",
       "4310001 | California Water Service Company Los Altos/Suburban | 68,163     | 125   | 349,183\n",
       "4310009 | Palo Alto, City of                                  | 64,403     | 89    | 334,057\n",
       "4110017 | Menlo Park, City of                                 | 16,066     | 75    | 278,733\n",
       "2110002 | Marin Municipal Water District                      | 188,200    | 86    | 176,643\n",
       "4310007 | Mountain View, City of                              | 76,781     | 66    | 138,570\n",
       "4110021 | Estero Municipal Improvement District               | 37,165     | 66    | 137,893\n",
       "4110001 | Mid-Peninsula Water District                        | 26,730     | 84    | 137,537\n",
       "4110008 | California Water Service Company Mid Peninsula      | 135,918    | 70    | 135,967\n",
       "3810011 | San Francisco Public Utilities Commission           | 846,601    | 44    | 118,253\n",
       "... (13 rows omitted)"
      ]
     },
     "execution_count": 30,
     "metadata": {},
     "output_type": "execute_result"
    }
   ],
   "source": [
    "#First join the bay area districts table with the district_table on the pwsid \n",
    "bay_water_vs_income = ...\n",
    "bay_water_vs_income.sort('Income', descending=True)"
   ]
  },
  {
   "cell_type": "code",
   "execution_count": 1,
   "metadata": {
    "collapsed": false
   },
   "outputs": [
    {
     "data": {
      "text/plain": [
       "Ellipsis"
      ]
     },
     "execution_count": 1,
     "metadata": {},
     "output_type": "execute_result"
    }
   ],
   "source": [
    "# Create a table with districts with the top 10 highest average income\n",
    "top_10 = ...\n",
    "top_10"
   ]
  },
  {
   "cell_type": "code",
   "execution_count": 3,
   "metadata": {
    "collapsed": false
   },
   "outputs": [
    {
     "data": {
      "text/plain": [
       "Ellipsis"
      ]
     },
     "execution_count": 3,
     "metadata": {},
     "output_type": "execute_result"
    }
   ],
   "source": [
    "# Create a table with districts with the top 10 highest average income\n",
    "not_top_10 = ...\n",
    "not_top_10"
   ]
  },
  {
   "cell_type": "code",
   "execution_count": 8,
   "metadata": {
    "collapsed": false
   },
   "outputs": [
    {
     "ename": "TypeError",
     "evalue": "unsupported operand type(s) for -: 'ellipsis' and 'ellipsis'",
     "output_type": "error",
     "traceback": [
      "\u001b[0;31m---------------------------------------------------------------------------\u001b[0m",
      "\u001b[0;31mTypeError\u001b[0m                                 Traceback (most recent call last)",
      "\u001b[0;32m<ipython-input-8-552bdb23f357>\u001b[0m in \u001b[0;36m<module>\u001b[0;34m()\u001b[0m\n\u001b[1;32m      5\u001b[0m \u001b[0;34m\u001b[0m\u001b[0m\n\u001b[1;32m      6\u001b[0m \u001b[0;31m# calculate how much more water on average a person from a wealthy water district uses.\u001b[0m\u001b[0;34m\u001b[0m\u001b[0;34m\u001b[0m\u001b[0m\n\u001b[0;32m----> 7\u001b[0;31m \u001b[0mdifference\u001b[0m \u001b[0;34m=\u001b[0m \u001b[0mtop_10_mean\u001b[0m \u001b[0;34m-\u001b[0m \u001b[0mnot_top_10_mean\u001b[0m\u001b[0;34m\u001b[0m\u001b[0m\n\u001b[0m\u001b[1;32m      8\u001b[0m \u001b[0;32mif\u001b[0m \u001b[0mdifference\u001b[0m \u001b[0;34m>\u001b[0m \u001b[0;36m0\u001b[0m \u001b[0;34m:\u001b[0m\u001b[0;34m\u001b[0m\u001b[0m\n\u001b[1;32m      9\u001b[0m     \u001b[0mconclusion\u001b[0m \u001b[0;34m=\u001b[0m \u001b[0;34m\"In the Bay Area, people in the top 10 highest-income water districts used an average of \"\u001b[0m              \u001b[0;34m+\u001b[0m \u001b[0mstr\u001b[0m\u001b[0;34m(\u001b[0m\u001b[0mdifference\u001b[0m\u001b[0;34m)\u001b[0m \u001b[0;34m+\u001b[0m              \u001b[0;34m\" more gallons of water per person per day than people in the rest of the districts.\"\u001b[0m\u001b[0;34m\u001b[0m\u001b[0m\n",
      "\u001b[0;31mTypeError\u001b[0m: unsupported operand type(s) for -: 'ellipsis' and 'ellipsis'"
     ]
    }
   ],
   "source": [
    "# Calculate the average water use per person per day for the top 10 wealthiest districts\n",
    "top_10_mean = ...\n",
    "# Calculate the average water user per person per day for the rest of the water districts\n",
    "not_top_10_mean = ...\n",
    "\n",
    "# calculate how much more water on average a person from a wealthy water district uses. \n",
    "difference = top_10_mean - not_top_10_mean\n",
    "if difference > 0 :\n",
    "    conclusion = \"In the Bay Area, people in the top 10 highest-income water districts used an average of \" \\\n",
    "             + str(difference) + \\\n",
    "             \" more gallons of water per person per day than people in the rest of the districts.\"\n",
    "else:\n",
    "    conclusion = \"In the Bay Area, people in the top 10 highest-income water districts used an average of \" \\\n",
    "             + str(-1* difference) + \\\n",
    "             \" fewer gallons of water per person per day than people in the rest of the districts.\"\n",
    "print(conclusion)"
   ]
  },
  {
   "cell_type": "code",
   "execution_count": 40,
   "metadata": {
    "collapsed": false
   },
   "outputs": [
    {
     "name": "stdout",
     "output_type": "stream",
     "text": [
      "~~~~~~~~~~~~~~~~~~~~~~~~~~~~~~~~~~~~~~~~~~~~~~~~~~~~~~~~~~~~~~~~~~~~~\n",
      "Running tests\n",
      "\n",
      "---------------------------------------------------------------------\n",
      "Test summary\n",
      "    Passed: 1\n",
      "    Failed: 0\n",
      "[ooooooooook] 100.0% passed\n",
      "\n"
     ]
    }
   ],
   "source": [
    "_ = hw04.grade('q23')"
   ]
  },
  {
   "cell_type": "markdown",
   "metadata": {},
   "source": [
    "\n",
    "To submit:\n",
    "\n",
    "1. Select `Run All` from the `Cell` menu to ensure that you have executed all cells, including the test cells.\n",
    "3. Read through the notebook to make sure everything is fine.\n",
    "4. Submit using the cell below.\n",
    "\n",
    "If you have problems submitting your project come to office hours for assistance. The office hours\n",
    "schedule is on the class website.\n"
   ]
  },
  {
   "cell_type": "code",
   "execution_count": 78,
   "metadata": {
    "collapsed": false
   },
   "outputs": [
    {
     "data": {
      "application/javascript": [
       "IPython.notebook.save_checkpoint();"
      ],
      "text/plain": [
       "<IPython.core.display.Javascript object>"
      ]
     },
     "metadata": {},
     "output_type": "display_data"
    },
    {
     "data": {
      "application/javascript": [
       "IPython.notebook.save_notebook();"
      ],
      "text/plain": [
       "<IPython.core.display.Javascript object>"
      ]
     },
     "metadata": {},
     "output_type": "display_data"
    },
    {
     "name": "stdout",
     "output_type": "stream",
     "text": [
      "Saving notebook... Saved 'project1.ipynb'.\n",
      "Submit... 0.0% complete\n",
      "Could not submit: Late Submission of ucsd/dsc10/fa17/project1\n",
      "Backup... 100% complete\n",
      "\n"
     ]
    }
   ],
   "source": [
    "_ = hw04.submit()"
   ]
  },
  {
   "cell_type": "code",
   "execution_count": 79,
   "metadata": {
    "collapsed": false
   },
   "outputs": [
    {
     "name": "stdout",
     "output_type": "stream",
     "text": [
      "~~~~~~~~~~~~~~~~~~~~~~~~~~~~~~~~~~~~~~~~~~~~~~~~~~~~~~~~~~~~~~~~~~~~~\n",
      "Running tests\n",
      "\n",
      "---------------------------------------------------------------------\n",
      "Test summary\n",
      "    Passed: 2\n",
      "    Failed: 0\n",
      "[ooooooooook] 100.0% passed\n",
      "\n",
      "~~~~~~~~~~~~~~~~~~~~~~~~~~~~~~~~~~~~~~~~~~~~~~~~~~~~~~~~~~~~~~~~~~~~~\n",
      "Running tests\n",
      "\n",
      "---------------------------------------------------------------------\n",
      "Test summary\n",
      "    Passed: 2\n",
      "    Failed: 0\n",
      "[ooooooooook] 100.0% passed\n",
      "\n",
      "~~~~~~~~~~~~~~~~~~~~~~~~~~~~~~~~~~~~~~~~~~~~~~~~~~~~~~~~~~~~~~~~~~~~~\n",
      "Running tests\n",
      "\n",
      "---------------------------------------------------------------------\n",
      "Test summary\n",
      "    Passed: 1\n",
      "    Failed: 0\n",
      "[ooooooooook] 100.0% passed\n",
      "\n",
      "~~~~~~~~~~~~~~~~~~~~~~~~~~~~~~~~~~~~~~~~~~~~~~~~~~~~~~~~~~~~~~~~~~~~~\n",
      "Running tests\n",
      "\n",
      "---------------------------------------------------------------------\n",
      "Test summary\n",
      "    Passed: 2\n",
      "    Failed: 0\n",
      "[ooooooooook] 100.0% passed\n",
      "\n",
      "~~~~~~~~~~~~~~~~~~~~~~~~~~~~~~~~~~~~~~~~~~~~~~~~~~~~~~~~~~~~~~~~~~~~~\n",
      "Running tests\n",
      "\n",
      "---------------------------------------------------------------------\n",
      "Test summary\n",
      "    Passed: 2\n",
      "    Failed: 0\n",
      "[ooooooooook] 100.0% passed\n",
      "\n",
      "~~~~~~~~~~~~~~~~~~~~~~~~~~~~~~~~~~~~~~~~~~~~~~~~~~~~~~~~~~~~~~~~~~~~~\n",
      "Running tests\n",
      "\n",
      "---------------------------------------------------------------------\n",
      "Test summary\n",
      "    Passed: 2\n",
      "    Failed: 0\n",
      "[ooooooooook] 100.0% passed\n",
      "\n",
      "~~~~~~~~~~~~~~~~~~~~~~~~~~~~~~~~~~~~~~~~~~~~~~~~~~~~~~~~~~~~~~~~~~~~~\n",
      "Running tests\n",
      "\n",
      "---------------------------------------------------------------------\n",
      "Test summary\n",
      "    Passed: 2\n",
      "    Failed: 0\n",
      "[ooooooooook] 100.0% passed\n",
      "\n",
      "~~~~~~~~~~~~~~~~~~~~~~~~~~~~~~~~~~~~~~~~~~~~~~~~~~~~~~~~~~~~~~~~~~~~~\n",
      "Running tests\n",
      "\n",
      "---------------------------------------------------------------------\n",
      "Test summary\n",
      "    Passed: 1\n",
      "    Failed: 0\n",
      "[ooooooooook] 100.0% passed\n",
      "\n"
     ]
    }
   ],
   "source": [
    "# For your convenience, you can run this cell to run all the tests at once!\n",
    "import os\n",
    "_ = [hw04.grade(q[:-3]) for q in os.listdir(\"tests\") if q.startswith('q')]"
   ]
  }
 ],
 "metadata": {
  "kernelspec": {
   "display_name": "dsc10",
   "language": "python",
   "name": "dsc10"
  },
  "language_info": {
   "codemirror_mode": {
    "name": "ipython",
    "version": 3
   },
   "file_extension": ".py",
   "mimetype": "text/x-python",
   "name": "python",
   "nbconvert_exporter": "python",
   "pygments_lexer": "ipython3",
   "version": "3.6.4"
  }
 },
 "nbformat": 4,
 "nbformat_minor": 1
}
