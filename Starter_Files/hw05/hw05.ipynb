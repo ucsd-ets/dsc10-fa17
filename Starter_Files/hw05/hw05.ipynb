{
 "cells": [
  {
   "cell_type": "markdown",
   "metadata": {},
   "source": [
    "# Homework 5: Histograms, Functions, Group, Iteration, and Conditionals\n",
    "\n",
    "Directly sharing answers is not okay, but discussing problems with the course staff or with other students is encouraged. \n",
    "\n",
    "You should start early so that you have time to get help if you're stuck. A calendar with lab hour times and locations is on the class website."
   ]
  },
  {
   "cell_type": "code",
   "execution_count": null,
   "metadata": {
    "collapsed": false
   },
   "outputs": [],
   "source": [
    "# Don't change this cell; just run it. \n",
    "\n",
    "import numpy as np\n",
    "from datascience import *\n",
    "\n",
    "%matplotlib inline\n",
    "import matplotlib.pyplot as plots\n",
    "plots.style.use('fivethirtyeight')\n",
    "\n",
    "from client.api.notebook import Notebook\n",
    "ok = Notebook('hw05.ok')\n",
    "_ = ok.auth(inline=True)"
   ]
  },
  {
   "cell_type": "markdown",
   "metadata": {},
   "source": [
    "**Important**: The `ok` tests don't usually tell you that your answer is correct. More often, they help catch careless mistakes. It's up to you to ensure that your answer is correct. If you're not sure, ask someone (not for the answer, but for some guidance about your approach)."
   ]
  },
  {
   "cell_type": "markdown",
   "metadata": {},
   "source": [
    "Once you're finished, select \"Save and Checkpoint\" in the File menu and then execute the `submit` cell below. The result will contain a link that you can use to check that your assignment has been submitted successfully. If you submit more than once before the deadline, we will only grade your final submission."
   ]
  },
  {
   "cell_type": "code",
   "execution_count": null,
   "metadata": {
    "collapsed": true
   },
   "outputs": [],
   "source": [
    "_ = ok.submit()"
   ]
  },
  {
   "cell_type": "markdown",
   "metadata": {},
   "source": [
    "# Analysing UFO Sightings\n",
    "Let's do some data analysis on ufo sightings. "
   ]
  },
  {
   "cell_type": "markdown",
   "metadata": {},
   "source": [
    "### Question 1\n",
    "Unfortunatly our data is split across many differnt tables. All the tables have the same form (meaning the same columns in the same order). Write a function that takes in a list of file names and combines the information from all the tables and returns a single table with all the information. Check out the append function on the data8.org/datascience/tables website. "
   ]
  },
  {
   "cell_type": "code",
   "execution_count": null,
   "metadata": {
    "collapsed": false,
    "scrolled": false
   },
   "outputs": [],
   "source": [
    "def combine_tables(tables):\n",
    "    ...\n",
    "\n",
    "table_files = make_array(\"ufo_part0.csv\", \"ufo_part1.csv\", \"ufo_part2.csv\", \"ufo_part3.csv\", \"ufo_part4.csv\", \"ufo_part5.csv\", \"ufo_part6.csv\", \"ufo_part7.csv\", \"ufo_part8.csv\", \"ufo_part9.csv\")\n",
    "ufo_data = combine_tables(table_files)\n",
    "ufo_data"
   ]
  },
  {
   "cell_type": "code",
   "execution_count": null,
   "metadata": {
    "collapsed": false
   },
   "outputs": [],
   "source": [
    "_ = ok.grade('q1')"
   ]
  },
  {
   "cell_type": "markdown",
   "metadata": {},
   "source": [
    "If you made a mistake on problem 1, we don't want it affecting your score on the rest of the questions so read in the data from ufo.csv. If you did question 1 correctly ufo_data shouldn't change. "
   ]
  },
  {
   "cell_type": "code",
   "execution_count": null,
   "metadata": {
    "collapsed": false,
    "scrolled": true
   },
   "outputs": [],
   "source": [
    "ufo_data = Table.read_table('ufo.csv')\n",
    "ufo_data"
   ]
  },
  {
   "cell_type": "markdown",
   "metadata": {},
   "source": [
    "### Question 2\n",
    "We want to know how many ufo sightings occured in each country. Use the \"group\" method to make a new table. The new table should show for each country how many ufo sightings occured in that country."
   ]
  },
  {
   "cell_type": "code",
   "execution_count": null,
   "metadata": {
    "collapsed": false,
    "scrolled": false
   },
   "outputs": [],
   "source": [
    "country_count = ...\n",
    "country_count"
   ]
  },
  {
   "cell_type": "code",
   "execution_count": null,
   "metadata": {
    "collapsed": false
   },
   "outputs": [],
   "source": [
    "_ = ok.grade('q2')"
   ]
  },
  {
   "cell_type": "markdown",
   "metadata": {},
   "source": [
    "## Quesion 3\n",
    "Nan means the data is missing for that row, so nan isn't actually a country. Taking that into account how many reported countries are there in our dataset?"
   ]
  },
  {
   "cell_type": "code",
   "execution_count": null,
   "metadata": {
    "collapsed": false
   },
   "outputs": [],
   "source": [
    "number_of_countries = ...\n",
    "number_of_countries"
   ]
  },
  {
   "cell_type": "code",
   "execution_count": null,
   "metadata": {
    "collapsed": false
   },
   "outputs": [],
   "source": [
    "_ = ok.grade('q3')"
   ]
  },
  {
   "cell_type": "markdown",
   "metadata": {},
   "source": [
    "## Question 4\n",
    "Use group again to make a table with counts for each state in the dataset. Which state has the most sightings? (If the answer was Washington then you would put state_with_most_sightings = \"wa\"). "
   ]
  },
  {
   "cell_type": "code",
   "execution_count": null,
   "metadata": {
    "collapsed": false,
    "scrolled": true
   },
   "outputs": [],
   "source": [
    "state_count = ...\n",
    "state_count"
   ]
  },
  {
   "cell_type": "code",
   "execution_count": null,
   "metadata": {
    "collapsed": true
   },
   "outputs": [],
   "source": [
    "state_with_most_sightings = ...\n",
    "state_with_most_sightings"
   ]
  },
  {
   "cell_type": "code",
   "execution_count": null,
   "metadata": {
    "collapsed": false
   },
   "outputs": [],
   "source": [
    "_ = ok.grade('q4')"
   ]
  },
  {
   "cell_type": "markdown",
   "metadata": {},
   "source": [
    "## Question 5 \n",
    "Now we want to know what city has the most sightings, but we are worried that some states might cities with the same name. For example in US 34 states have a city name \"sprinfield\". To avoid clumping these cities together we want to group on both city and state (use the [groups function](http://data8.org/datascience/_autosummary/datascience.tables.Table.groups.html#datascience.tables.Table.groups) for this.) Which city has the most sightings?"
   ]
  },
  {
   "cell_type": "code",
   "execution_count": null,
   "metadata": {
    "collapsed": false
   },
   "outputs": [],
   "source": [
    "city_state_count = ...\n",
    "city_state_count"
   ]
  },
  {
   "cell_type": "code",
   "execution_count": null,
   "metadata": {
    "collapsed": false
   },
   "outputs": [],
   "source": [
    "city_with_most_sightings = ...\n",
    "city_with_most_sightings"
   ]
  },
  {
   "cell_type": "code",
   "execution_count": null,
   "metadata": {
    "collapsed": false
   },
   "outputs": [],
   "source": [
    "_ = ok.grade('q5')"
   ]
  },
  {
   "cell_type": "markdown",
   "metadata": {},
   "source": [
    "## Question 6\n",
    "The comments are interesting but as a data analyst we don't have time to read all the comments; hovever we still want to get some information out of them. We want to add column called \"comment_length\" where each commenent is classified as \"short\", \"medium\", or \"long\". A short comment has 44 characters or less. A medium comment has more than 44 characters but less than or equal to 128. And a long comment has more than 128. <br>\n",
    "First lets make a function that takes a comment as input and returns either \"short\", \"medium\", or \"long\". Do not use the print function. You can find the length of a comment using the \"len(..)\" function."
   ]
  },
  {
   "cell_type": "code",
   "execution_count": null,
   "metadata": {
    "collapsed": false
   },
   "outputs": [],
   "source": [
    "def comment_length_fn(comment):\n",
    "    ...\n",
    "\n",
    "test_comment = \"I am a short comment\"\n",
    "print(comment_length_fn(test_comment))"
   ]
  },
  {
   "cell_type": "code",
   "execution_count": null,
   "metadata": {
    "collapsed": false
   },
   "outputs": [],
   "source": [
    "_ = ok.grade('q6')"
   ]
  },
  {
   "cell_type": "markdown",
   "metadata": {},
   "source": [
    "### Question 7\n",
    "Use this function along with the apply method to add a new column called \"comment_length\" to the ufo_data table. Store this new table in a variable \"ufo_with_com_len\". Then use group to make a table with the counts for each comment length."
   ]
  },
  {
   "cell_type": "code",
   "execution_count": null,
   "metadata": {
    "collapsed": false,
    "scrolled": true
   },
   "outputs": [],
   "source": [
    "ufo_with_com_len = ...\n",
    "ufo_with_com_len"
   ]
  },
  {
   "cell_type": "code",
   "execution_count": null,
   "metadata": {
    "collapsed": false,
    "scrolled": true
   },
   "outputs": [],
   "source": [
    "comment_length_counts = ...\n",
    "comment_length_counts"
   ]
  },
  {
   "cell_type": "code",
   "execution_count": null,
   "metadata": {
    "collapsed": false
   },
   "outputs": [],
   "source": [
    "_ = ok.grade('q7')"
   ]
  },
  {
   "cell_type": "markdown",
   "metadata": {},
   "source": [
    "### Question 8\n",
    "Okay now we want the most recently published sighting, but there is a problem. Try sorting the **ufo_data** table by date posted in descending order. In which year did the sighting in row 0 occur? In which year did the sighting in row 525 occur?"
   ]
  },
  {
   "cell_type": "code",
   "execution_count": null,
   "metadata": {
    "collapsed": false,
    "scrolled": true
   },
   "outputs": [],
   "source": [
    "# Sort the ufo_data table in descending order by datetime\n",
    "..."
   ]
  },
  {
   "cell_type": "code",
   "execution_count": null,
   "metadata": {
    "collapsed": false
   },
   "outputs": [],
   "source": [
    "#In which year did the sighting in row 0 and row 525 occur?\n",
    "row0_year = ...\n",
    "row525_year = ..."
   ]
  },
  {
   "cell_type": "code",
   "execution_count": null,
   "metadata": {
    "collapsed": false
   },
   "outputs": [],
   "source": [
    "_ = ok.grade('q8')"
   ]
  },
  {
   "cell_type": "markdown",
   "metadata": {},
   "source": [
    "### Question 9\n",
    "Why didn't sort bring the most recent sigtings to the top of the table?"
   ]
  },
  {
   "cell_type": "markdown",
   "metadata": {},
   "source": [
    "<hr style=\"color:Maroon;background-color:Maroon;border:0 none; height: 3px;\">\n",
    "\n",
    "Replace this text with your answer\n",
    "\n",
    "<hr style=\"color:Maroon;background-color:Maroon;border:0 none; height: 3px;\">"
   ]
  },
  {
   "cell_type": "markdown",
   "metadata": {},
   "source": [
    "### Question 10 \n",
    "Normally we would use a library function to convert a string into a date object. But since we haven't learned about objects yet and we have learned about functions, let's write our own function! It's going to be a little strange so keep an open mind. <br><br>\n",
    "\n",
    "First we have to come up with a good representation for our date. We probably want it to be numeric. If we represent a number as a string \"10\" comes before \"7\" which we don't want. We also want the year to be the most important. The month to be the next most important and the day to be the least important. So how are we going to combine our three numbers together to satisfy that order of precedence. Let's try (year * 10000) + (month * 100) + (day). So \"9/8/2012\" would become 20120908.<br><br>\n",
    "\n",
    "We know how we want to represent our dates, but now we have to extract the year, month, and day from our input string. We are going to want to use the split function and the int(...) function.\n",
    "<br><br>\n",
    "Just how \"join\" can be used to concatinate multiple strings \"split\" can be used to split apart a string into a list of substrings. Run the following cell for an example.\n",
    "<br><br>\n",
    "You can use the int(...) function to cast from a string to an int. int(\"5\") == 5\n",
    "<br><br>\n",
    "Okay now try implementing the convert function. Again if this seems weird that's because it is. There are much cleaner ways of doing this, but you'll just have to keep taking data science classes to find out. "
   ]
  },
  {
   "cell_type": "code",
   "execution_count": null,
   "metadata": {
    "collapsed": false,
    "scrolled": true
   },
   "outputs": [],
   "source": [
    "#split a string on every comma\n",
    "my_list = \"one,two,three\".split(\",\")\n",
    "my_list"
   ]
  },
  {
   "cell_type": "markdown",
   "metadata": {},
   "source": [
    "Implement the function convert"
   ]
  },
  {
   "cell_type": "code",
   "execution_count": null,
   "metadata": {
    "collapsed": false,
    "scrolled": true
   },
   "outputs": [],
   "source": [
    "def convert(date_posted):\n",
    "    ...\n",
    "\n",
    "# simple test\n",
    "test_input = \"9/8/2012\"\n",
    "expected_output = 20120908\n",
    "print(convert(test_input))\n",
    "print(expected_output)\n",
    "print(\"Passed simple test: \" + str(convert(test_input) == expected_output))"
   ]
  },
  {
   "cell_type": "code",
   "execution_count": null,
   "metadata": {
    "collapsed": false
   },
   "outputs": [],
   "source": [
    "_ = ok.grade('q10')"
   ]
  },
  {
   "cell_type": "markdown",
   "metadata": {},
   "source": [
    "### Question 11\n",
    "Use this function to add a column called \"sortable_date\" to the ufo_data table store this new table in a variable called sortable_table. Then sort the table in descending order based on sortable_date. In which city did the most recently published UFO sighting occur?"
   ]
  },
  {
   "cell_type": "code",
   "execution_count": null,
   "metadata": {
    "collapsed": false,
    "scrolled": true
   },
   "outputs": [],
   "source": [
    "...\n",
    "sortable_table = ...\n",
    "sortable_table"
   ]
  },
  {
   "cell_type": "code",
   "execution_count": null,
   "metadata": {
    "collapsed": false
   },
   "outputs": [],
   "source": [
    "city_of_most_recent_sighting = ...\n",
    "city_of_most_recent_sighting"
   ]
  },
  {
   "cell_type": "code",
   "execution_count": null,
   "metadata": {
    "collapsed": false
   },
   "outputs": [],
   "source": [
    "_ = ok.grade('q11')"
   ]
  },
  {
   "cell_type": "markdown",
   "metadata": {},
   "source": [
    "### Question 12\n",
    "The following question is still about aliens, but does **not** use the same data that we have been using for the previous questions. It is designed to test your knowledge about histograms.<br><br>\n",
    "\n",
    "For each UFO spoting we collected the weather data for the night of the spoting. The following histogram shows the temperatures in degrees Fahrenheight for a collection of sightings. Each bin has a width of 5 degrees.  ![graph](graph.png)<br><br>\n",
    "\n",
    "\n",
    "\n",
    "If there were 300 UFO sightings in the dataset, how many sightings occured on nights were it was less than 60 degrees?\n"
   ]
  },
  {
   "cell_type": "code",
   "execution_count": null,
   "metadata": {
    "collapsed": false
   },
   "outputs": [],
   "source": [
    "less_than_sixty_degrees = ...\n",
    "less_than_sixty_degrees "
   ]
  },
  {
   "cell_type": "code",
   "execution_count": null,
   "metadata": {
    "collapsed": false
   },
   "outputs": [],
   "source": [
    "_ = ok.grade('q12')"
   ]
  },
  {
   "cell_type": "markdown",
   "metadata": {},
   "source": [
    "### Question 13\n",
    "If we combined the bins [55-60),[60-65), and [65-70) into a single bin, what would be the height of the new bin [55-70)?\n",
    "<br><br>\n",
    "If we combined the bins [85-90) and [90-95) into a single, what would be the height of the new bin [85-95)?"
   ]
  },
  {
   "cell_type": "code",
   "execution_count": null,
   "metadata": {
    "collapsed": true
   },
   "outputs": [],
   "source": [
    "bin_55_70 = ...\n",
    "bin_85_95 = ..."
   ]
  },
  {
   "cell_type": "code",
   "execution_count": null,
   "metadata": {
    "collapsed": false
   },
   "outputs": [],
   "source": [
    "_ = ok.grade('q13')"
   ]
  },
  {
   "cell_type": "code",
   "execution_count": null,
   "metadata": {
    "collapsed": false,
    "deletable": false,
    "for_assignment_type": "student",
    "manual_grade": true,
    "manual_problem_id": "sampling_players_3",
    "scrolled": false
   },
   "outputs": [],
   "source": [
    "_ = ok.submit()"
   ]
  },
  {
   "cell_type": "code",
   "execution_count": null,
   "metadata": {
    "collapsed": false,
    "deletable": false,
    "for_assignment_type": "student",
    "manual_grade": true,
    "manual_problem_id": "sampling_players_4"
   },
   "outputs": [],
   "source": []
  },
  {
   "cell_type": "markdown",
   "metadata": {
    "deletable": false,
    "manual_grade": true,
    "manual_problem_id": "sampling_players_5"
   },
   "source": []
  },
  {
   "cell_type": "markdown",
   "metadata": {
    "deletable": false,
    "manual_grade": true,
    "manual_problem_id": "predicting_temperatures_1"
   },
   "source": []
  },
  {
   "cell_type": "markdown",
   "metadata": {},
   "source": []
  },
  {
   "cell_type": "markdown",
   "metadata": {
    "deletable": false,
    "manual_grade": true,
    "manual_problem_id": "predicting_temperatures_5"
   },
   "source": []
  },
  {
   "cell_type": "markdown",
   "metadata": {
    "deletable": false,
    "manual_grade": true,
    "manual_problem_id": "predicting_temperatures_6"
   },
   "source": []
  }
 ],
 "metadata": {
  "kernelspec": {
   "display_name": "Python 3",
   "language": "python",
   "name": "python3"
  },
  "language_info": {
   "codemirror_mode": {
    "name": "ipython",
    "version": 3
   },
   "file_extension": ".py",
   "mimetype": "text/x-python",
   "name": "python",
   "nbconvert_exporter": "python",
   "pygments_lexer": "ipython3",
   "version": "3.6.0"
  }
 },
 "nbformat": 4,
 "nbformat_minor": 1
}
