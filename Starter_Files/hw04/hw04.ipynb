{
 "cells": [
  {
   "cell_type": "markdown",
   "metadata": {},
   "source": [
    "Homework 4 - Functions, Group, Join, Iteration, and Conditionals\n",
    "=================\n",
    "Directly sharing answers is not okay, but discussing problems with the course staff or with other students is encouraged. \n",
    "\n",
    "You should start early so that you have time to get help if you're stuck. A calendar with lab hour times and locations is on the class website.\n",
    "<br><br>\n",
    "We will be exploring possible connections between water usage and income in California. The water data for this project was procured from the [California State Water Resources Control Board](http://www2.pacinst.org/gpcd/table.html) and curated by the [Pacific Institute](http://pacinst.org/).\n",
    "\n",
    "The dataset on income comes from the IRS ([documentation](http://www.irs.gov/pub/irs-soi/13zpdoc.doc)).  We have identified some interesting columns in the dataset, but a full description of all the columns (and a definition of the population in the dataset and some interesting anonymization procedures they used) is available in this [description](irs_info.pdf).\n",
    "\n",
    "As usual, **run the cell below** to prepare the automatic tests. **Passing the automatic tests does not guarantee full credit on any question.** The tests are provided to help catch some common errors, but it is *your* responsibility to answer the questions correctly."
   ]
  },
  {
   "cell_type": "code",
   "execution_count": null,
   "metadata": {
    "collapsed": false
   },
   "outputs": [],
   "source": [
    "# Run this cell, but please don't change it.\n",
    "\n",
    "import numpy as np\n",
    "import math\n",
    "from datascience import *\n",
    "\n",
    "# These lines set up the plotting functionality and formatting.\n",
    "import matplotlib\n",
    "matplotlib.use('Agg', warn=False)\n",
    "%matplotlib inline\n",
    "import matplotlib.pyplot as plots\n",
    "plots.style.use('fivethirtyeight')\n",
    "\n",
    "# These lines load the tests.\n",
    "from client.api.assignment import load_assignment \n",
    "from client.api.notebook import Notebook\n",
    "hw04 = Notebook('hw04.ok')\n",
    "_ = hw04.auth(inline=True)"
   ]
  },
  {
   "cell_type": "markdown",
   "metadata": {},
   "source": [
    "Part 1: California Income\n",
    "======="
   ]
  },
  {
   "cell_type": "markdown",
   "metadata": {},
   "source": [
    "Let's look at the `income_raw` table."
   ]
  },
  {
   "cell_type": "code",
   "execution_count": null,
   "metadata": {
    "collapsed": false
   },
   "outputs": [],
   "source": [
    "income_raw = Table.read_table('ca_income_by_zip.csv', dtype={'ZIP': str}).drop(['STATEFIPS', 'STATE', 'agi_stub'])\n",
    "income_raw"
   ]
  },
  {
   "cell_type": "markdown",
   "metadata": {},
   "source": [
    "Some observations:\n",
    "\n",
    "1. The table contains several numerical columns and a column for the ZIP code.\n",
    "2. For each ZIP code, there are 6 rows.  Each row for a ZIP code has data from tax returns in one *income bracket* -- a group of people who make between some income and some other income.  \n",
    "3. According to the IRS documentation, all the numerical columns are *totals* -- either total numbers of returns that fall into various categories, or total amounts of money (in thousands of dollars) from returns in those categories.  For example, the column `'N02650'` is the number of returns that included a total income amount, and `'A02650'` is the total amount of total income (in thousands of dollars) from those returns.\n",
    "\n",
    "**Question 1.0.** Since we don't care about income brackets, but we do care about totals per ZIP code, let's group together our income data by ZIP code. Assign the name `income_by_zipcode` to a table with just one row per ZIP code. When you group according to ZIP code, the remaining columns should be summed. In other words, for any other column such as `'N02650'`, the value of `'N02650'` in a row corresponding to ZIP code 90210 (for example) should be the sum of the values of `'N02650'` in the 6 rows of `income_raw` corresponding to ZIP code 90210."
   ]
  },
  {
   "cell_type": "code",
   "execution_count": null,
   "metadata": {
    "collapsed": false
   },
   "outputs": [],
   "source": [
    "income_by_zipcode = ...\n",
    "income_by_zipcode"
   ]
  },
  {
   "cell_type": "code",
   "execution_count": null,
   "metadata": {
    "collapsed": false
   },
   "outputs": [],
   "source": [
    "_ = hw04.grade('q10')"
   ]
  },
  {
   "cell_type": "markdown",
   "metadata": {},
   "source": [
    "**Question 1.1.** Relabel the columns in `income_by_zipcode` to match the labels in `income_raw`; you probably modified all the names slightly in the previous question. \n",
    "\n",
    "*Hint:* Inspect `income_raw.labels` and `income_by_zipcode.labels` to find the differences you need to change.\n",
    "\n",
    "*Hint 2:* Since there are many columns, it will be easier to relabel each of them by using a `for` statement. See [here](https://www.inferentialthinking.com/chapters/08/2/iteration.html)  in the textbook for details.\n",
    "\n",
    "*Hint 3:* You can use the `replace` method of a string to remove excess content. See [lab02](https://jupyterhub.ucsd.edu/user-redirect/interact?account=ucsd-ets&repo=dsc10-fa17&branch=master&path=labs/lab02/lab02.ipynb) for examples.\n",
    "\n",
    "*Hint 4:* To create a new table from an existing table with one label replaced, use `relabeled`. To **change** a label in an existing table permanently, use `relabel`. Both methods take two arguments: the old label and the new label. You can solve this problem with either one, but `relabel` is simpler."
   ]
  },
  {
   "cell_type": "code",
   "execution_count": null,
   "metadata": {
    "collapsed": false
   },
   "outputs": [],
   "source": [
    "...\n",
    "    ...\n",
    "income_by_zipcode"
   ]
  },
  {
   "cell_type": "code",
   "execution_count": null,
   "metadata": {
    "collapsed": false
   },
   "outputs": [],
   "source": [
    "_ = hw04.grade('q11')"
   ]
  },
  {
   "cell_type": "markdown",
   "metadata": {},
   "source": [
    "**Question 1.2.**\n",
    "Create a table called `income` with  one row per ZIP code and the following columns.\n",
    "\n",
    "1. A `ZIP` column with the same contents as `'ZIP'` from `income_by_zipcode`.\n",
    "2. A `returns` column containing the total number of tax returns that include a total income amount (column `'N02650'` from `income_by_zipcode`).\n",
    "3. A `total` column containing the total income in all tax returns in thousands of dollars (column `'A02650'` from `income_by_zipcode`).\n",
    "4. A `farmers` column containing the number of farmer returns (column `'SCHF'` from `income_by_zipcode`)."
   ]
  },
  {
   "cell_type": "code",
   "execution_count": null,
   "metadata": {
    "collapsed": false
   },
   "outputs": [],
   "source": [
    "income = Table().with_columns([\n",
    "        ...\n",
    "        ...\n",
    "        ...\n",
    "        ...\n",
    "        ])\n",
    "income.set_format('total', NumberFormatter(0))"
   ]
  },
  {
   "cell_type": "code",
   "execution_count": null,
   "metadata": {
    "collapsed": false,
    "scrolled": false
   },
   "outputs": [],
   "source": [
    "_ = hw04.grade('q12')"
   ]
  },
  {
   "cell_type": "markdown",
   "metadata": {},
   "source": [
    "This table can be a little confusing so lets break down what each column represents. The first column 'ZIP' is the zip code. Zip codes are important to us because they represent an greographic area. So the zip code '921222' represents an area of land in San Diego. \"Returns\" is the number of tax returns received by the IRS from that zip code. A tax return approximatly represents one persons income. It's approximate because a family usually only submits one tax return. Each tax return will have a reported income. The 'total' column is the sum of all the incomes reported for a given zip code (**Note that it is in terms of thousands of dollars**). The 'farmers' category represents the number of tax returns where the person submitting there tax return reported that their primary occupation is farming.  "
   ]
  },
  {
   "cell_type": "markdown",
   "metadata": {},
   "source": [
    "**Question 1.3.** What is the average total income reported on all California tax returns that include a total income amount? **Express the answer in *dollars* as an `int` rounded to the nearest dollar.**"
   ]
  },
  {
   "cell_type": "code",
   "execution_count": null,
   "metadata": {
    "collapsed": false
   },
   "outputs": [],
   "source": [
    "#all the income out of all the returns\n",
    "#remember 'total' is measured in thousands of dollars\n",
    "\n",
    "\n",
    "avg_total_income = ...\n",
    "avg_total_income"
   ]
  },
  {
   "cell_type": "code",
   "execution_count": null,
   "metadata": {
    "collapsed": false
   },
   "outputs": [],
   "source": [
    "_ = hw04.grade('q13')"
   ]
  },
  {
   "cell_type": "markdown",
   "metadata": {},
   "source": [
    "**Question 1.4.** All ZIP codes with less than 100 returns (or some other special conditions) are grouped together into one ZIP code with a special code. Remove the row for that ZIP code from the `income` table. This ZIP code value has far more returns than any of the other ZIP codes.\n",
    "\n",
    "*Hint:* To **remove** a row in the `income` table using `where`, assign `income` to the smaller table using the following expression structure:\n",
    "\n",
    "    income = income.where(...)\n",
    "    \n",
    "*Hint 2:* Each ZIP code is represented as a string, not an `int`."
   ]
  },
  {
   "cell_type": "code",
   "execution_count": null,
   "metadata": {
    "collapsed": false
   },
   "outputs": [],
   "source": [
    "\n",
    "income = ...\n",
    "income"
   ]
  },
  {
   "cell_type": "code",
   "execution_count": null,
   "metadata": {
    "collapsed": false
   },
   "outputs": [],
   "source": [
    "_ = hw04.grade('q14')"
   ]
  },
  {
   "cell_type": "markdown",
   "metadata": {},
   "source": [
    "**Question 1.5**. Among the tax returns in California for ZIP codes represented in the `incomes` table, is there an association between income and living in a ZIP code with a higher-than-average proportion of farmers?\n",
    "\n",
    "Let's explore this by calculating some statistics and making some tables."
   ]
  },
  {
   "cell_type": "code",
   "execution_count": null,
   "metadata": {
    "collapsed": false,
    "scrolled": true
   },
   "outputs": [],
   "source": [
    "# Calculate the proportion of returns that were submitted by farmers for each zip code\n",
    "farm_proportion = ...\n",
    "\n",
    "# Create a table called income_with_farm_proportion that adds farm_proportion as a column to the income table\n",
    "income_with_farm_proportion = income.with_column('Farm Proportion', farm_proportion)\n",
    "income_with_farm_proportion"
   ]
  },
  {
   "cell_type": "code",
   "execution_count": null,
   "metadata": {
    "collapsed": false
   },
   "outputs": [],
   "source": [
    "# Calculate the average proportion of farmer tax returns across all the zip codes\n",
    "avg_prop_farmers = ...\n",
    "avg_prop_farmers"
   ]
  },
  {
   "cell_type": "code",
   "execution_count": null,
   "metadata": {
    "collapsed": false
   },
   "outputs": [],
   "source": [
    "#Create a table \"high_farmers\" that only contains zip codes with an above average proportion of farmers\n",
    "high_farmers = ...\n",
    "high_farmers"
   ]
  },
  {
   "cell_type": "code",
   "execution_count": null,
   "metadata": {
    "collapsed": false
   },
   "outputs": [],
   "source": [
    "#Create a table \"low farmers\" that only contains zip codes with proportion of farmers that is at or below average\n",
    "low_farmers = ...\n",
    "low_farmers"
   ]
  },
  {
   "cell_type": "code",
   "execution_count": null,
   "metadata": {
    "collapsed": false
   },
   "outputs": [],
   "source": [
    "# Calculate the average total income of zips codes from the high_farmers table\n",
    "# Calcute it in terms of dollars (REMEMBER 'total' is measured in thousands of dollars)\n",
    "# Use the round function to round your final asnwer\n",
    "\n",
    "high_farmers_avg_total_income = ...\n",
    "high_farmers_avg_total_income"
   ]
  },
  {
   "cell_type": "code",
   "execution_count": null,
   "metadata": {
    "collapsed": false
   },
   "outputs": [],
   "source": [
    "# Calculate the average total income of zips codes from the low_farmers table\n",
    "# Calcute it in terms of dollars (REMEMBER 'total' is measured in thousands of dollars)\n",
    "# Use the round function to round your final asnwer\n",
    "\n",
    "\n",
    "low_farmers_avg_total_income = ...\n",
    "low_farmers_avg_total_income"
   ]
  },
  {
   "cell_type": "markdown",
   "metadata": {},
   "source": [
    "Do zip codes with an above average number of farmers have a higher average income than zip codes with a below average number of farmers?\n",
    "\n",
    "1. yes\n",
    "2. no"
   ]
  },
  {
   "cell_type": "code",
   "execution_count": null,
   "metadata": {
    "collapsed": true
   },
   "outputs": [],
   "source": [
    "q15_answer = ..."
   ]
  },
  {
   "cell_type": "code",
   "execution_count": null,
   "metadata": {
    "collapsed": false
   },
   "outputs": [],
   "source": [
    "_ = hw04.grade('q15')"
   ]
  },
  {
   "cell_type": "markdown",
   "metadata": {},
   "source": [
    "Part 2: Water Usage\n",
    "======\n",
    "We will now investigate water usage in California. The `usage` table contains three columns:\n",
    "\n",
    "- `PWSID`: The Public Water Supply Identifier of the district\n",
    "- `Population`: Estimate of average population served in 2015\n",
    "- `Water`: Average residential water use (gallons per person per day) in 2014-2015"
   ]
  },
  {
   "cell_type": "code",
   "execution_count": null,
   "metadata": {
    "collapsed": false
   },
   "outputs": [],
   "source": [
    "# Run this cell to create the usage table\n",
    "usage_raw = Table.read_table('water_usage.csv', dtype={'pwsid': str})\n",
    "\n",
    "usage_raw.set_format(4, NumberFormatter)\n",
    "max_pop = usage_raw.select([0, 'population']).group(0, max).relabeled(1, 'Population')\n",
    "avg_water = usage_raw.select([0, 'res_gpcd']).group(0, np.mean).relabeled(1, 'Water')\n",
    "usage = max_pop.join('pwsid', avg_water).relabeled(0, 'PWSID')\n",
    "usage\n"
   ]
  },
  {
   "cell_type": "markdown",
   "metadata": {},
   "source": [
    "We will try to match each ZIP code with a water district. ZIP code boundaries do not always line up with water districts, and one water district often covers multiple ZIP codes, so this process is imprecise. It is even the case that some water districts overlap each other. Nonetheless, we can continue our analysis by matching each ZIP code to the water district with the largest geographic overlap."
   ]
  },
  {
   "cell_type": "markdown",
   "metadata": {},
   "source": [
    "The table `wd_vs_zip` describes the proportion of land in each ZIP code that is contained in each water district and vis versa. (The proportions are approximate because they do not correctly account for discontiguous districts, but they're mostly accurate.)"
   ]
  },
  {
   "cell_type": "code",
   "execution_count": null,
   "metadata": {
    "collapsed": false
   },
   "outputs": [],
   "source": [
    "wd_vs_zip = Table.read_table('wd_vs_zip.csv', dtype={'PWSID': str, 'ZIP': str}).set_format([2, 3], PercentFormatter)\n",
    "wd_vs_zip.show(5)"
   ]
  },
  {
   "cell_type": "markdown",
   "metadata": {},
   "source": [
    "**Question 2.1.** Complete the `district_for_zip` function that takes a ZIP code. It returns the PWSID with the largest value of `ZIP in District` for that `zip_code`, if that value is at least 50%. Otherwise, it returns the string `'No District'`."
   ]
  },
  {
   "cell_type": "code",
   "execution_count": null,
   "metadata": {
    "collapsed": false
   },
   "outputs": [],
   "source": [
    "def district_for_zip(zip_code):\n",
    "    zip_code = str(zip_code) # Ensure that the ZIP code is a string, not an integer\n",
    "    districts = ...\n",
    "    at_least_half = ...\n",
    "    if at_least_half:\n",
    "        ...\n",
    "    else:\n",
    "        return 'No District'\n",
    "\n",
    "district_for_zip(94709)"
   ]
  },
  {
   "cell_type": "code",
   "execution_count": null,
   "metadata": {
    "collapsed": false
   },
   "outputs": [],
   "source": [
    "_ = hw04.grade('q21')"
   ]
  },
  {
   "cell_type": "markdown",
   "metadata": {},
   "source": [
    "This function can be used to associate each ZIP code in the `income` table with a `PWSID` and discard ZIP codes that do not lie (mostly) in a water district."
   ]
  },
  {
   "cell_type": "code",
   "execution_count": null,
   "metadata": {
    "collapsed": false
   },
   "outputs": [],
   "source": [
    "zip_pwsids = income.apply(district_for_zip, 'ZIP')\n",
    "income_with_pwsid = income.with_column('PWSID', zip_pwsids).where(zip_pwsids != \"No District\")\n",
    "income_with_pwsid.set_format(2, NumberFormatter(0)).show(5)"
   ]
  },
  {
   "cell_type": "markdown",
   "metadata": {},
   "source": [
    "**Question 2.2** Create a table called `district_data` with one row per PWSID and the following columns:\n",
    "\n",
    "- `PWSID`: The ID of the district\n",
    "- `Population`: Population estimate\n",
    "- `Water`: Annual water usage (per capita)\n",
    "- `Income`: Average income in dollars of all tax returns in ZIP codes that are (mostly) contained in the district according to `income_with_pwsid`.\n",
    "\n",
    "First create a `district_income` table that sums the incomes and returns for ZIP codes in each water district."
   ]
  },
  {
   "cell_type": "code",
   "execution_count": null,
   "metadata": {
    "collapsed": false
   },
   "outputs": [],
   "source": [
    "district_income = ...\n",
    "district_income"
   ]
  },
  {
   "cell_type": "code",
   "execution_count": null,
   "metadata": {
    "collapsed": false
   },
   "outputs": [],
   "source": [
    "district_data = ...\n",
    "\n",
    "district_data.set_format(['Population', 'Water', 'Income'], NumberFormatter(0))\n",
    "district_data "
   ]
  },
  {
   "cell_type": "code",
   "execution_count": null,
   "metadata": {
    "collapsed": false
   },
   "outputs": [],
   "source": [
    "_ = hw04.grade('q22')"
   ]
  },
  {
   "cell_type": "markdown",
   "metadata": {},
   "source": [
    "**Question 2.3.** The `bay_districts` table gives the names of all water districts in the San Francisco Bay Area. Use the tables you have created to compare water usage between the 10 Bay Area water districts with the highest average income and the rest. *Do not include any districts in your analysis for which you do not have income information.*"
   ]
  },
  {
   "cell_type": "code",
   "execution_count": null,
   "metadata": {
    "collapsed": false,
    "scrolled": true
   },
   "outputs": [],
   "source": [
    "bay_districts = Table.read_table('bay_districts.csv')\n",
    "bay_districts"
   ]
  },
  {
   "cell_type": "code",
   "execution_count": null,
   "metadata": {
    "collapsed": false,
    "scrolled": true
   },
   "outputs": [],
   "source": [
    "#First join the bay area districts table with the district_table on the pwsid \n",
    "bay_water_vs_income = ...\n",
    "bay_water_vs_income.sort('Income', descending=True)"
   ]
  },
  {
   "cell_type": "code",
   "execution_count": null,
   "metadata": {
    "collapsed": false
   },
   "outputs": [],
   "source": [
    "# Create a table with districts with the top 10 highest average income\n",
    "top_10 = ...\n",
    "top_10"
   ]
  },
  {
   "cell_type": "code",
   "execution_count": null,
   "metadata": {
    "collapsed": false
   },
   "outputs": [],
   "source": [
    "# Create a table with districts with the top 10 highest average income\n",
    "not_top_10 = ...\n",
    "not_top_10"
   ]
  },
  {
   "cell_type": "code",
   "execution_count": null,
   "metadata": {
    "collapsed": false
   },
   "outputs": [],
   "source": [
    "# Calculate the average water use per person per day for the top 10 wealthiest districts\n",
    "top_10_mean = ...\n",
    "# Calculate the average water user per person per day for the rest of the water districts\n",
    "not_top_10_mean = ...\n",
    "\n",
    "# calculate how much more water on average a person from a wealthy water district uses. \n",
    "difference = top_10_mean - not_top_10_mean\n",
    "if difference > 0 :\n",
    "    conclusion = \"In the Bay Area, people in the top 10 highest-income water districts used an average of \" \\\n",
    "             + str(difference) + \\\n",
    "             \" more gallons of water per person per day than people in the rest of the districts.\"\n",
    "else:\n",
    "    conclusion = \"In the Bay Area, people in the top 10 highest-income water districts used an average of \" \\\n",
    "             + str(-1* difference) + \\\n",
    "             \" fewer gallons of water per person per day than people in the rest of the districts.\"\n",
    "print(conclusion)"
   ]
  },
  {
   "cell_type": "code",
   "execution_count": null,
   "metadata": {
    "collapsed": false
   },
   "outputs": [],
   "source": [
    "_ = hw04.grade('q23')"
   ]
  },
  {
   "cell_type": "markdown",
   "metadata": {},
   "source": [
    "\n",
    "To submit:\n",
    "\n",
    "1. Select `Run All` from the `Cell` menu to ensure that you have executed all cells, including the test cells.\n",
    "3. Read through the notebook to make sure everything is fine.\n",
    "4. Submit using the cell below.\n",
    "\n",
    "If you have problems submitting your project come to office hours for assistance. The office hours\n",
    "schedule is on the class website.\n"
   ]
  },
  {
   "cell_type": "code",
   "execution_count": null,
   "metadata": {
    "collapsed": false
   },
   "outputs": [],
   "source": [
    "_ = hw04.submit()"
   ]
  },
  {
   "cell_type": "code",
   "execution_count": null,
   "metadata": {
    "collapsed": false
   },
   "outputs": [],
   "source": [
    "# For your convenience, you can run this cell to run all the tests at once!\n",
    "import os\n",
    "_ = [hw04.grade(q[:-3]) for q in os.listdir(\"tests\") if q.startswith('q')]"
   ]
  }
 ],
 "metadata": {
  "kernelspec": {
   "display_name": "dsc10",
   "language": "python",
   "name": "dsc10"
  },
  "language_info": {
   "codemirror_mode": {
    "name": "ipython",
    "version": 3
   },
   "file_extension": ".py",
   "mimetype": "text/x-python",
   "name": "python",
   "nbconvert_exporter": "python",
   "pygments_lexer": "ipython3",
   "version": "3.6.4"
  }
 },
 "nbformat": 4,
 "nbformat_minor": 1
}
