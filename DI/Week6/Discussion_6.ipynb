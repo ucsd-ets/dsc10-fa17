{
 "cells": [
  {
   "cell_type": "markdown",
   "metadata": {},
   "source": [
    "# DSC 10 Discussion 6\n",
    "\n",
    "Topics:\n",
    "    - Addition Rule\n",
    "    - Multiplication Rule\n",
    "    - Deterministic Sample\n",
    "    - Probability Sample\n",
    "    - Convenience Sample\n",
    "    - Systematic Sample\n",
    "    - Simple Random Sample\n",
    "    - Large Random Sample"
   ]
  },
  {
   "cell_type": "markdown",
   "metadata": {},
   "source": [
    "# Addition Rule and Multiplication Rule\n",
    "\n",
    "When two events, A and B, are mutually exclusive, the probability that A or B will occur is the sum of the probability of each event.\n",
    "P(A or B) = P(A) + P(B)\n",
    "\n",
    "When two events, A and B, are non-mutually exclusive, the probability that A or B will occur is:\n",
    "P(A or B) = P(A) + P(B) - P(A and B)\n",
    "\n",
    "When two events, A and B, are mutually exclusive, the probability that A and B will occur is the product of the probability of each event.\n",
    "P(A and B) = P(A) * P(B)\n",
    "\n",
    "In case of dependent events , the probability that both events occur simultaneously is:\n",
    "P(A and B)=P(A) * P(B|A)\n",
    "\n",
    "(The notation P(B|A) means \"the probability of B , given that A has happened.\")\n",
    "\n",
    "<span style=\"font-size: 5em\">----------------</span>"
   ]
  },
  {
   "cell_type": "markdown",
   "metadata": {},
   "source": [
    "A glass jar contains 1 red, 3 green, 2 blue, and 4 yellow marbles. If a single marble is chosen at random from the jar, what is the probability that it is yellow or green?"
   ]
  },
  {
   "cell_type": "code",
   "execution_count": null,
   "metadata": {
    "collapsed": true
   },
   "outputs": [],
   "source": [
    "Probability_of_yellow = ...\n",
    "Probability_of_green = ...\n",
    "Probability_of_yellow_or_green = ...\n",
    "print(Probability_of_yellow_or_green)"
   ]
  },
  {
   "cell_type": "markdown",
   "metadata": {},
   "source": [
    "A single card is chosen at random from a standard deck of 52 playing cards. What is the probability of choosing a king or a club?"
   ]
  },
  {
   "cell_type": "code",
   "execution_count": null,
   "metadata": {
    "collapsed": true
   },
   "outputs": [],
   "source": [
    "P_of_King = ...\n",
    "P_of_Club = ...\n",
    "P_of_King_and_Club = ...\n",
    "P_of_King_or_Club = ...\n",
    "print(P_of_King_or_Club)"
   ]
  },
  {
   "cell_type": "markdown",
   "metadata": {},
   "source": [
    "In a math class of 30 students, 17 are boys and 13 are girls. On a unit test, 4 boys and 5 girls made an A grade. If a student is chosen at random from the class, what is the probability of choosing a girl or an A student?"
   ]
  },
  {
   "cell_type": "code",
   "execution_count": null,
   "metadata": {
    "collapsed": true
   },
   "outputs": [],
   "source": [
    "P_of_girl = ...\n",
    "P_of_A_Student = ...\n",
    "P_of_A_Student_and_Girl = ...\n",
    "P_of_A_Student_or_Girl = ...\n",
    "print(P_of_A_Student_or_Girl)"
   ]
  },
  {
   "cell_type": "markdown",
   "metadata": {},
   "source": [
    "Suppose you take out two cards from a standard pack of cards one after another, without replacing the first card. What is probability that the first card is the ace of spades, and the second card is a heart?"
   ]
  },
  {
   "cell_type": "code",
   "execution_count": null,
   "metadata": {
    "collapsed": true
   },
   "outputs": [],
   "source": [
    "P_ace_of_spades = ...\n",
    "P_heart_given_first_card_was_ace_of_spade = ...\n",
    "P_first_card_ace_of_spade_and_second_card_is_heart = ...\n",
    "print(P_first_card_ace_of_spade_and_second_card_is_heart)"
   ]
  },
  {
   "cell_type": "markdown",
   "metadata": {},
   "source": [
    "Suppose you take out two cards from a standard pack of cards one after another, without replacing the first card. What is probability that one of the cards is the ace of spades, and the other card is a heart?"
   ]
  },
  {
   "cell_type": "code",
   "execution_count": null,
   "metadata": {
    "collapsed": true
   },
   "outputs": [],
   "source": [
    "P_heart = ...\n",
    "P_ace_of_spades_given_first_card_was_heart = ...\n",
    "P_first_card_heart_and_second_card_is_ace_of_spades = ...\n",
    "\n",
    "P_ace_of_spades_and_heart_any_order = ...\n",
    "print(P_ace_of_spades_and_heart_any_order)"
   ]
  },
  {
   "cell_type": "markdown",
   "metadata": {},
   "source": [
    "# Deterministic, Convenience,  Probability, Simple Random, and Systematic Samples\n",
    "\n",
    "Deterministic sampling does not involve chance\n",
    "\n",
    "Convenience sampling choosing the easiest elements to sample. \n",
    "\n",
    "A probability sample is one for which it is possible to calculate, before the sample is drawn, the chance with which any subset of elements will enter the sample.\n",
    "\n",
    "A probability sample is one for which it is possible to calculate, before the sample is drawn, the chance with which any subset of elements will enter the sample.\n",
    "\n",
    "A simple random sample is a subset of a statistical population in which each member of the subset has an equal probability of being chosen.\n",
    "\n",
    "<span style=\"font-size: 5em\">------------------</span>\n"
   ]
  },
  {
   "cell_type": "markdown",
   "metadata": {},
   "source": [
    "For each of the following scenarios state what type of sampling is being used."
   ]
  },
  {
   "cell_type": "markdown",
   "metadata": {},
   "source": [
    "\n",
    "\n"
   ]
  },
  {
   "cell_type": "markdown",
   "metadata": {},
   "source": [
    "A student is running for president of Muir College Council. They want to know how many people are going to vote for them. Assume all the students in Muir live on campus and all the dorms are numbered from 1 to 500. The canidate randomnly chooses a number between 1 and 500. After selecting that first dorm randomly they visit every 10th dorm, until they have visited 50 dorms. "
   ]
  },
  {
   "cell_type": "code",
   "execution_count": 2,
   "metadata": {
    "collapsed": true
   },
   "outputs": [],
   "source": [
    "answer_1 = \"...\""
   ]
  },
  {
   "cell_type": "markdown",
   "metadata": {},
   "source": [
    "The canidate visits the 50 dorms that are closest to their own dorm. "
   ]
  },
  {
   "cell_type": "code",
   "execution_count": 3,
   "metadata": {
    "collapsed": true
   },
   "outputs": [],
   "source": [
    "answer_2 = \"...\""
   ]
  },
  {
   "cell_type": "markdown",
   "metadata": {},
   "source": [
    "The canidate starts at dorm 1 and visits every 10th dorm."
   ]
  },
  {
   "cell_type": "code",
   "execution_count": 4,
   "metadata": {
    "collapsed": true
   },
   "outputs": [],
   "source": [
    "answer_3 = \"...\""
   ]
  },
  {
   "cell_type": "markdown",
   "metadata": {},
   "source": [
    "The canidate randomnly chooses 50 numbers between 1 and 500 without replacement where each number has the same chance of being chosen."
   ]
  },
  {
   "cell_type": "code",
   "execution_count": 5,
   "metadata": {
    "collapsed": true
   },
   "outputs": [],
   "source": [
    "answer_4 = \"...\""
   ]
  },
  {
   "cell_type": "markdown",
   "metadata": {},
   "source": [
    "The canidate is told that first years are 50% more likely to vote than other class levels. The canidate takes this into account in their sampling. They randomly select 50 dorms to poll, but before making their random selection they weight each dorm so for each selection there is a 50% chance of selecting a first-year dorm and a 50% chance of selecting a non-first year dorm. "
   ]
  },
  {
   "cell_type": "code",
   "execution_count": 6,
   "metadata": {
    "collapsed": true
   },
   "outputs": [],
   "source": [
    "answer_5 = \"...\""
   ]
  },
  {
   "cell_type": "markdown",
   "metadata": {},
   "source": [
    "# Large Random Samples\n",
    "\n",
    "If the sample size is large,\n",
    "then the empirical distribution of a uniform random sample\n",
    "matches the distribution of the population,\n",
    "with high probability. \n",
    "\n",
    "<span style=\"font-size: 5em\">------------------</span>"
   ]
  },
  {
   "cell_type": "markdown",
   "metadata": {},
   "source": [
    "The other canidates running for Muir College Council conduted their own polls. Afterwards all the canidates got together to compate results. All the canidates used the same sampling method. They all did a simple random sample, but one canidate sampled 5 dorms, another sampled 10, another sampled 15, and another sampled 100 dorms. \n",
    "\n",
    "If you were the editor of the student paper which poll would you publish the results of and why? \n",
    "___"
   ]
  },
  {
   "cell_type": "markdown",
   "metadata": {},
   "source": [
    "**Write Your Answer Here **"
   ]
  },
  {
   "cell_type": "markdown",
   "metadata": {},
   "source": [
    "---\n",
    "The law of averages states that if a chance experiment is repeated many times, independently, under the same conditions then the proportion of times tht an event occurs gets closer to the theoretical probability of the event. With this in mind we look at the results of the four polls and the ground truth. \n",
    "\n",
    "| Number of Dorms Polled | % Voting for Candidate A | % Voting for Candidate B | % Voting for Candidate C | % Voting for Candidate D |\n",
    "|------------------------|--------------------------|--------------------------|--------------------------|--------------------------|\n",
    "| 5                      | 80                       | 0                        | 0                        | 20                       |\n",
    "| 10                     | 50                       | 30                       | 10                       | 10                       |\n",
    "| 15                     | 60                       | 20                       | 13                       | 7                        |\n",
    "| 100                    | 54                       | 32                       | 6                        | 8                        |\n",
    "| 500 (Ground Truth)     | 50                       | 30                       | 10                       | 10                       |\n",
    "\n",
    "One of our class mates is surprised that the poll that only sampled 10 dorms was more accurate than the poll that sampled 100 dorms. They decide the law of averages must be broken. What do you tell them to settle their doubts?\n",
    "___"
   ]
  },
  {
   "cell_type": "markdown",
   "metadata": {},
   "source": [
    "** Write your answer here **"
   ]
  },
  {
   "cell_type": "code",
   "execution_count": null,
   "metadata": {
    "collapsed": true
   },
   "outputs": [],
   "source": []
  }
 ],
 "metadata": {
  "kernelspec": {
   "display_name": "Python 3",
   "language": "python",
   "name": "python3"
  },
  "language_info": {
   "codemirror_mode": {
    "name": "ipython",
    "version": 3
   },
   "file_extension": ".py",
   "mimetype": "text/x-python",
   "name": "python",
   "nbconvert_exporter": "python",
   "pygments_lexer": "ipython3",
   "version": "3.6.0"
  }
 },
 "nbformat": 4,
 "nbformat_minor": 2
}
