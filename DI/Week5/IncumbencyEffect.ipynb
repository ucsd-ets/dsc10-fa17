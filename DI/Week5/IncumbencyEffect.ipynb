{
 "cells": [
  {
   "cell_type": "code",
   "execution_count": 1,
   "metadata": {
    "collapsed": true
   },
   "outputs": [],
   "source": [
    "import numpy as np\n",
    "from datascience import *\n",
    "\n",
    "%matplotlib inline\n",
    "import matplotlib.pyplot as plots\n",
    "plots.style.use('fivethirtyeight')"
   ]
  },
  {
   "cell_type": "markdown",
   "metadata": {},
   "source": [
    "# DSC 10 Discussion Week 4\n",
    "\n",
    "Topics to go over: \n",
    "    - Joins\n",
    "        - Implementation\n",
    "    - Maps\n",
    "        - Implementation \n",
    "    - Iteration\n",
    "        - Comparison/Booleans\n",
    "        - Random Selection\n",
    "        - Control Statements"
   ]
  },
  {
   "cell_type": "markdown",
   "metadata": {
    "collapsed": true
   },
   "source": [
    "# Making Comparisons"
   ]
  },
  {
   "cell_type": "markdown",
   "metadata": {},
   "source": [
    "# The Incumbency Effect\n",
    "The following table contains data about every congressional representative from the 50 states (DC is not included) from 1995 onward. If an entry contains \"nan\" it means that there is no entry (i.e. a middlename of \"nan\" means the congressman or woman had no middle name)."
   ]
  },
  {
   "cell_type": "code",
   "execution_count": 2,
   "metadata": {},
   "outputs": [
    {
     "data": {
      "text/html": [
       "<table border=\"1\" class=\"dataframe\">\n",
       "    <thead>\n",
       "        <tr>\n",
       "            <th>congress</th> <th>chamber</th> <th>firstname</th> <th>middlename</th> <th>lastname</th> <th>birthday</th> <th>state</th> <th>party</th> <th>incumbent</th> <th>age</th> <th>Term Start</th>\n",
       "        </tr>\n",
       "    </thead>\n",
       "    <tbody>\n",
       "        <tr>\n",
       "            <td>104     </td> <td>house  </td> <td>Sidney   </td> <td>Richard   </td> <td>Yates     </td> <td>8/27/1909</td> <td>IL   </td> <td>D    </td> <td>Yes      </td> <td>85.4</td> <td>1995      </td>\n",
       "        </tr>\n",
       "    </tbody>\n",
       "        <tr>\n",
       "            <td>104     </td> <td>house  </td> <td>James    </td> <td>Henry     </td> <td>Quillen   </td> <td>1/11/1916</td> <td>TN   </td> <td>R    </td> <td>Yes      </td> <td>79  </td> <td>1995      </td>\n",
       "        </tr>\n",
       "    </tbody>\n",
       "        <tr>\n",
       "            <td>104     </td> <td>house  </td> <td>Henry    </td> <td>Barbosa   </td> <td>González  </td> <td>5/3/1916 </td> <td>TX   </td> <td>D    </td> <td>Yes      </td> <td>78.7</td> <td>1995      </td>\n",
       "        </tr>\n",
       "    </tbody>\n",
       "        <tr>\n",
       "            <td>104     </td> <td>house  </td> <td>Sam      </td> <td>Melville  </td> <td>Gibbons   </td> <td>1/20/1920</td> <td>FL   </td> <td>D    </td> <td>Yes      </td> <td>75  </td> <td>1995      </td>\n",
       "        </tr>\n",
       "    </tbody>\n",
       "        <tr>\n",
       "            <td>104     </td> <td>house  </td> <td>George   </td> <td>E.        </td> <td>Brown     </td> <td>3/6/1920 </td> <td>CA   </td> <td>D    </td> <td>Yes      </td> <td>74.8</td> <td>1995      </td>\n",
       "        </tr>\n",
       "    </tbody>\n",
       "        <tr>\n",
       "            <td>104     </td> <td>house  </td> <td>Gillespie</td> <td>V.        </td> <td>Montgomery</td> <td>8/5/1920 </td> <td>MS   </td> <td>D    </td> <td>Yes      </td> <td>74.4</td> <td>1995      </td>\n",
       "        </tr>\n",
       "    </tbody>\n",
       "        <tr>\n",
       "            <td>104     </td> <td>house  </td> <td>Tom      </td> <td>nan       </td> <td>Bevill    </td> <td>3/27/1921</td> <td>AL   </td> <td>D    </td> <td>Yes      </td> <td>73.8</td> <td>1995      </td>\n",
       "        </tr>\n",
       "    </tbody>\n",
       "        <tr>\n",
       "            <td>104     </td> <td>house  </td> <td>Barbara  </td> <td>Farrell   </td> <td>Vucanovich</td> <td>6/22/1921</td> <td>NV   </td> <td>R    </td> <td>Yes      </td> <td>73.5</td> <td>1995      </td>\n",
       "        </tr>\n",
       "    </tbody>\n",
       "        <tr>\n",
       "            <td>104     </td> <td>house  </td> <td>Carlos   </td> <td>John      </td> <td>Moorhead  </td> <td>5/6/1922 </td> <td>CA   </td> <td>R    </td> <td>Yes      </td> <td>72.7</td> <td>1995      </td>\n",
       "        </tr>\n",
       "    </tbody>\n",
       "        <tr>\n",
       "            <td>104     </td> <td>house  </td> <td>Benjamin </td> <td>nan       </td> <td>Gilman    </td> <td>12/6/1922</td> <td>NY   </td> <td>R    </td> <td>Yes      </td> <td>72.1</td> <td>1995      </td>\n",
       "        </tr>\n",
       "    </tbody>\n",
       "</table>\n",
       "<p>... (5439 rows omitted)</p"
      ],
      "text/plain": [
       "congress | chamber | firstname | middlename | lastname   | birthday  | state | party | incumbent | age  | Term Start\n",
       "104      | house   | Sidney    | Richard    | Yates      | 8/27/1909 | IL    | D     | Yes       | 85.4 | 1995\n",
       "104      | house   | James     | Henry      | Quillen    | 1/11/1916 | TN    | R     | Yes       | 79   | 1995\n",
       "104      | house   | Henry     | Barbosa    | González   | 5/3/1916  | TX    | D     | Yes       | 78.7 | 1995\n",
       "104      | house   | Sam       | Melville   | Gibbons    | 1/20/1920 | FL    | D     | Yes       | 75   | 1995\n",
       "104      | house   | George    | E.         | Brown      | 3/6/1920  | CA    | D     | Yes       | 74.8 | 1995\n",
       "104      | house   | Gillespie | V.         | Montgomery | 8/5/1920  | MS    | D     | Yes       | 74.4 | 1995\n",
       "104      | house   | Tom       | nan        | Bevill     | 3/27/1921 | AL    | D     | Yes       | 73.8 | 1995\n",
       "104      | house   | Barbara   | Farrell    | Vucanovich | 6/22/1921 | NV    | R     | Yes       | 73.5 | 1995\n",
       "104      | house   | Carlos    | John       | Moorhead   | 5/6/1922  | CA    | R     | Yes       | 72.7 | 1995\n",
       "104      | house   | Benjamin  | nan        | Gilman     | 12/6/1922 | NY    | R     | Yes       | 72.1 | 1995\n",
       "... (5439 rows omitted)"
      ]
     },
     "execution_count": 2,
     "metadata": {},
     "output_type": "execute_result"
    }
   ],
   "source": [
    "congress = Table().read_table(\"congress-terms-since1995.csv\").drop(2,6,13,14).where(\"incumbent\", are.not_equal_to(\"nan\"))\n",
    "true_date = make_array()\n",
    "for i in congress.column(\"termstart\"):\n",
    "     true_date = np.append(true_date, int(i[:-5:-1][::-1]))\n",
    "congress = congress.with_column(\n",
    "    \"Term Start\", true_date).drop(\"termstart\")\n",
    "congress"
   ]
  },
  {
   "cell_type": "markdown",
   "metadata": {},
   "source": [
    "# Question 1.1:\n",
    "Often times people who've already served in office are said to have an incumbency advantage: an advantage that comes from having prior experience, a well known name, and franking priviledges (they can send mail without paying postage). But just how big is this supposed advantage? Is there an advantage?\n",
    "\n",
    "In the cell below find out what proportion of representatives have been incumbents since 1995."
   ]
  },
  {
   "cell_type": "code",
   "execution_count": null,
   "metadata": {
    "collapsed": true
   },
   "outputs": [],
   "source": [
    "prop_incumbents = \n",
    "prop_incumbents"
   ]
  },
  {
   "cell_type": "markdown",
   "metadata": {},
   "source": [
    "# Question 1.2\n",
    "Of course the House and the Senate differ in many ways, from term lengths, to number of representatives, to jurisdiction of powers. Does one chamber have a higher incidence of incumbent advantage that the other?"
   ]
  },
  {
   "cell_type": "code",
   "execution_count": null,
   "metadata": {
    "collapsed": true
   },
   "outputs": [],
   "source": [
    "# house and senate are tables that only have data about their respective chambers \n",
    "house = \n",
    "senate = \n",
    "\n",
    "prop_incumbents_house = \n",
    "prop_incumbents_senate = \n",
    "\n",
    "print(\"Proportion of House who have been incumbents:\", prop_incumbents_house)\n",
    "print(\"Proportion of Senate who have been incumbents:\", prop_incumbents_senate)"
   ]
  },
  {
   "cell_type": "markdown",
   "metadata": {},
   "source": [
    "So it would seem that the senate, at least since 1995, has had a more pronounced incumbency effect. I encourage you to think about why this may be"
   ]
  },
  {
   "cell_type": "markdown",
   "metadata": {},
   "source": [
    "# Parties of Congressional Representatives\n",
    "Next, we are going to find what proportion of each state's representatives, since 1995, have been Republican or Democrat. Eventually, we're going to use that information to build a map."
   ]
  },
  {
   "cell_type": "markdown",
   "metadata": {},
   "source": [
    "First, let's see how the composition of each chamber Congress has changed since 1995."
   ]
  },
  {
   "cell_type": "code",
   "execution_count": null,
   "metadata": {
    "collapsed": true
   },
   "outputs": [],
   "source": [
    "#run cell\n",
    "house_plot = congress.where(\"chamber\", \"house\").pivot(\"party\", \"Term Start\").select(\"Term Start\", \"D\", \"R\")\\\n",
    ".relabeled(\"D\", \"Democrats\").relabeled(\"R\", \"Republicans\").scatter(0)\n",
    "house_plot"
   ]
  },
  {
   "cell_type": "code",
   "execution_count": null,
   "metadata": {
    "collapsed": true
   },
   "outputs": [],
   "source": [
    "#run cell\n",
    "senate_plot = congress.where(\"chamber\", \"senate\").pivot(\"party\", \"Term Start\").select(\"Term Start\", \"D\", \"R\")\\\n",
    ".relabeled(\"D\", \"Democrats\").relabeled(\"R\", \"Republicans\").scatter(0)\n",
    "senate_plot"
   ]
  },
  {
   "cell_type": "markdown",
   "metadata": {},
   "source": [
    "Obviously, the composition of congress has changed dramatically over the past few years. For the sake of simplicity, we'll only be looking at the overall proportion of democratic versus republican representatives a state has had in the given time."
   ]
  },
  {
   "cell_type": "markdown",
   "metadata": {},
   "source": [
    "The following cell creates a table called states that associates each state with the latitude and longitude of one of it's cities (for our purposes it doesn't matter which city it is, so long as the coordinates correspond with a point within each State's borders)."
   ]
  },
  {
   "cell_type": "code",
   "execution_count": null,
   "metadata": {
    "collapsed": true
   },
   "outputs": [],
   "source": [
    "#run cell\n",
    "abbreviations = Table().read_table(\"State_names_w_abbreviations.csv\")\n",
    "states_w_cities = Table.read_table(\"zip_codes_states.csv\").where(\n",
    "    \"latitude\", are.between_or_equal_to(0.01,360))\n",
    "states = abbreviations.join(\"Abbreviation\", states_w_cities, \"state\").drop(2,5,6)\n",
    "states"
   ]
  },
  {
   "cell_type": "markdown",
   "metadata": {},
   "source": [
    "# Question 2.1\n",
    "Now that we have a table with congressional data and one with coordinates associated with each state, it will be of some use to us to join the 2 tables. \n",
    "Use the .join method to create a new table that has a row for every representative and has all of the old congressional data PLUS the new longitude and latitude data. \n",
    "(Remember, the order you use .join matters. congress.join(-arguments-) is not the same as states.join(-arguments-)!!)"
   ]
  },
  {
   "cell_type": "code",
   "execution_count": null,
   "metadata": {
    "collapsed": true
   },
   "outputs": [],
   "source": [
    "combined = \n",
    "combined"
   ]
  },
  {
   "cell_type": "markdown",
   "metadata": {},
   "source": [
    "Now our goal is to make 2 maps: One displaying the top 10 most democratic states, and one displaying the top 10 most republican states.\n",
    "\n",
    "# Question 2.2\n",
    "In order to build our maps, the first thing we have to do is find out what proportion of representatives from each State are Republican or Democrat. There are several ways to do this, one of which is iteratively. In the cell below is a skeleton to solve the problem iteratively, but if you have another way to do it feel free to employ that in the blank cell 2 cells down.\n",
    "\n",
    "NOTE: Make sure the that each element of your array corresponds to exactly one state, and that the states each element corresponds to is in alphabetical order\n",
    "i.e. the first element of prop_democrat_array will be the proportion of democrats in AK."
   ]
  },
  {
   "cell_type": "code",
   "execution_count": null,
   "metadata": {
    "collapsed": true
   },
   "outputs": [],
   "source": [
    "#make an array that has the proportion of democratic representatives \n",
    "#for every state, and one for the proportion of republicans.\n",
    "prop_democrat_array = make_array()\n",
    "prop_republican_array = make_array()\n",
    "for i in _______: #______ = some iterable object. An array maybe? A column?\n",
    "    prop_democrat_one_state = \n",
    "    prop_republican_one_state =     \n",
    "    prop_democrat_array = np.append(prop_democrat_array, prop_democrat_one_state)\n",
    "    prop_republican_array = np.append(prop_republican_array, prop_republican_one_state)"
   ]
  },
  {
   "cell_type": "code",
   "execution_count": null,
   "metadata": {
    "collapsed": true
   },
   "outputs": [],
   "source": [
    "#Your own way\n",
    "prop_democrat_array = "
   ]
  },
  {
   "cell_type": "markdown",
   "metadata": {},
   "source": [
    "# Question 2.3\n",
    "now make a table called proportions_and_locations that has your new arrays appended onto it as columns. It should have 1 row for every state, and the following columns: latitude, longitude, State Abbreviation, Proportion Republican,and Proportion Democrat. They should be in that order as well."
   ]
  },
  {
   "cell_type": "code",
   "execution_count": null,
   "metadata": {
    "collapsed": true
   },
   "outputs": [],
   "source": [
    "proportions_and_locations = \n",
    "proportions_and_locations "
   ]
  },
  {
   "cell_type": "markdown",
   "metadata": {},
   "source": [
    "Now, we're almost ready to make our maps! First, make 2 tables: one called top_10_republican and one called top_10_democrat. Each should be the same as proportions_and_locations, except each should only have 10 rows for each of the states with the highest proportion of republican and democratic representatives, respectively. They should also only have the proportions for their own party (top_10_republicans shouldn't have a \"Proportion Democrat\" column and visa versa)"
   ]
  },
  {
   "cell_type": "code",
   "execution_count": null,
   "metadata": {
    "collapsed": true
   },
   "outputs": [],
   "source": [
    "top_10_republican = \n",
    "top_10_republican"
   ]
  },
  {
   "cell_type": "code",
   "execution_count": null,
   "metadata": {
    "collapsed": true
   },
   "outputs": [],
   "source": [
    "top_10_democrat = \n",
    "top_10_democrat"
   ]
  },
  {
   "cell_type": "markdown",
   "metadata": {},
   "source": [
    "The following cell takes each table you made and puts them in a suitable format to be read by the .map_table function. "
   ]
  },
  {
   "cell_type": "code",
   "execution_count": null,
   "metadata": {
    "collapsed": true,
    "scrolled": true
   },
   "outputs": [],
   "source": [
    "#run cell \n",
    "map_ready_top_10_democrat = top_10_democrat.drop(3).with_columns(\n",
    "    \"Color\", np.array([\"blue\"] * 10),\n",
    "    \"Size\", (top_10_democrat.column(3)**5)*(10**12))\n",
    "map_ready_top_10_republican = top_10_republican.drop(3).with_columns(\n",
    "    \"Color\", np.array([\"red\"] * 10),\n",
    "    \"Size\", (top_10_republican.column(3)**5)*(10**12))"
   ]
  },
  {
   "cell_type": "code",
   "execution_count": null,
   "metadata": {
    "collapsed": true
   },
   "outputs": [],
   "source": [
    "map_ready_top_10_democrat"
   ]
  },
  {
   "cell_type": "code",
   "execution_count": null,
   "metadata": {
    "collapsed": true
   },
   "outputs": [],
   "source": [
    "map_ready_top_10_republican"
   ]
  },
  {
   "cell_type": "markdown",
   "metadata": {},
   "source": [
    "Now, use .map_table to create 2 maps: One for the each of the above tables. Both should use circles whose size is proportionate to the proportion of republican or democrat representatives."
   ]
  },
  {
   "cell_type": "code",
   "execution_count": null,
   "metadata": {
    "collapsed": true
   },
   "outputs": [],
   "source": [
    "democrat_map = \n",
    "democrat_map"
   ]
  },
  {
   "cell_type": "code",
   "execution_count": null,
   "metadata": {
    "collapsed": true
   },
   "outputs": [],
   "source": [
    "republican_map = \n",
    "republican_map"
   ]
  },
  {
   "cell_type": "code",
   "execution_count": null,
   "metadata": {
    "collapsed": true
   },
   "outputs": [],
   "source": [
    "actors = Table.read_table('actors.csv')\n",
    "actors"
   ]
  },
  {
   "cell_type": "markdown",
   "metadata": {},
   "source": [
    "1.1 Find the number of actors whose number of movies are greater than 50 by using the table method \".where\"."
   ]
  },
  {
   "cell_type": "code",
   "execution_count": null,
   "metadata": {
    "collapsed": true
   },
   "outputs": [],
   "source": [
    "..."
   ]
  },
  {
   "cell_type": "markdown",
   "metadata": {},
   "source": [
    "1.2 Find the number of actors whose number of movies are greater than 50 without using the table method \".where\"."
   ]
  },
  {
   "cell_type": "code",
   "execution_count": null,
   "metadata": {
    "collapsed": true
   },
   "outputs": [],
   "source": [
    "..."
   ]
  },
  {
   "cell_type": "markdown",
   "metadata": {},
   "source": [
    "# Conditional Statement Review"
   ]
  },
  {
   "cell_type": "markdown",
   "metadata": {},
   "source": [
    "Chained Conditional Statement\n",
    "\n",
    "if x < y:\n",
    "\n",
    "    STATEMENTS_A\n",
    "    \n",
    "elif x > y:\n",
    "\n",
    "    STATEMENTS_B\n",
    "    \n",
    "else:\n",
    "\n",
    "    STATEMENTS_C"
   ]
  },
  {
   "cell_type": "markdown",
   "metadata": {},
   "source": [
    "Nested Conditional Statement\n",
    "\n",
    "if x < y:\n",
    "\n",
    "    STATEMENTS_A\n",
    "    \n",
    "else:\n",
    "\n",
    "    if x > y:\n",
    "    \n",
    "        STATEMENTS_B\n",
    "        \n",
    "    else:\n",
    "    \n",
    "        STATEMENTS_C"
   ]
  },
  {
   "cell_type": "markdown",
   "metadata": {},
   "source": [
    "2.1 Write a function that take in a string username and a string password and verify if the username and password match with the provided information."
   ]
  },
  {
   "cell_type": "code",
   "execution_count": null,
   "metadata": {
    "collapsed": true
   },
   "outputs": [],
   "source": [
    "myusername = \"aliceinwonderland\"\n",
    "mypassword = \"ilovenutella\"\n",
    "\n",
    "def verify(username, password):\n",
    "    #if the username is not correct, print out an error message \"No user found\"\n",
    "    \n",
    "    #if the username is correct but the password is not, \n",
    "    #print out an error message \"The password entered is not correct\"\n",
    "    \n",
    "    #if both the username and password are correct, print out \"Welcome back!\"\n",
    "    ..."
   ]
  },
  {
   "cell_type": "code",
   "execution_count": null,
   "metadata": {
    "collapsed": true
   },
   "outputs": [],
   "source": [
    "# run verify(myusername, mypassword) to see if you implement the function correctly\n",
    "verify(myusername, mypassword)"
   ]
  },
  {
   "cell_type": "markdown",
   "metadata": {},
   "source": [
    "# Iteration"
   ]
  },
  {
   "cell_type": "markdown",
   "metadata": {},
   "source": [
    "3.1 Write a function that takes in a list of numbers and prints out all the negative numbers from the list."
   ]
  },
  {
   "cell_type": "code",
   "execution_count": null,
   "metadata": {
    "collapsed": true
   },
   "outputs": [],
   "source": [
    "def printnegative(mylist):\n",
    "    ..."
   ]
  },
  {
   "cell_type": "code",
   "execution_count": null,
   "metadata": {
    "collapsed": true
   },
   "outputs": [],
   "source": [
    "#verify if the function above behaves correctly\n",
    "mylist = make_array(1,-1,4,0,-7,-12,3,-3)\n",
    "printnegative(mylist)"
   ]
  }
 ],
 "metadata": {
  "kernelspec": {
   "display_name": "Python 3",
   "language": "python",
   "name": "python3"
  },
  "language_info": {
   "codemirror_mode": {
    "name": "ipython",
    "version": 3
   },
   "file_extension": ".py",
   "mimetype": "text/x-python",
   "name": "python",
   "nbconvert_exporter": "python",
   "pygments_lexer": "ipython3",
   "version": "3.6.1"
  },
  "timetravel": {
   "allowedContentTypes": [
    "text/plain"
   ],
   "enabled": false,
   "version": "1.0"
  }
 },
 "nbformat": 4,
 "nbformat_minor": 2
}
