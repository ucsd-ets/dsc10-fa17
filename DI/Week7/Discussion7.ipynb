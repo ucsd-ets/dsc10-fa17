{
 "cells": [
  {
   "cell_type": "code",
   "execution_count": null,
   "metadata": {
    "collapsed": true
   },
   "outputs": [],
   "source": [
    "#Setup\n",
    "import numpy as np\n",
    "from datascience import *"
   ]
  },
  {
   "cell_type": "markdown",
   "metadata": {},
   "source": [
    "# Confidence Intervals"
   ]
  },
  {
   "cell_type": "markdown",
   "metadata": {},
   "source": [
    "So far, we have been mostly working with data about an entire population. But oftentimes it's difficult or impossible to collect data from entire population. For example, it's impossible to ask every single household in the united to state their annual income. That is where the power of bootstrapping and confidence intervals come in. We can use a random sample to estimate the parameters of the population."
   ]
  },
  {
   "cell_type": "markdown",
   "metadata": {},
   "source": [
    "We are going to use a dataset on baseball players. We have the entire popoluation data, but we want to practice useing confidence intervals, so ONLY use the table called SAMPLE."
   ]
  },
  {
   "cell_type": "code",
   "execution_count": null,
   "metadata": {
    "collapsed": false
   },
   "outputs": [],
   "source": [
    "all_players = Table.read_table(\"baseball.csv\").drop(0)\n",
    "sample = all_players.sample(350)\n",
    "sample"
   ]
  },
  {
   "cell_type": "markdown",
   "metadata": {},
   "source": [
    "### Question 1"
   ]
  },
  {
   "cell_type": "markdown",
   "metadata": {},
   "source": [
    "Right now we have one random sample of 350 players. If we computed the median player salary of this sample, would that be a good estimate of the median of the entire population of baseball players? Why or why not?"
   ]
  },
  {
   "cell_type": "markdown",
   "metadata": {},
   "source": [
    "*Write your answer and reasoning here*"
   ]
  },
  {
   "cell_type": "markdown",
   "metadata": {},
   "source": [
    "### Question 2"
   ]
  },
  {
   "cell_type": "markdown",
   "metadata": {},
   "source": [
    "Based off your answer above, we need more samples of baseball player data. But we are out of money- we cannot go and take another random sample from the population. What other method could we use to generate more samples from the data that we have?"
   ]
  },
  {
   "cell_type": "markdown",
   "metadata": {},
   "source": [
    "*Write your answer and reasoning here*"
   ]
  },
  {
   "cell_type": "markdown",
   "metadata": {},
   "source": [
    "### Question 3"
   ]
  },
  {
   "cell_type": "markdown",
   "metadata": {},
   "source": [
    "What two conditions need to be satisfied in your resample in order for the data to be valid? If you're stuck, refer to [this](https://www.inferentialthinking.com/chapters/11/2/bootstrap.html) section of the textbook"
   ]
  },
  {
   "cell_type": "markdown",
   "metadata": {},
   "source": [
    "*Write your answer and reasoning here*"
   ]
  },
  {
   "cell_type": "markdown",
   "metadata": {},
   "source": [
    "### Question 4"
   ]
  },
  {
   "cell_type": "markdown",
   "metadata": {},
   "source": [
    "The total bootstrap and confidence interval process is complicated, so we are going to break it down in several steps"
   ]
  },
  {
   "cell_type": "markdown",
   "metadata": {},
   "source": [
    "Define the function bootstrap_median, which performs one resample of your original data. This function should take one resample of of your original data (making sure you follow the conditions outlined in Question 3!), and computes the median annual baseball player salary for the resample"
   ]
  },
  {
   "cell_type": "code",
   "execution_count": null,
   "metadata": {
    "collapsed": true
   },
   "outputs": [],
   "source": [
    "def bootstrap_median(original_sample):\n",
    "    resample = ...\n",
    "    resample_median = ...\n",
    "    return ..."
   ]
  },
  {
   "cell_type": "markdown",
   "metadata": {},
   "source": [
    "### Question 5"
   ]
  },
  {
   "cell_type": "markdown",
   "metadata": {},
   "source": [
    "If we wanted to construct a 95% confidence interval, what \"ends\"/ percentiles of the data array would we take to form our confidence interval? Hint: if we want the \"middle\" 95% of the data, what percent of the data is left out on the ends? Hint: refer to [textbook](https://www.inferentialthinking.com/chapters/11/3/confidence-intervals.html) if you get stuck"
   ]
  },
  {
   "cell_type": "markdown",
   "metadata": {},
   "source": [
    "*Write your answer and reasoning here*"
   ]
  },
  {
   "cell_type": "markdown",
   "metadata": {},
   "source": [
    "### Question 6"
   ]
  },
  {
   "cell_type": "markdown",
   "metadata": {},
   "source": [
    "Define a function confidence_interval, which takes in the orginal_sample table of data, and a number of replications, and returns an array, where the first item in the array is the left end of the 95% confidence interval estimating the population median salary, and the second item is the right end of the interval. Hint: use the function you defined in question 4- don't repeat code. "
   ]
  },
  {
   "cell_type": "code",
   "execution_count": null,
   "metadata": {
    "collapsed": true
   },
   "outputs": [],
   "source": [
    "def confidence_interval(original_sample, replications):\n",
    "    result_medians = ..\n",
    "    for i in n...\n",
    "        resample_median = ...\n",
    "        result_medians = ...\n",
    "    left_end = ....\n",
    "    right_end = ...\n",
    "    return ...."
   ]
  },
  {
   "cell_type": "markdown",
   "metadata": {},
   "source": [
    "### Question 7"
   ]
  },
  {
   "cell_type": "markdown",
   "metadata": {},
   "source": [
    "Now lets compute a confidence interval! Use the function defined in question 6 to compute a 95% confidence interval for the population median annual baseball player salary, using the table sample as your original sample, and 10,000 replications"
   ]
  },
  {
   "cell_type": "code",
   "execution_count": null,
   "metadata": {
    "collapsed": true
   },
   "outputs": [],
   "source": [
    "c_i_95 = ...\n",
    "c_i_95"
   ]
  },
  {
   "cell_type": "markdown",
   "metadata": {},
   "source": [
    "### Question 8"
   ]
  },
  {
   "cell_type": "markdown",
   "metadata": {},
   "source": [
    "Now lets test your conceptual understanding of the interval. Since we computed a 95% confidence interval, does that mean that 95% of baseball players have an annual salary between the left and right ends of your interval? If not, what does the 95% confidence level represent?"
   ]
  },
  {
   "cell_type": "markdown",
   "metadata": {},
   "source": [
    "*Write your answer and reasoning here*"
   ]
  },
  {
   "cell_type": "markdown",
   "metadata": {},
   "source": [
    "# Mean"
   ]
  },
  {
   "cell_type": "markdown",
   "metadata": {},
   "source": [
    "The terms \"mean\" and \"average\" are often used interchangeably. Their definition is the sum of all the elements in an array divided by the total size of the array.\n",
    "\n",
    "Formally in mathematical notation it can be written as $$\\frac{1}{n}\\sum^n_{i=1}x_i$$ where $n$ is the number of elements in the array and $x_i$ is the ith element in the array."
   ]
  },
  {
   "cell_type": "code",
   "execution_count": null,
   "metadata": {
    "collapsed": false
   },
   "outputs": [],
   "source": [
    "some_numbers = make_array([0, 2, 3, 7, 15, 21])"
   ]
  },
  {
   "cell_type": "code",
   "execution_count": null,
   "metadata": {
    "collapsed": false
   },
   "outputs": [],
   "source": [
    "np.mean(some_numbers)"
   ]
  },
  {
   "cell_type": "markdown",
   "metadata": {},
   "source": [
    "Without using `numpy` functions `np.mean` or `np.average`, calculate the mean yourself and check that it is the same number."
   ]
  },
  {
   "cell_type": "code",
   "execution_count": null,
   "metadata": {
    "collapsed": false
   },
   "outputs": [],
   "source": [
    "# Your code here"
   ]
  },
  {
   "cell_type": "markdown",
   "metadata": {},
   "source": [
    "For data consisting only of ones and zeroes, the mean will represent the proportion of elements that are one.\n",
    "\n",
    "Now lets try it on our dataset!\n",
    "Using `np.mean`, find the proportion of baseball players that are pitchers.\n",
    "*(Hint: boolean values `False` and `True` can also serve as the equivalent of 0 and 1)*"
   ]
  },
  {
   "cell_type": "code",
   "execution_count": null,
   "metadata": {
    "collapsed": false,
    "scrolled": true
   },
   "outputs": [],
   "source": [
    "# Your code here"
   ]
  },
  {
   "cell_type": "markdown",
   "metadata": {},
   "source": [
    "Take a look at the histogram for the salaries of baseball players. Do you think that the median will be higher than the mean, the mean will be higher than the median, or they will be the same? "
   ]
  },
  {
   "cell_type": "code",
   "execution_count": null,
   "metadata": {
    "collapsed": false
   },
   "outputs": [],
   "source": [
    "# Your code here"
   ]
  },
  {
   "cell_type": "markdown",
   "metadata": {},
   "source": [
    "*Write your answer here*"
   ]
  },
  {
   "cell_type": "markdown",
   "metadata": {},
   "source": [
    "If someone asked you about how much money most baseball players make for their salaries, which would be a better statistic to use? The mean or median? Why? "
   ]
  },
  {
   "cell_type": "markdown",
   "metadata": {},
   "source": [
    "*Write your answer here*"
   ]
  },
  {
   "cell_type": "markdown",
   "metadata": {},
   "source": [
    "# Variance and Standard Deviation"
   ]
  },
  {
   "cell_type": "markdown",
   "metadata": {},
   "source": [
    "In lecture and the textbook, we went over the steps for calculating the variance of an array of data:\n",
    "\n",
    "1. Calculate the mean\n",
    "2. Subtract the mean from all the data points to get the deviations\n",
    "3. Square each deviation\n",
    "4. Calculate the mean of the squares of the deviations\n",
    "\n",
    "To put it in a nice mathematical formula:\n",
    "\n",
    "$$\\frac{1}{n}\\sum^n_{i=1}(x_i - \\bar{x})^2$$\n",
    "\n",
    "where $n$ is the number of elements in the array, $x_i$ is the ith element in the array, and $\\bar{x}$ is the mean of the array.\n",
    "\n",
    "The standard deviation is just the square root of the variance:\n",
    "\n",
    "$$\\sqrt{\\frac{1}{n}\\sum^n_{i=1}(x_i - \\bar{x})^2}$$"
   ]
  },
  {
   "cell_type": "code",
   "execution_count": null,
   "metadata": {
    "collapsed": false
   },
   "outputs": [],
   "source": [
    "np.std(some_numbers)"
   ]
  },
  {
   "cell_type": "markdown",
   "metadata": {},
   "source": [
    "Without using `numpy` function `np.std`, calculate the standard deviation yourself and check that it is the same number. You can use `np.mean` this time!"
   ]
  },
  {
   "cell_type": "code",
   "execution_count": null,
   "metadata": {
    "collapsed": false
   },
   "outputs": [],
   "source": [
    "# Your code here"
   ]
  },
  {
   "cell_type": "markdown",
   "metadata": {},
   "source": [
    "Standard deviation gives us a good \"standard\" way of measuring how far away data points are from the mean. Since every dataset is different, standard deviation \"standardizes\" our data so that using phrases like \"one standard deviation away\" are universally understood.\n",
    "\n",
    "According to Chebychev's Bounds, the proportion of data points within $z$ standard deviations of the mean is lower bounded by $1 - \\frac{1}{z^2}$. Find the proportion of players who earn within salaries two standard deviations."
   ]
  },
  {
   "cell_type": "code",
   "execution_count": null,
   "metadata": {
    "collapsed": false
   },
   "outputs": [],
   "source": [
    "sd = ...\n",
    "m = ...\n"
   ]
  },
  {
   "cell_type": "markdown",
   "metadata": {},
   "source": [
    "Does the proportion you calculated agree with Chebychev's Bounds?"
   ]
  },
  {
   "cell_type": "markdown",
   "metadata": {},
   "source": [
    "*Write your answer here*"
   ]
  }
 ],
 "metadata": {
  "kernelspec": {
   "display_name": "Python 3",
   "language": "python",
   "name": "python3"
  },
  "language_info": {
   "codemirror_mode": {
    "name": "ipython",
    "version": 3
   },
   "file_extension": ".py",
   "mimetype": "text/x-python",
   "name": "python",
   "nbconvert_exporter": "python",
   "pygments_lexer": "ipython3",
   "version": "3.6.0"
  }
 },
 "nbformat": 4,
 "nbformat_minor": 2
}
