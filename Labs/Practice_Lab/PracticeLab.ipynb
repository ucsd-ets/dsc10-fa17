{
 "cells": [
  {
   "cell_type": "markdown",
   "metadata": {},
   "source": [
    "## Practice Lab"
   ]
  },
  {
   "cell_type": "markdown",
   "metadata": {},
   "source": [
    "This lab is designed for everyone who might need an extra practice with for loops, if/elif/else statements and functions. There is no deadline for this lab, no grade."
   ]
  },
  {
   "cell_type": "code",
   "execution_count": null,
   "metadata": {
    "collapsed": false
   },
   "outputs": [],
   "source": [
    "# Don't change this cell; just run it. \n",
    "\n",
    "import numpy as np\n",
    "from datascience import *\n",
    "\n",
    "from client.api.notebook import Notebook\n",
    "ok = Notebook('practice_lab.ok')"
   ]
  },
  {
   "cell_type": "markdown",
   "metadata": {},
   "source": [
    "### For loop problems"
   ]
  },
  {
   "cell_type": "markdown",
   "metadata": {},
   "source": [
    "In this section you should use for loops only.(I know some problems can be solved without a loop). Each solution requires 2-3 lines of code. It is ok if you use more. \n",
    "\n",
    "You can use built-in method *range* that works similar to *np.arange*\n"
   ]
  },
  {
   "cell_type": "markdown",
   "metadata": {},
   "source": [
    "**Question 1.1** \n",
    "Print all natural numbers in reverse (from n to 1).\n",
    "\n",
    "Example: reverse(4)  \n",
    "Output: 4 3 2 1  (each number is on its own line)\n",
    "\n"
   ]
  },
  {
   "cell_type": "code",
   "execution_count": null,
   "metadata": {
    "collapsed": false
   },
   "outputs": [],
   "source": [
    "def reverse(n):\n",
    "    #Your code is here"
   ]
  },
  {
   "cell_type": "code",
   "execution_count": null,
   "metadata": {
    "collapsed": false
   },
   "outputs": [],
   "source": [
    "_ = ok.grade('q1_1')"
   ]
  },
  {
   "cell_type": "markdown",
   "metadata": {},
   "source": [
    "**Question 1.2** Print only even numbers from 1 to n\n",
    "\n",
    "Example: even_only(10)\n",
    "Output: 2 4 6 8 10 (each number is on its own line)"
   ]
  },
  {
   "cell_type": "code",
   "execution_count": null,
   "metadata": {
    "collapsed": true
   },
   "outputs": [],
   "source": [
    "def even_only(n):\n",
    "    #Your code is here"
   ]
  },
  {
   "cell_type": "code",
   "execution_count": null,
   "metadata": {
    "collapsed": true
   },
   "outputs": [],
   "source": [
    "_ = ok.grade('q1_2')"
   ]
  },
  {
   "cell_type": "markdown",
   "metadata": {},
   "source": [
    "**Question 1.3** If we list all the natural numbers below 10 that are multiples of 3 or 5, we get 3, 5, 6 and 9. The sum of these multiples is 23. Find the sum of all the multiples of 3 or 5 below n.\n",
    "\n",
    "Example: sum_mult_3_5(10)\n",
    "Output: 23\n"
   ]
  },
  {
   "cell_type": "code",
   "execution_count": null,
   "metadata": {
    "collapsed": true
   },
   "outputs": [],
   "source": [
    "def sum_mult_3_5(n):\n",
    "    #Your code is here"
   ]
  },
  {
   "cell_type": "code",
   "execution_count": null,
   "metadata": {
    "collapsed": true
   },
   "outputs": [],
   "source": [
    "_ = ok.grade('q1_3')"
   ]
  },
  {
   "cell_type": "markdown",
   "metadata": {},
   "source": [
    "**Question 1.4 ** Print the series of numbers from 1 to n inclusive that is the result of a multiplication with the number 4.\n",
    "\n",
    "Example: mult_4(10)\n",
    "Output: 4 8 12 16...40\n",
    "\n"
   ]
  },
  {
   "cell_type": "code",
   "execution_count": null,
   "metadata": {
    "collapsed": false
   },
   "outputs": [],
   "source": [
    "def mult_4(n):\n",
    "    # Your code is here"
   ]
  },
  {
   "cell_type": "code",
   "execution_count": null,
   "metadata": {
    "collapsed": true
   },
   "outputs": [],
   "source": [
    "_ = ok.grade('q1_4')"
   ]
  },
  {
   "cell_type": "markdown",
   "metadata": {},
   "source": [
    "**Question 1.5** Print all odd numbers that are divisible by 3 from a given range (inclusive)\n",
    "\n",
    "Example: odd_range(2, 15)\n",
    "Output: 3 9 15"
   ]
  },
  {
   "cell_type": "code",
   "execution_count": null,
   "metadata": {
    "collapsed": false
   },
   "outputs": [],
   "source": [
    "def odd_range(lower, upper):\n",
    "    #Your code is here"
   ]
  },
  {
   "cell_type": "code",
   "execution_count": null,
   "metadata": {
    "collapsed": true
   },
   "outputs": [],
   "source": [
    "_ = ok.grade('q1_5')"
   ]
  },
  {
   "cell_type": "markdown",
   "metadata": {},
   "source": [
    "**Question 1.6 ** Print the first n powers of 2 \n",
    "\n",
    "Example: pow_2(5)\n",
    "Output: 1 2 4 8 16"
   ]
  },
  {
   "cell_type": "code",
   "execution_count": null,
   "metadata": {
    "collapsed": true
   },
   "outputs": [],
   "source": [
    "def pow_2(n):\n",
    "    #your code is here"
   ]
  },
  {
   "cell_type": "code",
   "execution_count": null,
   "metadata": {
    "collapsed": true
   },
   "outputs": [],
   "source": [
    "_ = ok.grade('q1_6')"
   ]
  },
  {
   "cell_type": "markdown",
   "metadata": {},
   "source": [
    "**Question 1.7** Print all divisors of number n\n",
    "\n",
    "Example: divisors(12)\n",
    "Output: 1 2 3 4 6 12"
   ]
  },
  {
   "cell_type": "code",
   "execution_count": null,
   "metadata": {
    "collapsed": true
   },
   "outputs": [],
   "source": [
    "def divisors(n):\n",
    "    # Your code is here\n",
    "    "
   ]
  },
  {
   "cell_type": "code",
   "execution_count": null,
   "metadata": {
    "collapsed": true
   },
   "outputs": [],
   "source": [
    "_ = ok.grade('q1_7')"
   ]
  },
  {
   "cell_type": "markdown",
   "metadata": {},
   "source": [
    "**Question 1.8**  Replace each vowel (a, e, i, o, u) in a given string by a \"*\"\n",
    "\n",
    "Example: replace(\"Marina\")\n",
    "Output: M\\*r\\*n*\n",
    "\n",
    "Note: this function needs more than 3 lines"
   ]
  },
  {
   "cell_type": "code",
   "execution_count": null,
   "metadata": {
    "collapsed": false
   },
   "outputs": [],
   "source": [
    "def replace(string):\n",
    "    # Your code is here"
   ]
  },
  {
   "cell_type": "code",
   "execution_count": null,
   "metadata": {
    "collapsed": true
   },
   "outputs": [],
   "source": [
    "_ = ok.grade('q1_8')"
   ]
  },
  {
   "cell_type": "markdown",
   "metadata": {},
   "source": [
    "## Functions"
   ]
  },
  {
   "cell_type": "markdown",
   "metadata": {},
   "source": [
    "In this section you will write a few functions that also might use loops\n",
    "but will be a bit longer compared to Part 1. "
   ]
  },
  {
   "cell_type": "markdown",
   "metadata": {},
   "source": [
    "**Question 2.1** n! means n × (n − 1) × ... × 3 × 2 × 1\n",
    "For example, 10! = 10 × 9 × ... × 3 × 2 × 1 = 3628800, \n",
    "and the sum of the digits in the number 10! is 3 + 6 + 2 + 8 + 8 + 0 + 0 = 27. So 27 is the sum of the digits of 10!.\n",
    "\n",
    "Write a function that takes in a positive integer *n* and returns the sum of the digits of n!.\n",
    "\n",
    "\n",
    "Example: def factorial_digit_sum(10)\n",
    "Output: 27"
   ]
  },
  {
   "cell_type": "code",
   "execution_count": null,
   "metadata": {
    "collapsed": true
   },
   "outputs": [],
   "source": [
    "def factorial_digit_sum(n):\n",
    "    #Your code is here"
   ]
  },
  {
   "cell_type": "code",
   "execution_count": null,
   "metadata": {
    "collapsed": true
   },
   "outputs": [],
   "source": [
    "_ = ok.grade('q2_1')"
   ]
  },
  {
   "cell_type": "markdown",
   "metadata": {},
   "source": [
    "**Question 2.2**  Create a function named *temp_converter* takes two arguments *temp* and *direction*. By default *direction* is set to True and the *temp* is converted from Fahrenheit degree to Celsius. If direction is set to False, then the *temp* is converted from Celsius to Fahrenheit degree.\n",
    "\n",
    "Convertion Formulas (Round the output into integer.):  \n",
    "\n",
    "$$C = (F-32)*\\frac{5}{9}$$\n",
    "$$F = (C * \\frac{9}{5}) + 32$$\n",
    "\n",
    "Example1: temp_converter(100)\n",
    "Output: 27\n",
    "\n",
    "Example2: temp_converter(100, direction = False)<br>\n",
    "Output: 212\n"
   ]
  },
  {
   "cell_type": "code",
   "execution_count": null,
   "metadata": {
    "collapsed": false
   },
   "outputs": [],
   "source": [
    "def temp_converter(temp, direction =  True):\n",
    "    if (direction):\n",
    "        y = int((temp-32)*(5/9))\n",
    "        return y\n",
    "    else:\n",
    "        y = int(temp*(9/5)+32)\n",
    "        return y\n",
    "    \n",
    "temp_converter(100, direction = False)\n",
    "        \n",
    "\n",
    "\n"
   ]
  },
  {
   "cell_type": "code",
   "execution_count": null,
   "metadata": {
    "collapsed": true
   },
   "outputs": [],
   "source": [
    "_ = ok.grade('q2_2')"
   ]
  },
  {
   "cell_type": "markdown",
   "metadata": {},
   "source": [
    "**Question 2.3** Write a function named *num_pattern* that takes in an number n from 1 to 9, and returns a number which constructed with n digits of n. For example, 9 will return 999999999. Return error message if the number is out of range.\n",
    "\n",
    "Example: num_pattern(9)\n",
    "Output: 999999999"
   ]
  },
  {
   "cell_type": "code",
   "execution_count": null,
   "metadata": {
    "collapsed": true
   },
   "outputs": [],
   "source": [
    "def num_pattern(n):\n",
    "    # Your code is here"
   ]
  },
  {
   "cell_type": "code",
   "execution_count": null,
   "metadata": {
    "collapsed": true
   },
   "outputs": [],
   "source": [
    "_ = ok.grade('q2_3')"
   ]
  },
  {
   "cell_type": "markdown",
   "metadata": {},
   "source": [
    "**Question 2.4**  Given a list of integers, return *True* if the numbers 1, 2, 3 (might be some other numbers between them) appears in the array somewhere.\n",
    "\n",
    "Example1: seq_123([1, 1, 2, 3, 1])\n",
    "Output: True\n",
    "\n",
    "Example2: seq_123([1, 1, 2, 4, 1])\n",
    "Output: False\n",
    "\n",
    "Example3: seq_123([1, 1, 2, 4, 3])\n",
    "Output: True"
   ]
  },
  {
   "cell_type": "code",
   "execution_count": null,
   "metadata": {
    "collapsed": false
   },
   "outputs": [],
   "source": [
    "def seq_123(lst):\n",
    "    #Your code is here"
   ]
  },
  {
   "cell_type": "code",
   "execution_count": null,
   "metadata": {
    "collapsed": true
   },
   "outputs": [],
   "source": [
    "_ = ok.grade('q2_4')"
   ]
  },
  {
   "cell_type": "markdown",
   "metadata": {},
   "source": [
    "** Question 2.5 ** The squirrels in San Diego spend most of the day playing. In particular, they play if the temperature is between 60 and 90 (inclusive). Unless it is summer, then the upper limit is 100 instead of 90. Given an int temperature and a boolean *is_summer*, return True if the squirrels play and False otherwise.\n",
    "\n",
    "Example1: play(70, False)\n",
    "Output: False\n",
    "\n",
    "Example2: play(95, False)\n",
    "Output: False\n",
    "\n",
    "Example3: play(95, True)\n",
    "Output: True\n"
   ]
  },
  {
   "cell_type": "code",
   "execution_count": null,
   "metadata": {
    "collapsed": true
   },
   "outputs": [],
   "source": [
    "def play(temp, is_summer):\n",
    "    #Your code is here"
   ]
  },
  {
   "cell_type": "code",
   "execution_count": null,
   "metadata": {
    "collapsed": true
   },
   "outputs": [],
   "source": [
    "_ = ok.grade('q2_5')"
   ]
  },
  {
   "cell_type": "markdown",
   "metadata": {},
   "source": [
    "## Other questions"
   ]
  },
  {
   "cell_type": "markdown",
   "metadata": {},
   "source": [
    "**Question 3.1** What are the types of a - e given that *tbl_list* is a list of tables with columns filled with Strings?\n",
    "\n",
    "![](other.png)\n",
    "\n",
    "Assign variables a-e to any of the possible choices given below:\n",
    "\n",
    "1. list\n",
    "2. int\n",
    "3. string\n",
    "4. table\n",
    "5. array\n",
    "6. function\n",
    "7. error\n"
   ]
  },
  {
   "cell_type": "code",
   "execution_count": null,
   "metadata": {
    "collapsed": false
   },
   "outputs": [],
   "source": [
    "str_arr = make_array(\"I\", \"am\", \"a\", \"beautiful\", \"table\")\n",
    "tbl1 = Table().with_columns(\"First\", str_arr, \"Second\", str_arr)\n",
    "tbl2 = Table().with_columns(\"First\", str_arr, \"Second\", str_arr)\n",
    "tbl3 = Table().with_columns(\"First\", str_arr, \"Second\", str_arr)\n",
    "tbl4 = Table().with_columns(\"First\", str_arr, \"Second\", str_arr)\n",
    "tbl5 = Table().with_columns(\"First\", str_arr, \"Second\", str_arr)\n",
    "tbl_list = [tbl1, tbl2, tbl3, tbl4, tbl5]"
   ]
  },
  {
   "cell_type": "code",
   "execution_count": null,
   "metadata": {
    "collapsed": true
   },
   "outputs": [],
   "source": [
    "a = ...\n",
    "b = ...\n",
    "c = ...\n",
    "d = ...\n",
    "e = ..."
   ]
  },
  {
   "cell_type": "code",
   "execution_count": null,
   "metadata": {
    "collapsed": false
   },
   "outputs": [],
   "source": [
    "_ = ok.grade('q3_1')"
   ]
  },
  {
   "cell_type": "code",
   "execution_count": null,
   "metadata": {
    "collapsed": true
   },
   "outputs": [],
   "source": []
  }
 ],
 "metadata": {
  "kernelspec": {
   "display_name": "Python 3",
   "language": "python",
   "name": "python3"
  },
  "language_info": {
   "codemirror_mode": {
    "name": "ipython",
    "version": 3
   },
   "file_extension": ".py",
   "mimetype": "text/x-python",
   "name": "python",
   "nbconvert_exporter": "python",
   "pygments_lexer": "ipython3",
   "version": "3.6.0"
  }
 },
 "nbformat": 4,
 "nbformat_minor": 2
}
